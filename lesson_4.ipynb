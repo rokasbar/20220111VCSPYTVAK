{
 "cells": [
  {
   "cell_type": "markdown",
   "metadata": {},
   "source": [
    "# IF salyga"
   ]
  },
  {
   "cell_type": "code",
   "execution_count": 1,
   "metadata": {},
   "outputs": [
    {
     "name": "stdout",
     "output_type": "stream",
     "text": [
      "x yra daugiau uz 2\n"
     ]
    }
   ],
   "source": [
    "#sintake\n",
    "\n",
    "x = 5\n",
    "if x > 2:\n",
    "    print('x yra daugiau uz 2')"
   ]
  },
  {
   "cell_type": "code",
   "execution_count": 2,
   "metadata": {},
   "outputs": [],
   "source": [
    "x = 2\n",
    "if x > 2:\n",
    "    print('x yra daugiau uz 2')\n",
    "#atsakymo neduoda nes nera 'ELSE'"
   ]
  },
  {
   "cell_type": "code",
   "execution_count": 3,
   "metadata": {},
   "outputs": [
    {
     "name": "stdout",
     "output_type": "stream",
     "text": [
      "Sveikas, kas tu toks\n",
      "pabaiga\n"
     ]
    }
   ],
   "source": [
    "vardas = 'Antanas'\n",
    "if vardas == 'Jonas':\n",
    "    print('Sveikas, Jonai')\n",
    "else:\n",
    "    print('Sveikas, kas tu toks')\n",
    "print('pabaiga') #print is naujos eilutes bus tik pabaigoje"
   ]
  },
  {
   "cell_type": "code",
   "execution_count": 4,
   "metadata": {},
   "outputs": [
    {
     "name": "stdout",
     "output_type": "stream",
     "text": [
      "y yra tarp 10 ir 20\n"
     ]
    }
   ],
   "source": [
    "y = 15\n",
    "if y > 10 and y < 20:\n",
    "    print('y yra tarp 10 ir 20')\n",
    "elif y > 10 and x >= 20:    #papildomas ifas\n",
    "    print('y > 10 ir x >= 2')\n",
    "else:\n",
    "    print('neatitinka salygu')\n"
   ]
  },
  {
   "cell_type": "markdown",
   "metadata": {},
   "source": [
    "# LYGYBES ZENKLAS"
   ]
  },
  {
   "cell_type": "code",
   "execution_count": 5,
   "metadata": {},
   "outputs": [],
   "source": [
    "# = reiksmes priskirimas\n",
    "# == vertes palyginimas"
   ]
  },
  {
   "cell_type": "markdown",
   "metadata": {},
   "source": [
    "# if uzduotys, panasios bus ND"
   ]
  },
  {
   "cell_type": "code",
   "execution_count": 6,
   "metadata": {},
   "outputs": [
    {
     "name": "stdout",
     "output_type": "stream",
     "text": [
      "0\n",
      "3\n",
      "6\n",
      "9\n",
      "12\n",
      "15\n",
      "18\n"
     ]
    }
   ],
   "source": [
    "#1 \n",
    "for number in range(20):\n",
    "    if number % 3 == 0:\n",
    "        print(number)\n"
   ]
  },
  {
   "cell_type": "code",
   "execution_count": 7,
   "metadata": {},
   "outputs": [
    {
     "ename": "IndentationError",
     "evalue": "expected an indented block (Temp/ipykernel_8500/294947518.py, line 5)",
     "output_type": "error",
     "traceback": [
      "\u001b[1;36m  Input \u001b[1;32mIn [7]\u001b[1;36m\u001b[0m\n\u001b[1;33m    suma += number\u001b[0m\n\u001b[1;37m    ^\u001b[0m\n\u001b[1;31mIndentationError\u001b[0m\u001b[1;31m:\u001b[0m expected an indented block\n"
     ]
    }
   ],
   "source": [
    "#2\n",
    "suma = 0\n",
    "for number in range(1,51):\n",
    "    if (number + suma) % 2 == 0:\n",
    "    suma += number\n",
    "    print(suma)"
   ]
  },
  {
   "cell_type": "code",
   "execution_count": null,
   "metadata": {},
   "outputs": [
    {
     "name": "stdout",
     "output_type": "stream",
     "text": [
      "<class 'str'>\n",
      "skaicius pakeltas kvadratu yra lyginis\n"
     ]
    }
   ],
   "source": [
    "# 3 uzduotis\n",
    "\n",
    "#irasykite skaiciu\n",
    "number = input('iveskite skaiciu:')\n",
    "print(type(number))\n",
    "number = int(number)\n",
    "if (number **2) % 2 != 0:\n",
    "    for num in range(1,11):\n",
    "        print(num*number)\n",
    "else:\n",
    "    print('skaicius pakeltas kvadratu yra lyginis')"
   ]
  },
  {
   "cell_type": "code",
   "execution_count": 13,
   "metadata": {},
   "outputs": [
    {
     "name": "stdout",
     "output_type": "stream",
     "text": [
      "[('Pirmadienis', 10), ('Pirmadienis', 11), ('Pirmadienis', 12), ('Pirmadienis', 13), ('Pirmadienis', 14), ('Pirmadienis', 15), ('Pirmadienis', 16), ('Pirmadienis', 17), ('Pirmadienis', 18), ('Pirmadienis', 19), ('Treciadienis', 10), ('Treciadienis', 11), ('Treciadienis', 12), ('Treciadienis', 13), ('Treciadienis', 14), ('Treciadienis', 15), ('Treciadienis', 16), ('Treciadienis', 17), ('Treciadienis', 18), ('Treciadienis', 19)]\n"
     ]
    }
   ],
   "source": [
    "#4 uzduotis\n",
    "\n",
    "dienos = ['Pirmadienis', 'Antradienis', 'Treciadienis', 'Ketvirtadienis', 'Penktadienis', 'Sestadienis', 'Sekmadienis']\n",
    "valandos = [10, 11, 12, 13, 14, 15, 16, 17, 18, 19]\n",
    "\n",
    "kombinacijos = []\n",
    "tinkamos_dienos = ['Pirmadienis', 'Treciadienis']\n",
    "for diena in dienos:\n",
    "    if diena in tinkamos_dienos:\n",
    "        for valanda in valandos:\n",
    "            kombinacijos.append((diena, valanda))\n",
    "print(kombinacijos)"
   ]
  },
  {
   "cell_type": "markdown",
   "metadata": {},
   "source": [
    "# None deklaracija"
   ]
  },
  {
   "cell_type": "code",
   "execution_count": null,
   "metadata": {},
   "outputs": [
    {
     "name": "stdout",
     "output_type": "stream",
     "text": [
      "<class 'NoneType'>\n"
     ]
    }
   ],
   "source": [
    "#kai nera nieko deklaruoja nieko\n",
    "\n",
    "Niekas = None\n",
    "print(type(Niekas))"
   ]
  },
  {
   "cell_type": "markdown",
   "metadata": {},
   "source": [
    "# List comprehesnsion"
   ]
  },
  {
   "cell_type": "code",
   "execution_count": null,
   "metadata": {},
   "outputs": [
    {
     "name": "stdout",
     "output_type": "stream",
     "text": [
      "0\n",
      "3\n",
      "6\n",
      "9\n",
      "12\n",
      "15\n",
      "18\n"
     ]
    }
   ],
   "source": [
    "#numbers = list(range(21))\n",
    "#for number in range(20):\n",
    "    #if number % 3 == 0:\n",
    "        #print(number)"
   ]
  },
  {
   "cell_type": "code",
   "execution_count": null,
   "metadata": {},
   "outputs": [
    {
     "name": "stdout",
     "output_type": "stream",
     "text": [
      "[0, 3, 6, 9, 12, 15, 18]\n"
     ]
    }
   ],
   "source": [
    "#kitoks budas, galima daug trumpiau pasirasyti\n",
    "numbers = list(range(21))\n",
    "dividible_by_3 = [number for number in numbers if number %3 == 0]\n",
    "print(dividible_by_3)"
   ]
  },
  {
   "cell_type": "markdown",
   "metadata": {},
   "source": [
    "# Dictionary duomenu tipas"
   ]
  },
  {
   "cell_type": "code",
   "execution_count": null,
   "metadata": {},
   "outputs": [],
   "source": [
    "#turim raktazodi ir kiekvienas raktazodis turi kazkokia verte -skaicia, tekstas, sarasas t.t\n",
    "#jie neturi sekos parametru - neturi indeksu\n",
    "#patofu laikyti informacija juose, ir issitraukti\n",
    "#banguoti skliautai\n",
    "\n",
    "my_dict = {\n",
    "    'name': 'Darius',\n",
    "    'surname': 'Grigaliunas',\n",
    "    'age': 26,\n",
    "    'hobbies': ['tennis','videogames']\n",
    "}\n",
    "\n",
    "#name, surname, age, hobbies yra KEYS"
   ]
  },
  {
   "cell_type": "code",
   "execution_count": null,
   "metadata": {},
   "outputs": [
    {
     "name": "stdout",
     "output_type": "stream",
     "text": [
      "Darius\n",
      "['tennis', 'videogames']\n",
      "25\n"
     ]
    }
   ],
   "source": [
    "print(my_dict['name'])\n",
    "print(my_dict['hobbies'])\n",
    "\n",
    "#galima pakeisiti reiksme paciam dictionary\n",
    "my_dict['age'] = 25\n",
    "print(my_dict['age'])"
   ]
  },
  {
   "cell_type": "code",
   "execution_count": null,
   "metadata": {},
   "outputs": [],
   "source": [
    "disct_1 = {\n",
    "    1 : 'uno',\n",
    "    2 : 'dos',\n",
    "    5 : 'finco',\n",
    "    0 : 'Falsee'\n",
    "}"
   ]
  },
  {
   "cell_type": "code",
   "execution_count": null,
   "metadata": {},
   "outputs": [
    {
     "name": "stdout",
     "output_type": "stream",
     "text": [
      "uno\n",
      "Falsee\n"
     ]
    }
   ],
   "source": [
    "print(disct_1[1])\n",
    "print(disct_1[False]) # 0 yra False, bet koks skaicius True"
   ]
  },
  {
   "cell_type": "code",
   "execution_count": null,
   "metadata": {},
   "outputs": [],
   "source": [
    "#1 uzduotis\n",
    "car =\t{\n",
    "  \"brand\": \"Ford\",\n",
    "  \"model\": \"Mustang\",\n",
    "  \"year\": 1964\n",
    "}\n",
    "\n"
   ]
  },
  {
   "cell_type": "code",
   "execution_count": null,
   "metadata": {},
   "outputs": [
    {
     "name": "stdout",
     "output_type": "stream",
     "text": [
      "Ford\n",
      "3\n",
      "2020\n"
     ]
    }
   ],
   "source": [
    "#1 uzduotis\n",
    "print(car['brand'])\n",
    "print(len(car))\n",
    "car['year'] = 2020\n",
    "print(car['year'])\n"
   ]
  },
  {
   "cell_type": "code",
   "execution_count": null,
   "metadata": {},
   "outputs": [
    {
     "ename": "TypeError",
     "evalue": "'builtin_function_or_method' object is not subscriptable",
     "output_type": "error",
     "traceback": [
      "\u001b[1;31m---------------------------------------------------------------------------\u001b[0m",
      "\u001b[1;31mTypeError\u001b[0m                                 Traceback (most recent call last)",
      "Input \u001b[1;32mIn [70]\u001b[0m, in \u001b[0;36m<module>\u001b[1;34m\u001b[0m\n\u001b[0;32m      1\u001b[0m \u001b[38;5;66;03m#2 uzduotis\u001b[39;00m\n\u001b[1;32m----> 2\u001b[0m \u001b[43mcar\u001b[49m\u001b[38;5;241;43m.\u001b[39;49m\u001b[43mupdate\u001b[49m\u001b[43m[\u001b[49m\u001b[43m{\u001b[49m\u001b[38;5;124;43m'\u001b[39;49m\u001b[38;5;124;43mcolor\u001b[39;49m\u001b[38;5;124;43m'\u001b[39;49m\u001b[43m:\u001b[49m\u001b[43m \u001b[49m\u001b[38;5;124;43m'\u001b[39;49m\u001b[38;5;124;43mred\u001b[39;49m\u001b[38;5;124;43m'\u001b[39;49m\u001b[43m,\u001b[49m\u001b[43m \u001b[49m\u001b[38;5;124;43m'\u001b[39;49m\u001b[38;5;124;43mused\u001b[39;49m\u001b[38;5;124;43m'\u001b[39;49m\u001b[43m:\u001b[49m\u001b[43m \u001b[49m\u001b[38;5;28;43;01mTrue\u001b[39;49;00m\u001b[43m}\u001b[49m\u001b[43m]\u001b[49m\n\u001b[0;32m      3\u001b[0m \u001b[38;5;28mprint\u001b[39m(car)\n",
      "\u001b[1;31mTypeError\u001b[0m: 'builtin_function_or_method' object is not subscriptable"
     ]
    }
   ],
   "source": [
    "#2 uzduotis\n",
    "car.update[{'color': 'red', 'used': True}]\n",
    "print(car)"
   ]
  },
  {
   "cell_type": "markdown",
   "metadata": {},
   "source": [
    "# SET duomenu tipas"
   ]
  },
  {
   "cell_type": "code",
   "execution_count": null,
   "metadata": {},
   "outputs": [],
   "source": [
    "#SET duomenu tipas neturi sekos parametru []\n",
    "#SET duomenys turi ivairiu manipuliaciniu funkciju, see below\n",
    "#Print grazina tik unikalias reiksmes atsitiktine tvarka\n"
   ]
  },
  {
   "cell_type": "code",
   "execution_count": null,
   "metadata": {},
   "outputs": [
    {
     "name": "stdout",
     "output_type": "stream",
     "text": [
      "{1, 3, 85, 6, 9}\n",
      "5\n",
      "{1, 3, 85, 6, 9, 12}\n",
      "{1, 3, 85, 9, 12}\n",
      "{1, 3, 85, 9, 12}\n",
      "{10, 5, 12, 4}\n",
      "{1, 3, 85, 9}\n",
      "{12}\n",
      "{1, 3, 4, 5, 9, 10, 12, 85}\n"
     ]
    }
   ],
   "source": [
    "my_set = {1,85,3,6,6,6,6,9}\n",
    "print(my_set) # tik unikalios vertes, atsitiktine tvarka\n",
    "print(len(my_set)) # rodo tik unikalias vertes\n",
    "\n",
    "my_set.add(12) #prideda reiksme\n",
    "print(my_set)\n",
    "\n",
    "my_set.remove(6) #istrinti reiksme is seto , #arba discard funkcija\n",
    "print(my_set)\n",
    "\n",
    "print(my_set)\n",
    "my_set2 = {4,5,10,12}\n",
    "print(my_set2)\n",
    "\n",
    "print(my_set.difference(my_set2)) #kas nera bendro tarp setu, difference funkcija\n",
    "print(my_set.intersection(my_set2)) #kas bendro\n",
    "print(my_set.union(my_set2)) #apjungia unikalias reiksme"
   ]
  },
  {
   "cell_type": "code",
   "execution_count": null,
   "metadata": {},
   "outputs": [
    {
     "name": "stdout",
     "output_type": "stream",
     "text": [
      "{'cherry', ('nauja reiksme', 5), 'apple', 'banana'}\n"
     ]
    }
   ],
   "source": [
    "#1 uzduotis\n",
    "fruits = {\"apple\", \"banana\", \"cherry\"}\n",
    "fruits.add(('nauja reiksme', 5))\n",
    "print(fruits)\n",
    "\n"
   ]
  },
  {
   "cell_type": "code",
   "execution_count": null,
   "metadata": {},
   "outputs": [
    {
     "name": "stdout",
     "output_type": "stream",
     "text": [
      "{'cherry', 'watermellon', 'banana'}\n"
     ]
    }
   ],
   "source": [
    "#2 uzduotis\n",
    "fruits = {\"apple\", \"banana\", \"cherry\"}\n",
    "fruits.remove ('apple')\n",
    "fruits.add('watermellon')\n",
    "print(fruits)"
   ]
  },
  {
   "cell_type": "code",
   "execution_count": null,
   "metadata": {},
   "outputs": [],
   "source": [
    "#3 uzduotis\n"
   ]
  },
  {
   "cell_type": "code",
   "execution_count": null,
   "metadata": {},
   "outputs": [],
   "source": []
  }
 ],
 "metadata": {
  "interpreter": {
   "hash": "597c27bdec948a723379e3862a7a52fdcff4b9ed54603ddf8d9b8d65ac298266"
  },
  "kernelspec": {
   "display_name": "Python 3.9.7 64-bit",
   "language": "python",
   "name": "python3"
  },
  "language_info": {
   "codemirror_mode": {
    "name": "ipython",
    "version": 3
   },
   "file_extension": ".py",
   "mimetype": "text/x-python",
   "name": "python",
   "nbconvert_exporter": "python",
   "pygments_lexer": "ipython3",
   "version": "3.9.7"
  },
  "orig_nbformat": 4
 },
 "nbformat": 4,
 "nbformat_minor": 2
}
