{
 "cells": [
  {
   "cell_type": "markdown",
   "metadata": {},
   "source": [
    "# IF salyga"
   ]
  },
  {
   "cell_type": "code",
   "execution_count": 1,
   "metadata": {},
   "outputs": [
    {
     "name": "stdout",
     "output_type": "stream",
     "text": [
      "x yra daugiau uz 2\n"
     ]
    }
   ],
   "source": [
    "#sintake\n",
    "\n",
    "x = 5\n",
    "if x > 2:\n",
    "    print('x yra daugiau uz 2')"
   ]
  },
  {
   "cell_type": "code",
   "execution_count": 2,
   "metadata": {},
   "outputs": [],
   "source": [
    "x = 2\n",
    "if x > 2:\n",
    "    print('x yra daugiau uz 2')\n",
    "#atsakymo neduoda nes nera 'ELSE'"
   ]
  },
  {
   "cell_type": "code",
   "execution_count": 3,
   "metadata": {},
   "outputs": [
    {
     "name": "stdout",
     "output_type": "stream",
     "text": [
      "Sveikas, kas tu toks\n",
      "pabaiga\n"
     ]
    }
   ],
   "source": [
    "vardas = 'Antanas'\n",
    "if vardas == 'Jonas':\n",
    "    print('Sveikas, Jonai')\n",
    "else:\n",
    "    print('Sveikas, kas tu toks')\n",
    "print('pabaiga') #print is naujos eilutes bus tik pabaigoje"
   ]
  },
  {
   "cell_type": "code",
   "execution_count": 4,
   "metadata": {},
   "outputs": [
    {
     "name": "stdout",
     "output_type": "stream",
     "text": [
      "y yra tarp 10 ir 20\n"
     ]
    }
   ],
   "source": [
    "y = 15\n",
    "if y > 10 and y < 20:\n",
    "    print('y yra tarp 10 ir 20')\n",
    "elif y > 10 and x >= 20:    #papildomas ifas\n",
    "    print('y > 10 ir x >= 2')\n",
    "else:\n",
    "    print('neatitinka salygu')\n"
   ]
  },
  {
   "cell_type": "markdown",
   "metadata": {},
   "source": [
    "# LYGYBES ZENKLAS"
   ]
  },
  {
   "cell_type": "code",
   "execution_count": 5,
   "metadata": {},
   "outputs": [],
   "source": [
    "# = reiksmes priskirimas\n",
    "# == vertes palyginimas"
   ]
  },
  {
   "cell_type": "markdown",
   "metadata": {},
   "source": [
    "# if uzduotys, panasios bus ND"
   ]
  },
  {
   "cell_type": "code",
   "execution_count": 6,
   "metadata": {},
   "outputs": [
    {
     "name": "stdout",
     "output_type": "stream",
     "text": [
      "0\n",
      "3\n",
      "6\n",
      "9\n",
      "12\n",
      "15\n",
      "18\n"
     ]
    }
   ],
   "source": [
    "#1 atspausdinti pirmus 20 skaiciu, jeigu jis dalinasi is 3 be liekanos naudodami for loop ir if\n",
    "for number in range(21):\n",
    "    if number % 3 == 0:\n",
    "        print(number)\n"
   ]
  },
  {
   "cell_type": "code",
   "execution_count": 7,
   "metadata": {},
   "outputs": [
    {
     "name": "stdout",
     "output_type": "stream",
     "text": [
      "2\n",
      "6\n",
      "12\n",
      "20\n",
      "30\n",
      "42\n",
      "56\n",
      "72\n",
      "90\n",
      "110\n",
      "132\n",
      "156\n",
      "182\n",
      "210\n",
      "240\n",
      "272\n",
      "306\n",
      "342\n",
      "380\n",
      "420\n",
      "462\n",
      "506\n",
      "552\n",
      "600\n",
      "650\n"
     ]
    }
   ],
   "source": [
    "#2\n",
    "#Gauti suma pirmu 50 skaiciu imtinai, tik tada, jei nauja einama suma bus lygine\n",
    "suma = 0\n",
    "for number in range(1,51):\n",
    "    if (number + suma) % 2 == 0:\n",
    "        suma += number\n",
    "        print(suma)"
   ]
  },
  {
   "cell_type": "code",
   "execution_count": 8,
   "metadata": {},
   "outputs": [
    {
     "name": "stdout",
     "output_type": "stream",
     "text": [
      "<class 'str'>\n",
      "skaicius pakeltas kvadratu yra lyginis\n"
     ]
    }
   ],
   "source": [
    "# 3 uzduotis\n",
    "#leiskite pasirinkti skaiciu atspaudinkite jo sandauga nuo 1 iki 10 tik tada jei pasirinktas\n",
    "#skaicius pakeltas kvadratu yra nelygynis\n",
    "\n",
    "#irasykite skaiciu ir issaugoti kintamajam\n",
    "number = input('iveskite skaiciu:')\n",
    "print(type(number))\n",
    "number = int(number)  #butina pasikvesti i skaiciaus formata, kadangi traktuoja kaip teksta\n",
    "if (number **2) % 2 != 0:\n",
    "    for num in range(1,11):\n",
    "        print(num*number)\n",
    "else:\n",
    "    print('skaicius pakeltas kvadratu yra lyginis')"
   ]
  },
  {
   "cell_type": "code",
   "execution_count": 9,
   "metadata": {},
   "outputs": [
    {
     "name": "stdout",
     "output_type": "stream",
     "text": [
      "[('Pirmadienis', 12), ('Pirmadienis', 13), ('Pirmadienis', 14), ('Pirmadienis', 15), ('Pirmadienis', 16), ('Pirmadienis', 17), ('Treciadienis', 12), ('Treciadienis', 13), ('Treciadienis', 14), ('Treciadienis', 15), ('Treciadienis', 16), ('Treciadienis', 17)]\n"
     ]
    }
   ],
   "source": [
    "#4 uzduotis\n",
    "#Gauti visas imanomas kombinacijas is siu sarasu tik tada, jei diena yra arba\n",
    "#pirmadienis arba treciadienis, o valandos nuo 12 iki 17, irasykyte jas i lista\n",
    "\n",
    "dienos = ['Pirmadienis', 'Antradienis', 'Treciadienis', 'Ketvirtadienis', 'Penktadienis', 'Sestadienis', 'Sekmadienis']\n",
    "valandos = [10, 11, 12, 13, 14, 15, 16, 17, 18, 19]\n",
    "\n",
    "kombinacijos = []\n",
    "tinkamos_dienos = ['Pirmadienis', 'Treciadienis']\n",
    "for diena in dienos:\n",
    "    if diena in tinkamos_dienos:\n",
    "        for valanda in valandos:\n",
    "            if valanda in range(12,18):\n",
    "                kombinacijos.append((diena, valanda))\n",
    "print(kombinacijos)"
   ]
  },
  {
   "cell_type": "markdown",
   "metadata": {},
   "source": [
    "# None deklaracija"
   ]
  },
  {
   "cell_type": "code",
   "execution_count": null,
   "metadata": {},
   "outputs": [],
   "source": [
    "#duomenu tipas kuris deklaruoja jog nieko NERA\n",
    "#pvz duomenyse, NONE aiskiai parodo kur nieko nera, kaip exely emply cells\n",
    "Niekas = None\n",
    "print(type(Niekas))\n",
    "\n",
    "for i in range(5):\n",
    "    if name == None:\n",
    "        print('something')"
   ]
  },
  {
   "cell_type": "markdown",
   "metadata": {},
   "source": [
    "# List comprehension - apie sarasus arba for loopo supaprastinimas"
   ]
  },
  {
   "cell_type": "code",
   "execution_count": null,
   "metadata": {},
   "outputs": [
    {
     "name": "stdout",
     "output_type": "stream",
     "text": [
      "0\n",
      "3\n",
      "6\n",
      "9\n",
      "12\n",
      "15\n",
      "18\n",
      "[0, 3, 6, 9, 12, 15, 18]\n"
     ]
    }
   ],
   "source": [
    "numbers = list(range(21))\n",
    "for number in range(20):\n",
    "    if number % 3 == 0:\n",
    "        print(number)\n",
    "\n",
    "#arba\n",
    "\n",
    "numbers = list(range(21))\n",
    "dividible_by_3 = []\n",
    "for number in range(20):\n",
    "    if number % 3 == 0:\n",
    "        dividible_by_3.append(number)\n",
    "print(dividible_by_3)"
   ]
  },
  {
   "cell_type": "code",
   "execution_count": null,
   "metadata": {},
   "outputs": [
    {
     "name": "stdout",
     "output_type": "stream",
     "text": [
      "[0, 3, 6, 9, 12, 15, 18]\n"
     ]
    }
   ],
   "source": [
    "#kitoks budas, galima daug trumpiau pasirasyti\n",
    "numbers = list(range(21))\n",
    "dividible_by_3 = [number for number in numbers if number %3 == 0]\n",
    "print(dividible_by_3)"
   ]
  },
  {
   "cell_type": "markdown",
   "metadata": {},
   "source": [
    "# Dictionary duomenu tipas"
   ]
  },
  {
   "cell_type": "code",
   "execution_count": 12,
   "metadata": {},
   "outputs": [],
   "source": [
    "#turim raktazodi ir kiekvienas raktazodis turi kazkokia verte -skaicia, tekstas, sarasas t.t\n",
    "#jie neturi sekos parametru - neturi indeksu\n",
    "#patogu laikyti informacija juose, ir issitraukti\n",
    "#banguoti skliautai\n",
    "\n",
    "my_dict = {\n",
    "    'name': 'Darius',  #raktazodis ir verte\n",
    "    'surname': 'Grigaliunas',\n",
    "    'age': 26,\n",
    "    'hobbies': ['tennis','videogames']\n",
    "}\n",
    "\n",
    "#name, surname, age, hobbies yra KEYS"
   ]
  },
  {
   "cell_type": "code",
   "execution_count": 13,
   "metadata": {},
   "outputs": [
    {
     "name": "stdout",
     "output_type": "stream",
     "text": [
      "4\n",
      "Grigaliunas\n",
      "Darius\n",
      "['tennis', 'videogames']\n",
      "25\n",
      "{'name': 'Darius', 'age': 25, 'hobbies': ['tennis', 'videogames']}\n"
     ]
    }
   ],
   "source": [
    "print(len(my_dict)) #kaip su sarasais, galim naudot LEN - parodu kiek turim poru dictionary\n",
    "print(my_dict.pop('surname')) #istrina reiksme/ KEY\n",
    "\n",
    "print(my_dict['name'])\n",
    "print(my_dict['hobbies'])\n",
    "\n",
    "#galima pakeisiti reiksme paciam dictionary\n",
    "my_dict['age'] = 25\n",
    "print(my_dict['age'])\n",
    "\n",
    "#atspaudina dictionary\n",
    "print(my_dict)  "
   ]
  },
  {
   "cell_type": "markdown",
   "metadata": {},
   "source": [
    "# galime naudoti FOR LOOP in Dictionaries"
   ]
  },
  {
   "cell_type": "code",
   "execution_count": 17,
   "metadata": {},
   "outputs": [
    {
     "name": "stdout",
     "output_type": "stream",
     "text": [
      "name\n",
      "age\n",
      "hobbies\n",
      "Darius\n",
      "25\n",
      "['tennis', 'videogames']\n",
      "name values is Darius\n",
      "age values is 25\n",
      "hobbies values is ['tennis', 'videogames']\n"
     ]
    }
   ],
   "source": [
    "for key in my_dict.keys():\n",
    "    print(key)\n",
    "\n",
    "#atspausdina visus RAKTAZODIUS\n",
    "\n",
    "for value in my_dict.values():\n",
    "    print(value)\n",
    "\n",
    "#atspausdina visas VALUES arba reiksmes\n",
    "\n",
    "for k, v in my_dict.items():      # k yra KEY, v yra VALUE\n",
    "    print(f'{k} values is {v}')\n",
    "\n",
    "#atspausdina KEYs and VALUES"
   ]
  },
  {
   "cell_type": "markdown",
   "metadata": {},
   "source": [
    "# Raktazodis (KEY) ne visada bus tekstas"
   ]
  },
  {
   "cell_type": "code",
   "execution_count": null,
   "metadata": {},
   "outputs": [],
   "source": [
    "# siame PVZ raktazodziai yra skaiciai\n",
    "\n",
    "disct_1 = {\n",
    "    1 : 'uno',\n",
    "    2 : 'dos',\n",
    "    5 : 'finco',\n",
    "    0 : 'Falsee'\n",
    "}"
   ]
  },
  {
   "cell_type": "code",
   "execution_count": null,
   "metadata": {},
   "outputs": [
    {
     "name": "stdout",
     "output_type": "stream",
     "text": [
      "uno\n",
      "Falsee\n"
     ]
    }
   ],
   "source": [
    "print(disct_1[1])\n",
    "print(disct_1[False]) # 0 yra False, bet koks skaicius True"
   ]
  },
  {
   "cell_type": "markdown",
   "metadata": {},
   "source": [
    "# papildyti dictionary KEYS ir VALUES su NAUJA info - UPDATE funkcija"
   ]
  },
  {
   "cell_type": "code",
   "execution_count": 18,
   "metadata": {},
   "outputs": [
    {
     "name": "stdout",
     "output_type": "stream",
     "text": [
      "{'name': 'Darius', 'age': 26, 'hobbies': ['tennis', 'videogames'], 'city': 'Kaunas', 'car': 'Tesla'}\n"
     ]
    }
   ],
   "source": [
    "my_dict.update({'age': 26, 'city': 'Kaunas', 'car': 'Tesla'})\n",
    "print(my_dict)"
   ]
  },
  {
   "cell_type": "code",
   "execution_count": 21,
   "metadata": {},
   "outputs": [],
   "source": [
    "#1 uzduotis\n",
    "#Atspausdinkite 'Ford', gaukite zodyno cal ilgi, pakeiskite metus i 2020\n",
    "car =\t{\n",
    "  \"brand\": \"Ford\",\n",
    "  \"model\": \"Mustang\",\n",
    "  \"year\": 1964\n",
    "}\n",
    "\n"
   ]
  },
  {
   "cell_type": "code",
   "execution_count": 24,
   "metadata": {},
   "outputs": [
    {
     "name": "stdout",
     "output_type": "stream",
     "text": [
      "Ford\n",
      "3\n",
      "2020\n"
     ]
    }
   ],
   "source": [
    "print(car['brand'])\n",
    "print(len(car))\n",
    "car['year'] = 2020\n",
    "print(car['year'])"
   ]
  },
  {
   "cell_type": "code",
   "execution_count": 26,
   "metadata": {},
   "outputs": [
    {
     "name": "stdout",
     "output_type": "stream",
     "text": [
      "{'brand': 'Ford', 'model': 'Mustang', 'year': 2020, 'color': 'red', 'used': 'True'}\n"
     ]
    }
   ],
   "source": [
    "#2 uzduotis\n",
    "#prie esamo zodyno prideti naujas reiksmes\n",
    "#'color' = 'red'\n",
    "#'used' = True\n",
    "\n",
    "car.update({'color': 'red', 'used': True})\n",
    "print(car)"
   ]
  },
  {
   "cell_type": "code",
   "execution_count": 28,
   "metadata": {},
   "outputs": [
    {
     "name": "stdout",
     "output_type": "stream",
     "text": [
      "{'model': 'Mustang', 'year': None, 'color': 'red', 'used': 'True'}\n"
     ]
    }
   ],
   "source": [
    "#is esamo zodyno istrinti 'brand' rakta ir reiksme, o YEAR reiksme paversti i NONE\n",
    "\n",
    "car.pop('brand')\n",
    "\n",
    "car['year'] = None\n",
    "print(car)\n"
   ]
  },
  {
   "cell_type": "markdown",
   "metadata": {},
   "source": [
    "# SET duomenu tipas - is esmes labiau panasus i list"
   ]
  },
  {
   "cell_type": "code",
   "execution_count": null,
   "metadata": {},
   "outputs": [],
   "source": [
    "#SET duomenu tipas neturi sekos parametru []\n",
    "#SET duomenys turi ivairiu manipuliaciniu funkciju, see below\n",
    "#Print grazina tik unikalias reiksmes atsitiktine tvarka\n"
   ]
  },
  {
   "cell_type": "code",
   "execution_count": 30,
   "metadata": {},
   "outputs": [
    {
     "name": "stdout",
     "output_type": "stream",
     "text": [
      "{1, 3, 85, 6, 9}\n",
      "5\n",
      "{1, 3, 85, 6, 9, 12}\n",
      "{1, 3, 85, 9, 12}\n",
      "{1, 3, 85, 9, 12}\n",
      "{10, 5, 12, 4}\n",
      "{1, 3, 85, 9}\n",
      "{12}\n",
      "{1, 3, 4, 5, 9, 10, 12, 85}\n",
      "True\n"
     ]
    }
   ],
   "source": [
    "my_set = {1,85,3,6,6,6,6,9}\n",
    "print(my_set) # tik unikalios vertes yra isspausdinamas, atsitiktine tvarka\n",
    "print(len(my_set)) # rodo tik unikalias vertes\n",
    "\n",
    "my_set.add(12) #prideda reiksme\n",
    "print(my_set)\n",
    "\n",
    "my_set.remove(6) #istrinti reiksme is seto , #arba discard funkcija\n",
    "print(my_set)\n",
    "\n",
    "print(my_set)\n",
    "my_set2 = {4,5,10,12}\n",
    "print(my_set2)\n",
    "\n",
    "print(my_set.difference(my_set2)) #kas nera bendro tarp setu, difference funkcija\n",
    "print(my_set.intersection(my_set2)) #kas bendro\n",
    "print(my_set.union(my_set2)) #apjungia unikalias reiksme\n",
    "\n",
    "print(85 in my_set)"
   ]
  },
  {
   "cell_type": "code",
   "execution_count": 32,
   "metadata": {},
   "outputs": [
    {
     "name": "stdout",
     "output_type": "stream",
     "text": [
      "{'cherry', 'banana', 'apple', ('nauja reiksme', 5)}\n"
     ]
    }
   ],
   "source": [
    "#1 uzduotis\n",
    "# i seta ideti nauja reiksme, ('nauja reiksme', 5) - TOOPLE\n",
    "\n",
    "fruits = {\"apple\", \"banana\", \"cherry\"}\n",
    "fruits.add(('nauja reiksme', 5))\n",
    "print(fruits)\n",
    "\n"
   ]
  },
  {
   "cell_type": "code",
   "execution_count": 35,
   "metadata": {},
   "outputs": [
    {
     "name": "stdout",
     "output_type": "stream",
     "text": [
      "{'cherry', 'banana', 'watermellon'}\n"
     ]
    }
   ],
   "source": [
    "#2 uzduotis\n",
    "# is seto viena reiksme pakeisti kita\n",
    "fruits = {\"apple\", \"banana\", \"cherry\"}\n",
    "fruits.remove ('apple')\n",
    "fruits.add('watermellon')\n",
    "print(fruits)\n",
    "\n",
    "\n",
    "#kitas budas / kitoks priejimas prie tos pacios problemos\n",
    "#susikurti trumpalaiki sarasa, ir jame naudoti indkesavimo funkcionaluma\n",
    "fruits = {\"apple\", \"banana\", \"cherry\"}\n",
    "tmp_list = list(fruits)\n",
    "tmp_list[0] = 'watermellon'\n",
    "fruits = set(tmp_list)"
   ]
  },
  {
   "cell_type": "code",
   "execution_count": 40,
   "metadata": {},
   "outputs": [
    {
     "ename": "TypeError",
     "evalue": "'int' object is not iterable",
     "output_type": "error",
     "traceback": [
      "\u001b[1;31m---------------------------------------------------------------------------\u001b[0m",
      "\u001b[1;31mTypeError\u001b[0m                                 Traceback (most recent call last)",
      "Input \u001b[1;32mIn [40]\u001b[0m, in \u001b[0;36m<module>\u001b[1;34m\u001b[0m\n\u001b[0;32m      3\u001b[0m my_list \u001b[38;5;241m=\u001b[39m [\u001b[38;5;241m3\u001b[39m,\u001b[38;5;241m6\u001b[39m,\u001b[38;5;241m-\u001b[39m\u001b[38;5;241m2\u001b[39m,\u001b[38;5;241m-\u001b[39m\u001b[38;5;241m5\u001b[39m,\u001b[38;5;241m7\u001b[39m,\u001b[38;5;241m3\u001b[39m]\n\u001b[0;32m      4\u001b[0m \u001b[38;5;28;01mfor\u001b[39;00m skaicius \u001b[38;5;129;01min\u001b[39;00m my_list:\n\u001b[1;32m----> 5\u001b[0m     \u001b[38;5;28mprint\u001b[39m(\u001b[38;5;28;43mmax\u001b[39;49m\u001b[43m(\u001b[49m\u001b[43mskaicius\u001b[49m\u001b[43m \u001b[49m\u001b[38;5;241;43m*\u001b[39;49m\u001b[43m \u001b[49m\u001b[43mskaicius\u001b[49m\u001b[43m)\u001b[49m)\n",
      "\u001b[1;31mTypeError\u001b[0m: 'int' object is not iterable"
     ]
    }
   ],
   "source": [
    "#3 uzduotis\n",
    "\n",
    "my_list = [3,6,-2,-5,7,3]\n",
    "for skaicius in my_list:\n",
    "    print(max(skaicius * skaicius))\n"
   ]
  },
  {
   "cell_type": "code",
   "execution_count": null,
   "metadata": {},
   "outputs": [],
   "source": []
  }
 ],
 "metadata": {
  "interpreter": {
   "hash": "597c27bdec948a723379e3862a7a52fdcff4b9ed54603ddf8d9b8d65ac298266"
  },
  "kernelspec": {
   "display_name": "Python 3.9.7 64-bit",
   "language": "python",
   "name": "python3"
  },
  "language_info": {
   "codemirror_mode": {
    "name": "ipython",
    "version": 3
   },
   "file_extension": ".py",
   "mimetype": "text/x-python",
   "name": "python",
   "nbconvert_exporter": "python",
   "pygments_lexer": "ipython3",
   "version": "3.9.7"
  },
  "orig_nbformat": 4
 },
 "nbformat": 4,
 "nbformat_minor": 2
}
