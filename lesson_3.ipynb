{
 "cells": [
  {
   "cell_type": "markdown",
   "metadata": {},
   "source": [
    "# 3 pamoka\n",
    "# list - sarasai ,tuple, range, none, for loop & if"
   ]
  },
  {
   "cell_type": "markdown",
   "metadata": {},
   "source": [
    "# list-sarasai (gali egzistuot bet kas, skaiciai-tekstas)\n",
    "#saraso kintamieji - lauztiniai skliaustai per kableli\n",
    "my_list = ['item1', 'item2']"
   ]
  },
  {
   "cell_type": "code",
   "execution_count": 1,
   "metadata": {},
   "outputs": [
    {
     "name": "stdout",
     "output_type": "stream",
     "text": [
      "Vilnius\n",
      "Hello World\n",
      "Hello world\n",
      "3\n",
      "True\n"
     ]
    }
   ],
   "source": [
    "#teorija\n",
    "#sarasai turi sekos parametrus, pvz jeigu indeksas 0 tada ims pirma objekta is saraso\n",
    "#galima pamatyti kiek nariu turi sarasas per LEN()\n",
    "#patikrinti kas egzistuoja jame\n",
    "#saraso kintamieji - lauztiniai skliaustai per kableli\n",
    "\n",
    "my_list = ['item1', 'item2']\n",
    "\n",
    "#pvz\n",
    "\n",
    "cities = ['Vilnius', 'Kaunas', 'Hello World']\n",
    "print(cities[0])\n",
    "print(cities[-1])\n",
    "print(cities[-1].replace('World','world'))\n",
    "print(len(cities)) #kiek objektu sarase\n",
    "print('Kaunas' in cities) #patikrinti ar objektas yra sarase"
   ]
  },
  {
   "cell_type": "code",
   "execution_count": 2,
   "metadata": {},
   "outputs": [
    {
     "name": "stdout",
     "output_type": "stream",
     "text": [
      "[5, 6, 7, 8]\n",
      "[5]\n",
      "8\n",
      "7\n"
     ]
    }
   ],
   "source": [
    "numbers = [1, 2, 3, 5, 6, 7, 8]\n",
    "print(numbers[3:])\n",
    "print(numbers[3:4])\n",
    "print(numbers[-1])\n",
    "print (len (numbers))"
   ]
  },
  {
   "cell_type": "markdown",
   "metadata": {},
   "source": [
    "# Funkcijos su sarasais\n",
    "# Append funkcija - prideda kaip VIENA reiksme prie galo"
   ]
  },
  {
   "cell_type": "code",
   "execution_count": 3,
   "metadata": {},
   "outputs": [
    {
     "name": "stdout",
     "output_type": "stream",
     "text": [
      "[1, 2, 3, 5, 6, 7, 8, 10]\n",
      "[1, 2, 3, 5, 6, 7, 8, 10, [2, 5, 7]]\n",
      "[2, 5, 7]\n",
      "7\n"
     ]
    }
   ],
   "source": [
    "#append funkcija - prijungia prie saraso galo\n",
    "numbers.append(10)\n",
    "print(numbers)\n",
    "\n",
    "#galima prideti dar viena sarasa saraso viduje\n",
    "numbers.append([2,5,7])\n",
    "print(numbers) #pridetas kaip vienas objektas kuris yra sararas\n",
    "print(numbers[-1])\n",
    "print(numbers[-1][2]) #kad gauti paskutine reiksme is saraso sarase"
   ]
  },
  {
   "cell_type": "markdown",
   "metadata": {},
   "source": [
    "# Extend funkcija - objektus prideda i sarasa kaip atskirus narius"
   ]
  },
  {
   "cell_type": "code",
   "execution_count": 4,
   "metadata": {},
   "outputs": [],
   "source": [
    "numbers.extend([1,2,5])"
   ]
  },
  {
   "cell_type": "code",
   "execution_count": 5,
   "metadata": {},
   "outputs": [
    {
     "name": "stdout",
     "output_type": "stream",
     "text": [
      "[1, 2, 3, 5, 6, 7, 8, 10, [2, 5, 7], 1, 2, 5]\n"
     ]
    }
   ],
   "source": [
    "#jei rasoma toj pacioj celej,prideda tapacia reiksme su kiekvienu Executionu\n",
    "print(numbers)"
   ]
  },
  {
   "cell_type": "markdown",
   "metadata": {},
   "source": [
    "# Clear funkcija"
   ]
  },
  {
   "cell_type": "code",
   "execution_count": 6,
   "metadata": {},
   "outputs": [
    {
     "name": "stdout",
     "output_type": "stream",
     "text": [
      "[1, 2, 3]\n",
      "[]\n"
     ]
    }
   ],
   "source": [
    "numbers_2 = [1,2,3]\n",
    "print(numbers_2)\n",
    "#istrinti seka numeriu\n",
    "numbers_2.clear()\n",
    "print (numbers_2)"
   ]
  },
  {
   "cell_type": "markdown",
   "metadata": {},
   "source": [
    "# Remove ir POP"
   ]
  },
  {
   "cell_type": "code",
   "execution_count": 7,
   "metadata": {},
   "outputs": [],
   "source": [
    "#remove istrina konkrecia verte ar vertes\n",
    "#pop trina pagal indeksa ir grazina istrinta verte\n",
    "#pop istrina pirma pasikartojancia reiksme"
   ]
  },
  {
   "cell_type": "markdown",
   "metadata": {},
   "source": [
    "# Reverse"
   ]
  },
  {
   "cell_type": "code",
   "execution_count": 8,
   "metadata": {},
   "outputs": [
    {
     "name": "stdout",
     "output_type": "stream",
     "text": [
      "[5, 2, 1, [2, 5, 7], 10, 8, 7, 6, 5, 3, 2, 1]\n",
      "[1, 2, 3, 5, 6, 7, 8, 10, [2, 5, 7], 1, 2, 5]\n"
     ]
    }
   ],
   "source": [
    "#apversti sarasa aukstyn kojom\n",
    "numbers.reverse()\n",
    "print(numbers)\n",
    "#tapati galima padaryti ir su slicing\n",
    "print(numbers[::-1])"
   ]
  },
  {
   "cell_type": "markdown",
   "metadata": {},
   "source": [
    "# Count"
   ]
  },
  {
   "cell_type": "code",
   "execution_count": 9,
   "metadata": {},
   "outputs": [
    {
     "name": "stdout",
     "output_type": "stream",
     "text": [
      "2\n"
     ]
    }
   ],
   "source": [
    "#kiek kartojosi kazkokia reiksme COUNT funkcija\n",
    "print(numbers.count(1))"
   ]
  },
  {
   "cell_type": "markdown",
   "metadata": {},
   "source": [
    "# Insert - i konkrecia vieta, ne i gala kaip append ar extend"
   ]
  },
  {
   "cell_type": "code",
   "execution_count": 10,
   "metadata": {},
   "outputs": [
    {
     "name": "stdout",
     "output_type": "stream",
     "text": [
      "[5, 2, 1, [2, 5, 7], 10, 8, 7, 6, 5, 11, 3, 2, 1]\n"
     ]
    }
   ],
   "source": [
    "#prideti dar viena reiksme\n",
    "numbers.insert(-3,11) #index, value\n",
    "print(numbers)"
   ]
  },
  {
   "cell_type": "markdown",
   "metadata": {},
   "source": [
    "# SORT"
   ]
  },
  {
   "cell_type": "code",
   "execution_count": 11,
   "metadata": {},
   "outputs": [
    {
     "name": "stdout",
     "output_type": "stream",
     "text": [
      "[5, 666, 87, 67, 98]\n",
      "[5, 67, 87, 98, 666]\n",
      "[666, 98, 87, 67, 5]\n"
     ]
    }
   ],
   "source": [
    "#SORT funkija\n",
    "numbers_3 = [5,666,87,67,98]\n",
    "print(numbers_3)\n",
    "numbers_3.sort()\n",
    "print(numbers_3)\n",
    "numbers_3.sort(reverse=True)\n",
    "print(numbers_3)"
   ]
  },
  {
   "cell_type": "markdown",
   "metadata": {},
   "source": [
    "# pakeisti reiksme sarase (permanent)"
   ]
  },
  {
   "cell_type": "code",
   "execution_count": 12,
   "metadata": {},
   "outputs": [
    {
     "name": "stdout",
     "output_type": "stream",
     "text": [
      "['Vilnius', 'Kaunas', 'Hello World']\n",
      "['Vilnius', 'Kaunas', 'Klaipeda']\n",
      "False\n",
      "True\n"
     ]
    }
   ],
   "source": [
    "print(cities)\n",
    "cities[2] = 'Klaipeda'\n",
    "print(cities)\n",
    "\n",
    "#patikrint ar reiksme yra sarase\n",
    "print('Panevezys' in cities)\n",
    "print('Vilnius' in cities)"
   ]
  },
  {
   "cell_type": "markdown",
   "metadata": {},
   "source": [
    "# Prie saraso pridedi kita sarasa"
   ]
  },
  {
   "cell_type": "code",
   "execution_count": 13,
   "metadata": {},
   "outputs": [
    {
     "name": "stdout",
     "output_type": "stream",
     "text": [
      "[1, 2, 3, 'a', 'b', 'c']\n",
      "[1, 2, 3, 'a', 'b', 'c', 1, 2, 3, 'a', 'b', 'c', 1, 2, 3, 'a', 'b', 'c', 1, 2, 3, 'a', 'b', 'c', 1, 2, 3, 'a', 'b', 'c', 1, 2, 3, 'a', 'b', 'c', 1, 2, 3, 'a', 'b', 'c', 1, 2, 3, 'a', 'b', 'c', 1, 2, 3, 'a', 'b', 'c', 1, 2, 3, 'a', 'b', 'c']\n"
     ]
    }
   ],
   "source": [
    "my_combined_list = [1,2,3] +  ['a', 'b', 'c']\n",
    "print(my_combined_list)\n",
    "print(my_combined_list * 10) #galima ir dauginti"
   ]
  },
  {
   "cell_type": "markdown",
   "metadata": {},
   "source": [
    "# List uzduotys"
   ]
  },
  {
   "cell_type": "code",
   "execution_count": 14,
   "metadata": {},
   "outputs": [
    {
     "name": "stdout",
     "output_type": "stream",
     "text": [
      "4\n",
      "[1, 2, 4, 7, 12]\n",
      "False\n",
      "True\n",
      "[5, 76, 56, 14, 6, 7, 10, 54, 13]\n",
      "[5, 76, 56, 6, 7, 10, 54, 13]\n",
      "[5, 6, 7, 10, 13, 54, 56, 76]\n",
      "1\n"
     ]
    }
   ],
   "source": [
    "#1 uzduotis\n",
    "list = [1,2,4,7]\n",
    "print(len(list))\n",
    "list.append(12)\n",
    "print(list)\n",
    "\n",
    "#2 uzduotis\n",
    "print(6 in list)\n",
    "print(7 in list)\n",
    "\n",
    "#3 uzduotis\n",
    "\n",
    "List_1 = [5,76,56,14]\n",
    "List_2 = [6,7,10,54,13]\n",
    "\n",
    "combined = List_1 + List_2\n",
    "print(combined)\n",
    "\n",
    "combined.remove(14)\n",
    "print(combined)\n",
    "\n",
    "combined.sort(reverse=False)\n",
    "print(combined)\n",
    "\n",
    "print(list.count(12))\n",
    "\n",
    "\n"
   ]
  },
  {
   "cell_type": "markdown",
   "metadata": {},
   "source": [
    "#Mutable and immutable variables"
   ]
  },
  {
   "cell_type": "markdown",
   "metadata": {},
   "source": [
    "# TUPLE - sarasas, bet negalim keisti reiksmiu (ideti issimti nauju), skirtumas skliaustai - paprasti, o ne lauztiniai"
   ]
  },
  {
   "cell_type": "code",
   "execution_count": 15,
   "metadata": {},
   "outputs": [
    {
     "name": "stdout",
     "output_type": "stream",
     "text": [
      "53\n",
      "(1, 53, 84, 4)\n",
      "<class 'tuple'>\n",
      "<class 'list'>\n"
     ]
    }
   ],
   "source": [
    "#galime naudoti indeksus, slicing tuple duomenu tipe\n",
    "my_tuple = (1,53,84,4,1)\n",
    "print(my_tuple[1])\n",
    "print(my_tuple[0:4])\n",
    "\n",
    "print(type(())) #identifikuoti duomenu tipa\n",
    "print(type([ ]))\n",
    "\n"
   ]
  },
  {
   "cell_type": "markdown",
   "metadata": {},
   "source": [
    "# Tuple tik dvi funkcijos - count ir index"
   ]
  },
  {
   "cell_type": "code",
   "execution_count": 16,
   "metadata": {},
   "outputs": [
    {
     "name": "stdout",
     "output_type": "stream",
     "text": [
      "2\n",
      "2\n",
      "5\n",
      "(1, 53, 84, 4, 1, 'Vilnius', 'Klaipeda')\n",
      "7\n",
      "True\n"
     ]
    }
   ],
   "source": [
    "#funkcijos\n",
    "print(my_tuple.count(1))\n",
    "print(my_tuple.index(84))\n",
    "#len taip pat galioja\n",
    "print(len(my_tuple))\n",
    "\n",
    "combined_tuple = my_tuple + (\"Vilnius\", \"Klaipeda\")\n",
    "print(combined_tuple)\n",
    "\n",
    "print(len(combined_tuple)) # kiek nariu\n",
    "print('Vilnius' in combined_tuple) #patestuot galima kas priklauso sarase"
   ]
  },
  {
   "cell_type": "code",
   "execution_count": 17,
   "metadata": {},
   "outputs": [],
   "source": [
    "#tuple tiesiog saugesne saraso versija kurios objektu reiksmiu nepakeisi"
   ]
  },
  {
   "cell_type": "code",
   "execution_count": 18,
   "metadata": {},
   "outputs": [
    {
     "name": "stdout",
     "output_type": "stream",
     "text": [
      "[6, [7, 8]]\n",
      "[7, 8]\n",
      "8\n",
      "8\n",
      "(11, [222, 21], 44, 55)\n",
      "(11, [222, 22], 44, 55)\n"
     ]
    }
   ],
   "source": [
    "# 1 uzduotis\n",
    "\n",
    "my_tuple = (1, 2, ['3', 4, 5], [6, [7, (8)]])\n",
    "print(my_tuple[-1])\n",
    "print(my_tuple[-1][1])\n",
    "print(my_tuple[-1][1][1])\n",
    "print(my_tuple[-1][-1][-1])\n",
    "\n",
    "# 2 uzduotis\n",
    "\n",
    "tuple1 = (11, [222, 33], 44, 55)\n",
    "#sitam sarase pirmu indeksu pirmas narys yra lygus 21\n",
    "tuple1[1][1] = 21\n",
    "print(tuple1) # tai veikia tik del to nes turime normalu sarasa[] kuris yra viduje\n",
    "\n",
    "\n",
    "## 33 pakeisti i 22\n",
    "\n",
    "tuple1 [1][1] = 22\n",
    "print(tuple1)\n",
    "\n",
    "\n",
    "\n"
   ]
  },
  {
   "cell_type": "markdown",
   "metadata": {},
   "source": [
    "# RANGE - funkcija kuri sukuria skaiciu seka"
   ]
  },
  {
   "cell_type": "code",
   "execution_count": 3,
   "metadata": {},
   "outputs": [
    {
     "name": "stdout",
     "output_type": "stream",
     "text": [
      "range(0, 10)\n",
      "<class 'range'>\n",
      "[10, 14, 18, 22, 26, 30, 34, 38, 42, 46, 50, 54, 58, 62, 66, 70, 74, 78, 82, 86, 90, 94, 98, 102, 106, 110, 114, 118, 122, 126, 130, 134, 138, 142, 146, 150, 154, 158, 162, 166, 170, 174, 178, 182, 186, 190, 194, 198, 202, 206, 210, 214, 218, 222, 226, 230, 234, 238, 242, 246, 250, 254, 258, 262, 266, 270, 274, 278, 282, 286, 290, 294, 298, 302, 306, 310, 314, 318, 322]\n",
      "[326, 322, 318, 314, 310, 306, 302, 298, 294, 290, 286, 282, 278, 274, 270, 266, 262, 258, 254, 250, 246, 242, 238, 234, 230, 226, 222, 218, 214, 210, 206, 202, 198, 194, 190, 186, 182, 178, 174, 170, 166, 162, 158, 154, 150, 146, 142, 138, 134, 130, 126, 122, 118, 114, 110, 106, 102, 98, 94, 90, 86, 82, 78, 74, 70, 66, 62, 58, 54, 50, 46, 42, 38, 34, 30, 26, 22, 18, 14]\n",
      "[0, 1, 2, 3, 4, 5, 6, 7, 8, 9]\n"
     ]
    }
   ],
   "source": [
    "print (range(10)) #tai nesukuria automatiskai saraso\n",
    "\n",
    "print(type(range(10))) #duomenu tipas\n",
    "\n",
    "#range funkcija,  range(start, end, step)\n",
    "\n",
    "print(list( range(10, 326, 4)))\n",
    "print(list( range(326, 10, -4))) #jei atbulai tuomet apkeisti vietom\n",
    "\n",
    "print(list(range(10)))"
   ]
  },
  {
   "cell_type": "markdown",
   "metadata": {},
   "source": [
    "# For loop deklaracija - ciklas kartojamas nurodyta kieki kartu"
   ]
  },
  {
   "cell_type": "code",
   "execution_count": null,
   "metadata": {},
   "outputs": [
    {
     "name": "stdout",
     "output_type": "stream",
     "text": [
      "Vilnius\n",
      "Kaunas\n",
      "Klaipeda\n",
      "Vilnius yra nuostabus\n",
      "vieno ciklo pabaiga\n",
      "Kaunas yra nuostabus\n",
      "vieno ciklo pabaiga\n",
      "Klaipeda yra nuostabus\n",
      "vieno ciklo pabaiga\n",
      "PABAIGA\n"
     ]
    }
   ],
   "source": [
    "#duotas sarasas\n",
    "#kadangi trys nariai, tai tris kartus ir daromas zingsnis (priklauso kiek nariu sarase)\n",
    "#Sintakse prasideda 'FOR' tada eina zodis repezentuojantis nari is saraso, tada 'IN' ir SARASAS\n",
    "#ir dvitaskis\n",
    "\n",
    "miestai = ['Vilnius', 'Kaunas', 'Klaipeda']\n",
    "\n",
    "for miestas in miestai:\n",
    "    print(miestas)\n",
    "\n",
    "for miestas in miestai:\n",
    "    print(f'{miestas} yra nuostabus')\n",
    "    print('vieno ciklo pabaiga')\n",
    "print('PABAIGA') #be keturiu tarpu lipdosi kaip paskutinis sakinys/ nepriklauso ciklui /\n",
    "# atspausdina tik kai baigiasi ciklas"
   ]
  },
  {
   "cell_type": "code",
   "execution_count": null,
   "metadata": {},
   "outputs": [
    {
     "name": "stdout",
     "output_type": "stream",
     "text": [
      "Vilnius yra labai grazus\n",
      "9\n",
      "8\n",
      "7\n",
      "vieno ciklo pabaiga\n",
      "Kaunas yra labai grazus\n",
      "9\n",
      "8\n",
      "7\n",
      "vieno ciklo pabaiga\n",
      "Klaipeda yra labai grazus\n",
      "9\n",
      "8\n",
      "7\n",
      "vieno ciklo pabaiga\n",
      "THE END\n"
     ]
    }
   ],
   "source": [
    "#for loopsas lopse, arba ciklas cikle\n",
    "Valandos = [9,8,7]\n",
    "for miestas in miestai:\n",
    "    print(f'{miestas} yra labai grazus')\n",
    "    for valanda in Valandos:\n",
    "        print(valanda)\n",
    "    print('vieno ciklo pabaiga')\n",
    "print('THE END')"
   ]
  },
  {
   "cell_type": "code",
   "execution_count": null,
   "metadata": {},
   "outputs": [
    {
     "name": "stdout",
     "output_type": "stream",
     "text": [
      "Sveiki\n",
      "skaicius yra 5\n",
      "Sveiki\n",
      "skaicius yra 6\n",
      "Sveiki\n",
      "skaicius yra 7\n",
      "Sveiki\n",
      "skaicius yra 8\n",
      "Sveiki\n",
      "skaicius yra 9\n",
      "Sveiki\n",
      "skaicius yra 10\n"
     ]
    }
   ],
   "source": [
    "for number in range(5,11):\n",
    "    print('Sveiki')\n",
    "    print(f'skaicius yra {number}')"
   ]
  },
  {
   "cell_type": "markdown",
   "metadata": {},
   "source": [
    "# Užduotys"
   ]
  },
  {
   "cell_type": "code",
   "execution_count": null,
   "metadata": {},
   "outputs": [
    {
     "name": "stdout",
     "output_type": "stream",
     "text": [
      "1\n",
      "2\n",
      "3\n",
      "4\n",
      "5\n",
      "6\n",
      "7\n",
      "8\n",
      "9\n",
      "10\n"
     ]
    }
   ],
   "source": [
    "# 1a uzduotis\n",
    "#atspaudinti pirmus 10 imtinai skaiciu naudojant FOR LOOP\n",
    "\n",
    "for number in range(1,11):\n",
    "    print(number)"
   ]
  },
  {
   "cell_type": "code",
   "execution_count": 4,
   "metadata": {},
   "outputs": [
    {
     "name": "stdout",
     "output_type": "stream",
     "text": [
      "1275\n",
      "1275\n",
      "[1, 2, 3, 4, 5, 6, 7, 8, 9, 10, 11, 12, 13, 14, 15, 16, 17, 18, 19, 20, 21, 22, 23, 24, 25, 26, 27, 28, 29, 30, 31, 32, 33, 34, 35, 36, 37, 38, 39, 40, 41, 42, 43, 44, 45, 46, 47, 48, 49, 50, 51, 52, 53, 54, 55, 56, 57, 58, 59, 60, 61, 62, 63, 64, 65, 66, 67, 68, 69, 70, 71, 72, 73, 74, 75, 76, 77, 78, 79, 80, 81, 82, 83, 84, 85, 86, 87, 88, 89, 90, 91, 92, 93, 94, 95, 96, 97, 98, 99, 100, 101, 102, 103, 104, 105, 106, 107, 108, 109, 110, 111, 112, 113, 114, 115, 116, 117, 118, 119, 120, 121, 122, 123, 124, 125, 126, 127, 128, 129, 130, 131, 132, 133, 134, 135, 136, 137, 138, 139, 140, 141, 142, 143, 144, 145, 146, 147, 148, 149, 150, 151, 152, 153, 154, 155, 156, 157, 158, 159, 160, 161, 162, 163, 164, 165, 166, 167, 168, 169, 170, 171, 172, 173, 174, 175, 176, 177, 178, 179, 180, 181, 182, 183, 184, 185, 186, 187, 188, 189, 190, 191, 192, 193, 194, 195, 196, 197, 198, 199]\n"
     ]
    }
   ],
   "source": [
    "# 2 uzduotis\n",
    "# gauti suma pirmu 50 skaiciu\n",
    "#PIRMA reikia skaiciu sekos, ANTRA kad gauti suma reikia tuos skaicius prie kazko pridet\n",
    "#todel susikuriam SUMA - kintamasis kuriam saugosim tarpini rezultata, pradzioj nulis nes neturi\n",
    "#jokios reiksmes\n",
    "\n",
    "suma = 0\n",
    "for number in range (1,51):\n",
    "    suma += number  # += reiksme It adds right operand to the left operand and assign the result to left operand\n",
    "print(suma)\n",
    "\n",
    "#kitas gerensnis budas\n",
    "\n",
    "list_5 = list(range(1,51))\n",
    "print(sum(list_5))\n",
    "\n",
    "##susikurti seka\n",
    "print(list(range(1,200)))\n",
    "\n"
   ]
  },
  {
   "cell_type": "code",
   "execution_count": 5,
   "metadata": {},
   "outputs": [
    {
     "name": "stdout",
     "output_type": "stream",
     "text": [
      "3\n",
      "6\n",
      "9\n",
      "12\n",
      "15\n",
      "18\n",
      "21\n",
      "24\n",
      "27\n",
      "30\n"
     ]
    }
   ],
   "source": [
    "# 3 uzduotis\n",
    "number = input('irasykite skaiciu')\n",
    "#reikia simboli pasiversti i skaiciu\n",
    "number = int(number)\n",
    "for skaicius in range(1,11):\n",
    "    print(number * skaicius)"
   ]
  },
  {
   "cell_type": "code",
   "execution_count": null,
   "metadata": {},
   "outputs": [
    {
     "name": "stdout",
     "output_type": "stream",
     "text": [
      "Pirmadienis 10\n",
      "Pirmadienis 11\n",
      "Pirmadienis 12\n",
      "Pirmadienis 13\n",
      "Pirmadienis 14\n",
      "Pirmadienis 15\n",
      "Pirmadienis 16\n",
      "Pirmadienis 17\n",
      "Pirmadienis 18\n",
      "Pirmadienis 19\n",
      "Antradienis 10\n",
      "Antradienis 11\n",
      "Antradienis 12\n",
      "Antradienis 13\n",
      "Antradienis 14\n",
      "Antradienis 15\n",
      "Antradienis 16\n",
      "Antradienis 17\n",
      "Antradienis 18\n",
      "Antradienis 19\n",
      "Treciadienis 10\n",
      "Treciadienis 11\n",
      "Treciadienis 12\n",
      "Treciadienis 13\n",
      "Treciadienis 14\n",
      "Treciadienis 15\n",
      "Treciadienis 16\n",
      "Treciadienis 17\n",
      "Treciadienis 18\n",
      "Treciadienis 19\n",
      "Ketvirtadienis 10\n",
      "Ketvirtadienis 11\n",
      "Ketvirtadienis 12\n",
      "Ketvirtadienis 13\n",
      "Ketvirtadienis 14\n",
      "Ketvirtadienis 15\n",
      "Ketvirtadienis 16\n",
      "Ketvirtadienis 17\n",
      "Ketvirtadienis 18\n",
      "Ketvirtadienis 19\n",
      "Penktadienis 10\n",
      "Penktadienis 11\n",
      "Penktadienis 12\n",
      "Penktadienis 13\n",
      "Penktadienis 14\n",
      "Penktadienis 15\n",
      "Penktadienis 16\n",
      "Penktadienis 17\n",
      "Penktadienis 18\n",
      "Penktadienis 19\n",
      "Sestadienis 10\n",
      "Sestadienis 11\n",
      "Sestadienis 12\n",
      "Sestadienis 13\n",
      "Sestadienis 14\n",
      "Sestadienis 15\n",
      "Sestadienis 16\n",
      "Sestadienis 17\n",
      "Sestadienis 18\n",
      "Sestadienis 19\n",
      "Sekmadienis 10\n",
      "Sekmadienis 11\n",
      "Sekmadienis 12\n",
      "Sekmadienis 13\n",
      "Sekmadienis 14\n",
      "Sekmadienis 15\n",
      "Sekmadienis 16\n",
      "Sekmadienis 17\n",
      "Sekmadienis 18\n",
      "Sekmadienis 19\n",
      "[('Pirmadienis', 10), ('Pirmadienis', 11), ('Pirmadienis', 12), ('Pirmadienis', 13), ('Pirmadienis', 14), ('Pirmadienis', 15), ('Pirmadienis', 16), ('Pirmadienis', 17), ('Pirmadienis', 18), ('Pirmadienis', 19), ('Antradienis', 10), ('Antradienis', 11), ('Antradienis', 12), ('Antradienis', 13), ('Antradienis', 14), ('Antradienis', 15), ('Antradienis', 16), ('Antradienis', 17), ('Antradienis', 18), ('Antradienis', 19), ('Treciadienis', 10), ('Treciadienis', 11), ('Treciadienis', 12), ('Treciadienis', 13), ('Treciadienis', 14), ('Treciadienis', 15), ('Treciadienis', 16), ('Treciadienis', 17), ('Treciadienis', 18), ('Treciadienis', 19), ('Ketvirtadienis', 10), ('Ketvirtadienis', 11), ('Ketvirtadienis', 12), ('Ketvirtadienis', 13), ('Ketvirtadienis', 14), ('Ketvirtadienis', 15), ('Ketvirtadienis', 16), ('Ketvirtadienis', 17), ('Ketvirtadienis', 18), ('Ketvirtadienis', 19), ('Penktadienis', 10), ('Penktadienis', 11), ('Penktadienis', 12), ('Penktadienis', 13), ('Penktadienis', 14), ('Penktadienis', 15), ('Penktadienis', 16), ('Penktadienis', 17), ('Penktadienis', 18), ('Penktadienis', 19), ('Sestadienis', 10), ('Sestadienis', 11), ('Sestadienis', 12), ('Sestadienis', 13), ('Sestadienis', 14), ('Sestadienis', 15), ('Sestadienis', 16), ('Sestadienis', 17), ('Sestadienis', 18), ('Sestadienis', 19), ('Sekmadienis', 10), ('Sekmadienis', 11), ('Sekmadienis', 12), ('Sekmadienis', 13), ('Sekmadienis', 14), ('Sekmadienis', 15), ('Sekmadienis', 16), ('Sekmadienis', 17), ('Sekmadienis', 18), ('Sekmadienis', 19)]\n"
     ]
    }
   ],
   "source": [
    "# 4 uzduotis\n",
    "#visos imanomos kombinacijos\n",
    "\n",
    "dienos = ['Pirmadienis', 'Antradienis', 'Treciadienis', 'Ketvirtadienis', 'Penktadienis', 'Sestadienis', 'Sekmadienis']\n",
    "valandos = [10, 11, 12, 13, 14, 15, 16, 17, 18, 19]\n",
    "\n",
    "for diena in dienos:\n",
    "    for valanda in valandos:\n",
    "        print(diena, valanda)\n",
    "\n",
    "##ARBA\n",
    "### sudetingas\n",
    "# susikuriam sarasa kuriame talpinti tas visas kombinacijas, veita atminty\n",
    "kombinacijos = []\n",
    "for diena in dienos:\n",
    "    for valanda in valandos:\n",
    "        kombinacijos.append( (diena,valanda) ) #paimam kaip tuple objekta, dvigubi skliaustai\n",
    "print(kombinacijos)\n"
   ]
  }
 ],
 "metadata": {
  "interpreter": {
   "hash": "597c27bdec948a723379e3862a7a52fdcff4b9ed54603ddf8d9b8d65ac298266"
  },
  "kernelspec": {
   "display_name": "Python 3.9.7 64-bit",
   "language": "python",
   "name": "python3"
  },
  "language_info": {
   "codemirror_mode": {
    "name": "ipython",
    "version": 3
   },
   "file_extension": ".py",
   "mimetype": "text/x-python",
   "name": "python",
   "nbconvert_exporter": "python",
   "pygments_lexer": "ipython3",
   "version": "3.9.7"
  },
  "orig_nbformat": 4
 },
 "nbformat": 4,
 "nbformat_minor": 2
}
