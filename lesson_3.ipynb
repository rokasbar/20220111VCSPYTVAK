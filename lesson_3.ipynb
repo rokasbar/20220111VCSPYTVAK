{
 "cells": [
  {
   "cell_type": "code",
   "execution_count": 141,
   "metadata": {},
   "outputs": [],
   "source": [
    "#3 pamoka\n",
    "#list - sarasai ,tuple, range, none, for loop & if"
   ]
  },
  {
   "cell_type": "markdown",
   "metadata": {},
   "source": [
    "#list-sarasai"
   ]
  },
  {
   "cell_type": "code",
   "execution_count": 142,
   "metadata": {},
   "outputs": [
    {
     "name": "stdout",
     "output_type": "stream",
     "text": [
      "Vilnius\n",
      "Hello World\n",
      "Hello world\n"
     ]
    }
   ],
   "source": [
    "#teorija\n",
    "#sarasai turi sekos parametrus, pvz jeigu indeksas 0 tada ims pirma reiksme is saraso\n",
    "#galima pamatyti kiek nariu turi sarasas\n",
    "#patikrinti kas egzistuoja jame\n",
    "\n",
    "my_list = ['item1', 'item2']\n",
    "\n",
    "#pvz\n",
    "\n",
    "cities = ['Vilnius', 'Kaunas', 'Hello World']\n",
    "print(cities[0])\n",
    "print(cities[-1])\n",
    "print(cities[-1].replace('World','world'))"
   ]
  },
  {
   "cell_type": "code",
   "execution_count": 143,
   "metadata": {},
   "outputs": [
    {
     "name": "stdout",
     "output_type": "stream",
     "text": [
      "[5, 6, 7, 8]\n",
      "[5]\n",
      "8\n"
     ]
    }
   ],
   "source": [
    "numbers = [1, 2, 3, 5, 6, 7, 8]\n",
    "print(numbers[3:])\n",
    "print(numbers[3:4])\n",
    "print(numbers[-1])"
   ]
  },
  {
   "cell_type": "markdown",
   "metadata": {},
   "source": [
    "#append funkcija"
   ]
  },
  {
   "cell_type": "code",
   "execution_count": 144,
   "metadata": {},
   "outputs": [
    {
     "name": "stdout",
     "output_type": "stream",
     "text": [
      "7\n",
      "None\n"
     ]
    }
   ],
   "source": [
    "print(len(numbers))\n",
    "#append funkcija - prijungia prie saraso galo\n",
    "print(numbers.append('100'))\n",
    "\n"
   ]
  },
  {
   "cell_type": "markdown",
   "metadata": {},
   "source": [
    "#extend funkcija"
   ]
  },
  {
   "cell_type": "code",
   "execution_count": 145,
   "metadata": {},
   "outputs": [
    {
     "name": "stdout",
     "output_type": "stream",
     "text": [
      "[1, 2, 3, 5, 6, 7, 8, '100', 1, 2, 5]\n"
     ]
    }
   ],
   "source": [
    "numbers.extend([1,2,5])\n",
    "print(numbers)"
   ]
  },
  {
   "cell_type": "code",
   "execution_count": 146,
   "metadata": {},
   "outputs": [
    {
     "name": "stdout",
     "output_type": "stream",
     "text": [
      "[1, 2, 3]\n",
      "[]\n"
     ]
    }
   ],
   "source": [
    "numbers_2 = [1,2,3]\n",
    "print(numbers_2)\n",
    "#istrinti seka numeriu\n",
    "numbers_2.clear()\n",
    "print (numbers_2)"
   ]
  },
  {
   "cell_type": "code",
   "execution_count": 147,
   "metadata": {},
   "outputs": [
    {
     "name": "stdout",
     "output_type": "stream",
     "text": [
      "[5, 2, 1, '100', 8, 7, 6, 5, 3, 2, 1]\n"
     ]
    }
   ],
   "source": [
    "#apversti sarasa aukstyn kojom\n",
    "numbers.reverse()\n",
    "print(numbers)"
   ]
  },
  {
   "cell_type": "code",
   "execution_count": 148,
   "metadata": {},
   "outputs": [
    {
     "name": "stdout",
     "output_type": "stream",
     "text": [
      "2\n"
     ]
    }
   ],
   "source": [
    "#kiek kartojosi kazkokia reiksme COUNT funkcija\n",
    "print(numbers.count(1))"
   ]
  },
  {
   "cell_type": "code",
   "execution_count": 149,
   "metadata": {},
   "outputs": [
    {
     "name": "stdout",
     "output_type": "stream",
     "text": [
      "[5, 2, 1, '100', 8, 7, 6, 5, 11, 3, 2, 1]\n"
     ]
    }
   ],
   "source": [
    "#prideti dar viena reiksme\n",
    "numbers.insert(-3,11) #index, value\n",
    "print(numbers)"
   ]
  },
  {
   "cell_type": "code",
   "execution_count": 150,
   "metadata": {},
   "outputs": [
    {
     "name": "stdout",
     "output_type": "stream",
     "text": [
      "[5, 666, 87, 67, 98]\n",
      "[5, 67, 87, 98, 666]\n",
      "[666, 98, 87, 67, 5]\n"
     ]
    }
   ],
   "source": [
    "#SORT funkija\n",
    "numbers_3 = [5,666,87,67,98]\n",
    "print(numbers_3)\n",
    "numbers_3.sort()\n",
    "print(numbers_3)\n",
    "numbers_3.sort(reverse=True)\n",
    "print(numbers_3)"
   ]
  },
  {
   "cell_type": "code",
   "execution_count": 151,
   "metadata": {},
   "outputs": [],
   "source": [
    "#pakeisti reiksme sarase"
   ]
  },
  {
   "cell_type": "code",
   "execution_count": 152,
   "metadata": {},
   "outputs": [
    {
     "name": "stdout",
     "output_type": "stream",
     "text": [
      "['Vilnius', 'Kaunas', 'Hello World']\n",
      "['Vilnius', 'Kaunas', 'Klaipeda']\n",
      "False\n"
     ]
    }
   ],
   "source": [
    "print(cities)\n",
    "cities[2] = 'Klaipeda'\n",
    "print(cities)\n",
    "\n",
    "#patikrint ar reiksme yra sarase\n",
    "print('Panevezys' in cities)"
   ]
  },
  {
   "cell_type": "markdown",
   "metadata": {},
   "source": [
    "#Prie saraso pridedi kita sarasa"
   ]
  },
  {
   "cell_type": "code",
   "execution_count": 153,
   "metadata": {},
   "outputs": [
    {
     "name": "stdout",
     "output_type": "stream",
     "text": [
      "[1, 2, 3, 'a', 'b', 'c']\n"
     ]
    }
   ],
   "source": [
    "my_combined_list = [1,2,3] +  ['a', 'b', 'c']\n",
    "print(my_combined_list)"
   ]
  },
  {
   "cell_type": "markdown",
   "metadata": {},
   "source": [
    "#uzduotys"
   ]
  },
  {
   "cell_type": "code",
   "execution_count": 161,
   "metadata": {},
   "outputs": [
    {
     "name": "stdout",
     "output_type": "stream",
     "text": [
      "4\n",
      "[1, 2, 4, 7, 12]\n",
      "[5, 76, 56, 14, 6, 7, 10, 54, 13]\n",
      "[5, 76, 56, 6, 7, 10, 54, 13]\n",
      "[5, 6, 7, 10, 13, 54, 56, 76]\n"
     ]
    }
   ],
   "source": [
    "#1 uzduotis\n",
    "list = [1,2,4,7]\n",
    "print(len(list))\n",
    "list.append(12)\n",
    "print(list)\n",
    "\n",
    "#2 uzduotis\n",
    "12 in list  \n",
    "\n",
    "#3 uzduotis\n",
    "\n",
    "List_1 = [5,76,56,14]\n",
    "List_2 = [6,7,10,54,13]\n",
    "\n",
    "combined = List_1 + List_2\n",
    "print(combined)\n",
    "\n",
    "combined.remove(14)\n",
    "print(combined)\n",
    "\n",
    "combined.sort(reverse=False)\n",
    "print(combined)\n",
    "\n",
    "\n"
   ]
  },
  {
   "cell_type": "markdown",
   "metadata": {},
   "source": [
    "#Mutable and immutable variables"
   ]
  },
  {
   "cell_type": "markdown",
   "metadata": {},
   "source": [
    "#TUPLE - sarasas, bet negalim keisti reiksmiu, skirtumas skliaustai - paprasti, o ne lauztiniai"
   ]
  },
  {
   "cell_type": "code",
   "execution_count": 197,
   "metadata": {},
   "outputs": [
    {
     "name": "stdout",
     "output_type": "stream",
     "text": [
      "53\n",
      "(1, 53, 84, 4)\n",
      "(1, 53, 84, 4, 1, 'Vilnius', 'Klaipeda')\n",
      "7\n"
     ]
    }
   ],
   "source": [
    "my_tuple = (1,53,84,4,1)\n",
    "print(my_tuple[1])\n",
    "print(my_tuple[0:4])\n",
    "\n",
    "#funkcijos\n",
    "my_tuple.count(1)\n",
    "my_tuple.index(84)\n",
    "\n",
    "combined_tuple = my_tuple + (\"Vilnius\", \"Klaipeda\")\n",
    "print(combined_tuple)\n",
    "\n",
    "print(len(combined_tuple)) # kiek nariu\n",
    "\n"
   ]
  },
  {
   "cell_type": "code",
   "execution_count": 198,
   "metadata": {},
   "outputs": [
    {
     "name": "stdout",
     "output_type": "stream",
     "text": [
      "8\n",
      "(11, [222, 22], 44, 55)\n"
     ]
    }
   ],
   "source": [
    "# 1 uzduotis\n",
    "\n",
    "my_tuple = (1, 2, ['3', 4, 5], [6, [7, (8)]])\n",
    "#print(my_tuple[-1])\n",
    "#print(my_tuple[-1][1])\n",
    "#print(my_tuple[-1][1][1])\n",
    "print(my_tuple[-1][-1][-1])\n",
    "\n",
    "# 2 uzduotis\n",
    "\n",
    "tuple1 = (11, [222, 33], 44, 55)\n",
    "\n",
    "## 33 pakeisti i 22\n",
    "\n",
    "tuple1 [1][1] = 22\n",
    "print(tuple1)\n",
    "\n",
    "\n",
    "\n"
   ]
  },
  {
   "cell_type": "markdown",
   "metadata": {},
   "source": [
    "#RANGE - funkcija kuri sukuria skaiciu seka"
   ]
  },
  {
   "cell_type": "code",
   "execution_count": 210,
   "metadata": {},
   "outputs": [
    {
     "name": "stdout",
     "output_type": "stream",
     "text": [
      "range(0, 10)\n",
      "<class 'range'>\n"
     ]
    }
   ],
   "source": [
    "print (range(10))\n",
    "print(type(range(10)))\n"
   ]
  },
  {
   "cell_type": "markdown",
   "metadata": {},
   "source": [
    "#For loop is saraso istraukia reiksme ir prideda teksta"
   ]
  },
  {
   "cell_type": "code",
   "execution_count": null,
   "metadata": {},
   "outputs": [],
   "source": [
    "miestai = ['Vilnius', 'Kaunas', 'Klaipeda']"
   ]
  },
  {
   "cell_type": "markdown",
   "metadata": {},
   "source": [
    "#Užduotys"
   ]
  },
  {
   "cell_type": "code",
   "execution_count": 213,
   "metadata": {},
   "outputs": [
    {
     "ename": "SyntaxError",
     "evalue": "invalid syntax (Temp/ipykernel_18824/211870462.py, line 3)",
     "output_type": "error",
     "traceback": [
      "\u001b[1;36m  Input \u001b[1;32mIn [213]\u001b[1;36m\u001b[0m\n\u001b[1;33m    print(f'your number is in'{number})\u001b[0m\n\u001b[1;37m                              ^\u001b[0m\n\u001b[1;31mSyntaxError\u001b[0m\u001b[1;31m:\u001b[0m invalid syntax\n"
     ]
    }
   ],
   "source": [
    "# 1 uzduotis\n",
    "for number in range(1,11):\n",
    "    print(f'your number is in'{number})"
   ]
  },
  {
   "cell_type": "code",
   "execution_count": null,
   "metadata": {},
   "outputs": [],
   "source": []
  }
 ],
 "metadata": {
  "interpreter": {
   "hash": "597c27bdec948a723379e3862a7a52fdcff4b9ed54603ddf8d9b8d65ac298266"
  },
  "kernelspec": {
   "display_name": "Python 3.9.7 64-bit",
   "language": "python",
   "name": "python3"
  },
  "language_info": {
   "codemirror_mode": {
    "name": "ipython",
    "version": 3
   },
   "file_extension": ".py",
   "mimetype": "text/x-python",
   "name": "python",
   "nbconvert_exporter": "python",
   "pygments_lexer": "ipython3",
   "version": "3.9.7"
  },
  "orig_nbformat": 4
 },
 "nbformat": 4,
 "nbformat_minor": 2
}
