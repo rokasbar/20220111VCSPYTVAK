{
 "cells": [
  {
   "cell_type": "markdown",
   "metadata": {},
   "source": [
    "# Funkcijos"
   ]
  },
  {
   "cell_type": "markdown",
   "metadata": {},
   "source": [
    "#FUNKCIJOS aprasymas visada prasides nuo def (define) zodis(argumentai):\n",
    "                                                        print(argumentai)"
   ]
  },
  {
   "cell_type": "code",
   "execution_count": 1,
   "metadata": {},
   "outputs": [],
   "source": [
    "def hello(): \n",
    "    x = 2 + 5\n",
    "    print(\"Hello World\")\n",
    "    #print(x)\n",
    "\n",
    "#tai yra funkcija pavadinimu HELLO kuriai paleisti nereikia jokiu\n",
    "#papildomu argumentu/info kad ja paleisti () - tusti skliausteliai\n",
    "#toliau eina salyga\n",
    "#paleidus ja nieko negaunam, nes tai yra tiesiog funkcijos aprasymas - jokio rezultato\n",
    "#mums reikia iskviesti funkcija kad gauti is jos rezultata"
   ]
  },
  {
   "cell_type": "code",
   "execution_count": 2,
   "metadata": {},
   "outputs": [
    {
     "name": "stdout",
     "output_type": "stream",
     "text": [
      "Hello World\n"
     ]
    }
   ],
   "source": [
    "#ISKVIECIAM FUNKCIJA IR GAUNAM REZULTATA\n",
    "#dvigubi skliaustai visada butini\n",
    "\n",
    "hello()\n",
    "\n",
    "#kadangi funkcijoj argumentas x = 2+5 nera su print()komanda, kvieciant funkcija\n",
    "#jo ir neispausdina"
   ]
  },
  {
   "cell_type": "code",
   "execution_count": 3,
   "metadata": {},
   "outputs": [],
   "source": [
    "#FUNKCIJA SU ARGUMENTU\n",
    "#argumentas cia yra skliaustuose (name)\n",
    "#ir funkcija isspausdina formatuota teksta\n",
    "\n",
    "def say_hello(name):\n",
    "    print(f'Hello {name}, how are you doing?')"
   ]
  },
  {
   "cell_type": "code",
   "execution_count": 4,
   "metadata": {},
   "outputs": [
    {
     "name": "stdout",
     "output_type": "stream",
     "text": [
      "Hello Rokas, how are you doing?\n",
      "Hello Darius, how are you doing?\n",
      "Hello Jonas, how are you doing?\n"
     ]
    }
   ],
   "source": [
    "#Kvieciam funkcija su argumentu\n",
    "#argumentas keliauja i funkcija ir gaunam rezultata\n",
    "\n",
    "say_hello('Rokas')\n",
    "say_hello('Darius')\n",
    "say_hello('Jonas')\n",
    "\n",
    "#vietoj to kad daug kartu print kazka su F stringu, funkcija padeda ta padaryt greiciau"
   ]
  },
  {
   "cell_type": "code",
   "execution_count": 5,
   "metadata": {},
   "outputs": [],
   "source": [
    "#funkcija su daugiau argumentu\n",
    "\n",
    "def subtract_numbers(num_1, num_2): #positional arguments\n",
    "    print(num_1 - num_2)"
   ]
  },
  {
   "cell_type": "code",
   "execution_count": 6,
   "metadata": {},
   "outputs": [
    {
     "name": "stdout",
     "output_type": "stream",
     "text": [
      "-6\n",
      "6\n",
      "6\n",
      "None\n"
     ]
    }
   ],
   "source": [
    "#Kviesdami funkcija galime nurodyti kokia eile eina argumentai\n",
    "\n",
    "subtract_numbers(5, 11)   #positional arguments\n",
    "\n",
    "subtract_numbers(num_2=5, num_1=11)   #switched positions\n",
    "\n",
    "print(subtract_numbers(num_2=5, num_1=11))  \n",
    "#Jei funkcija ismeta None, reiskia prie apibrezimo jinai neturi RETURN raktazodzio"
   ]
  },
  {
   "cell_type": "markdown",
   "metadata": {},
   "source": [
    "# Po apibrezimo naudoti RETURN, o tada kviesti funkcija su PRINT _taip atseit geriausia"
   ]
  },
  {
   "cell_type": "code",
   "execution_count": 7,
   "metadata": {},
   "outputs": [],
   "source": [
    "#Funkcija kai vienas kintamasis privalomas kitas ne,\n",
    "#jei prie number_2 nenurodysim vertes, ims tuomet automatiskai 5\n",
    "\n",
    "def add_numbers(number_1, number_2 = 5):\n",
    "    return number_1 + number_2\n",
    "\n",
    "#TEISINGAS APRASYMAS FUNKCIJOS SU RETURN, KVIECIAM SU PRINT"
   ]
  },
  {
   "cell_type": "code",
   "execution_count": 8,
   "metadata": {},
   "outputs": [
    {
     "name": "stdout",
     "output_type": "stream",
     "text": [
      "46\n",
      "16\n",
      "helloworld\n"
     ]
    }
   ],
   "source": [
    "print(add_numbers(11,35))\n",
    "print(add_numbers(11))\n",
    "print(add_numbers('hello','world'))  #nebutinai tai veikia su skaiciais, veikia ir su STRING"
   ]
  },
  {
   "cell_type": "markdown",
   "metadata": {},
   "source": [
    "#Funkcija gali priimt daug argumentu, nors nezinom ju konkretaus kieko bet zinom kad tai pvz bus vien skaiciai"
   ]
  },
  {
   "cell_type": "code",
   "execution_count": 9,
   "metadata": {},
   "outputs": [],
   "source": [
    "##  *args funkcija visus argumentus sudeda i viena sarasa\n",
    "def add_all_numbers(*args):\n",
    "    #print(args)\n",
    "    for num in args:\n",
    "        print(num)"
   ]
  },
  {
   "cell_type": "code",
   "execution_count": 10,
   "metadata": {},
   "outputs": [
    {
     "name": "stdout",
     "output_type": "stream",
     "text": [
      "5\n",
      "5\n",
      "101\n",
      "546\n",
      "888\n",
      "77\n",
      "76\n",
      "98\n",
      "107\n"
     ]
    }
   ],
   "source": [
    "add_all_numbers(5)\n",
    "add_all_numbers(5, 101, 546, 888, 77, 76, 98, 107)"
   ]
  },
  {
   "cell_type": "markdown",
   "metadata": {},
   "source": [
    "#kitas variantas, funkcija su daug argumentu\n",
    "#du privalomi argumentai, vienas pasirenkamas ir\n",
    "#KEY Wargs - key word arguments (susije su Dictionary duomenu tipu),\n",
    "#sumeta visus kitus argumentus kurie neivardinti funkcijos apibrezime i rezultata (print)"
   ]
  },
  {
   "cell_type": "markdown",
   "metadata": {},
   "source": [
    "#pirma turi eit privalomi argumentai, tuomet ne privalomi, o ant galo key wargs ir pan"
   ]
  },
  {
   "cell_type": "code",
   "execution_count": 11,
   "metadata": {},
   "outputs": [],
   "source": [
    "def say_hello_2(name, num_1, num_2 = 10, **kwargs):\n",
    "    print(f'hello {name}')\n",
    "    print(f'sum of numbers: {num_1 + num_2}')\n",
    "    for key in kwargs:\n",
    "        print(f'key is {key} and value is {kwargs[key]}')"
   ]
  },
  {
   "cell_type": "code",
   "execution_count": 12,
   "metadata": {},
   "outputs": [
    {
     "name": "stdout",
     "output_type": "stream",
     "text": [
      "hello Darius\n",
      "sum of numbers: 516\n",
      "hello Darius\n",
      "sum of numbers: 516\n",
      "key is surname and value is Barniskis\n",
      "key is age and value is 27\n",
      "key is race and value is white European\n"
     ]
    }
   ],
   "source": [
    "say_hello_2('Darius', 506)\n",
    "say_hello_2('Darius', 506, surname = 'Barniskis', age = 27, race = 'white European')"
   ]
  },
  {
   "cell_type": "markdown",
   "metadata": {},
   "source": [
    "#paprastesne funkcija"
   ]
  },
  {
   "cell_type": "code",
   "execution_count": 13,
   "metadata": {},
   "outputs": [],
   "source": [
    "def say_hello(name):\n",
    "    print(f'hello {name}')"
   ]
  },
  {
   "cell_type": "code",
   "execution_count": 14,
   "metadata": {},
   "outputs": [
    {
     "name": "stdout",
     "output_type": "stream",
     "text": [
      "hello Darius\n"
     ]
    }
   ],
   "source": [
    "say_hello('Darius')"
   ]
  },
  {
   "cell_type": "markdown",
   "metadata": {},
   "source": [
    "# uzduotys"
   ]
  },
  {
   "cell_type": "markdown",
   "metadata": {},
   "source": [
    "#1 deklaruokite funkcija kuri priima du skaicius, jeigu skaiciu suma lygine, grazinkite ju sandauga, jei ne, padalinkite skaicius viena is kito"
   ]
  },
  {
   "cell_type": "code",
   "execution_count": 15,
   "metadata": {},
   "outputs": [],
   "source": [
    "#1 \n",
    "def function_1 (num_1, num_2):\n",
    "    if (num_1 + num_2) % 2 == 0:\n",
    "        return (num_1 * num_2)\n",
    "    else:\n",
    "        return(num_1 / num_2)"
   ]
  },
  {
   "cell_type": "code",
   "execution_count": 16,
   "metadata": {},
   "outputs": [
    {
     "name": "stdout",
     "output_type": "stream",
     "text": [
      "12\n",
      "2.0\n"
     ]
    }
   ],
   "source": [
    "print(function_1(2,6))\n",
    "print(function_1(10,5))"
   ]
  },
  {
   "cell_type": "code",
   "execution_count": 17,
   "metadata": {},
   "outputs": [
    {
     "name": "stdout",
     "output_type": "stream",
     "text": [
      "The Zen of Python, by Tim Peters\n",
      "\n",
      "Beautiful is better than ugly.\n",
      "Explicit is better than implicit.\n",
      "Simple is better than complex.\n",
      "Complex is better than complicated.\n",
      "Flat is better than nested.\n",
      "Sparse is better than dense.\n",
      "Readability counts.\n",
      "Special cases aren't special enough to break the rules.\n",
      "Although practicality beats purity.\n",
      "Errors should never pass silently.\n",
      "Unless explicitly silenced.\n",
      "In the face of ambiguity, refuse the temptation to guess.\n",
      "There should be one-- and preferably only one --obvious way to do it.\n",
      "Although that way may not be obvious at first unless you're Dutch.\n",
      "Now is better than never.\n",
      "Although never is often better than *right* now.\n",
      "If the implementation is hard to explain, it's a bad idea.\n",
      "If the implementation is easy to explain, it may be a good idea.\n",
      "Namespaces are one honking great idea -- let's do more of those!\n"
     ]
    }
   ],
   "source": [
    "import this"
   ]
  },
  {
   "cell_type": "markdown",
   "metadata": {},
   "source": [
    "#2 deklaruokite funkcija, kuri priima viena STRING tipo kintamaji, priskirkite funkcija naujam kintamajam ir iskvieskite ja per naujaji kintamaji"
   ]
  },
  {
   "cell_type": "code",
   "execution_count": 18,
   "metadata": {},
   "outputs": [],
   "source": [
    "#2 uzduotis pervadinti funkcijos pavadinima\n",
    "def hello(text):\n",
    "    print(text)\n",
    "\n",
    "#analogiskai gali but ir su RETURN ---print(hello('some text'))"
   ]
  },
  {
   "cell_type": "code",
   "execution_count": 19,
   "metadata": {},
   "outputs": [
    {
     "name": "stdout",
     "output_type": "stream",
     "text": [
      "hello from new function name\n"
     ]
    }
   ],
   "source": [
    "my_hello = hello\n",
    "my_hello('hello from new function name')"
   ]
  },
  {
   "cell_type": "markdown",
   "metadata": {},
   "source": [
    "#3 Kiek skaiciu dalinasi nuo 1 iki 10 imtinai?"
   ]
  },
  {
   "cell_type": "code",
   "execution_count": 20,
   "metadata": {},
   "outputs": [],
   "source": [
    "def mano_funkcija(*args):\n",
    "    result_dict = {1:0, 2:0, 3:0, 4:0, 5:0, 6:0, 7:0, 8:0, 9:0, 10:0}\n",
    "    for key in result_dict.keys():\n",
    "\n",
    "        for arg_num in args:\n",
    "            if arg_num % num == 0:\n",
    "                result_dict[key] +=1\n",
    "    return result_dict"
   ]
  },
  {
   "cell_type": "code",
   "execution_count": 21,
   "metadata": {},
   "outputs": [
    {
     "ename": "NameError",
     "evalue": "name 'num' is not defined",
     "output_type": "error",
     "traceback": [
      "\u001b[1;31m---------------------------------------------------------------------------\u001b[0m",
      "\u001b[1;31mNameError\u001b[0m                                 Traceback (most recent call last)",
      "Input \u001b[1;32mIn [21]\u001b[0m, in \u001b[0;36m<module>\u001b[1;34m\u001b[0m\n\u001b[1;32m----> 1\u001b[0m \u001b[43mmano_funkcija\u001b[49m\u001b[43m(\u001b[49m\u001b[38;5;241;43m1\u001b[39;49m\u001b[43m,\u001b[49m\u001b[38;5;241;43m2\u001b[39;49m\u001b[43m,\u001b[49m\u001b[38;5;241;43m65\u001b[39;49m\u001b[43m,\u001b[49m\u001b[38;5;241;43m30\u001b[39;49m\u001b[43m,\u001b[49m\u001b[38;5;241;43m9\u001b[39;49m\u001b[43m)\u001b[49m\n",
      "Input \u001b[1;32mIn [20]\u001b[0m, in \u001b[0;36mmano_funkcija\u001b[1;34m(*args)\u001b[0m\n\u001b[0;32m      3\u001b[0m \u001b[38;5;28;01mfor\u001b[39;00m key \u001b[38;5;129;01min\u001b[39;00m result_dict\u001b[38;5;241m.\u001b[39mkeys():\n\u001b[0;32m      5\u001b[0m     \u001b[38;5;28;01mfor\u001b[39;00m arg_num \u001b[38;5;129;01min\u001b[39;00m args:\n\u001b[1;32m----> 6\u001b[0m         \u001b[38;5;28;01mif\u001b[39;00m arg_num \u001b[38;5;241m%\u001b[39m \u001b[43mnum\u001b[49m \u001b[38;5;241m==\u001b[39m \u001b[38;5;241m0\u001b[39m:\n\u001b[0;32m      7\u001b[0m             result_dict[key] \u001b[38;5;241m+\u001b[39m\u001b[38;5;241m=\u001b[39m\u001b[38;5;241m1\u001b[39m\n\u001b[0;32m      8\u001b[0m \u001b[38;5;28;01mreturn\u001b[39;00m result_dict\n",
      "\u001b[1;31mNameError\u001b[0m: name 'num' is not defined"
     ]
    }
   ],
   "source": [
    "mano_funkcija(1,2,65,30,9)"
   ]
  },
  {
   "cell_type": "markdown",
   "metadata": {},
   "source": [
    "# Lambda"
   ]
  },
  {
   "cell_type": "markdown",
   "metadata": {},
   "source": [
    "#t.y trumpa funkcijos israiska daznai naudojama paprastoms funkcijoms. Jei nenorim rasyt pilnos funkcijos, tingim, nes panaudosim tik karta ar kelis"
   ]
  },
  {
   "cell_type": "code",
   "execution_count": null,
   "metadata": {},
   "outputs": [],
   "source": [
    "zodziai = ['as', 'mes', 'namas', 'kompiuteris', 'labailabaiilgaszodis', 'stalas']"
   ]
  },
  {
   "cell_type": "code",
   "execution_count": null,
   "metadata": {},
   "outputs": [
    {
     "name": "stdout",
     "output_type": "stream",
     "text": [
      "['as', 'kompiuteris', 'labailabaiilgaszodis', 'mes', 'namas', 'stalas']\n",
      "['as', 'mes', 'namas', 'stalas', 'kompiuteris', 'labailabaiilgaszodis']\n"
     ]
    }
   ],
   "source": [
    "zodziai.sort()\n",
    "print(zodziai) #sortinimas pagal zodzio ilgi taip neveikia\n",
    "\n",
    "#isrikiuoti zodzius nuo trumpiausio iki ilgiausio\n",
    "#parasom pagal ka mes norim rusiuot KEY\n",
    "#PO DVITASKIO SEKA FUNKCIJA\n",
    "# Xsai tai saraso nariai\n",
    "\n",
    "zodziai.sort(key=lambda x:len(x))\n",
    "print(zodziai)"
   ]
  },
  {
   "cell_type": "code",
   "execution_count": null,
   "metadata": {},
   "outputs": [
    {
     "data": {
      "text/plain": [
       "56"
      ]
     },
     "execution_count": 79,
     "metadata": {},
     "output_type": "execute_result"
    }
   ],
   "source": [
    "my_lambda = lambda x, y: x * y\n",
    "my_lambda (7,8)"
   ]
  },
  {
   "cell_type": "markdown",
   "metadata": {},
   "source": [
    "# While loop - skiriasi nuo for loop tuo kad su for loop sarasuose zinom konkretu nariu (kiek kartu reikia kartot cikla), while loop - nezinom is anksto kiek ilgai procesas truks"
   ]
  },
  {
   "cell_type": "code",
   "execution_count": null,
   "metadata": {},
   "outputs": [],
   "source": [
    "x = 5\n",
    "while x > 0:\n",
    "    print('hello from while loop')\n",
    "    x -= 1\n",
    "#kad iseiti is while loopo\n",
    "#rasom kad is X atimti 1 kiekvieno ciklo metu, kad jis galiausiai butu maziau 0 \n",
    "# ir kad jis sustotu"
   ]
  },
  {
   "cell_type": "code",
   "execution_count": null,
   "metadata": {},
   "outputs": [
    {
     "name": "stdout",
     "output_type": "stream",
     "text": [
      "Hello from while loop\n",
      "Hello from while loop\n",
      "Hello from while loop\n",
      "Hello from while loop\n",
      "Hello from while loop\n",
      "Hello from while loop\n",
      "Hello from while loop\n",
      "Hello from while loop\n",
      "Hello from while loop\n",
      "Hello from while loop\n",
      "Hello from while loop\n",
      "Hello from while loop\n",
      "Hello from while loop\n"
     ]
    }
   ],
   "source": [
    "import random\n",
    "x = 5\n",
    "while x > 0:\n",
    "    print('Hello from while loop')\n",
    "    if random.random() > 0.5:\n",
    "        x -= 1"
   ]
  },
  {
   "cell_type": "code",
   "execution_count": 26,
   "metadata": {},
   "outputs": [
    {
     "name": "stdout",
     "output_type": "stream",
     "text": [
      "jus ivedete skaiciu {human_input_number}\n"
     ]
    }
   ],
   "source": [
    "human_input_number = None\n",
    "while not human_input_number:\n",
    "    human_input = input('iveskite skaiciu nuo 1 iki 10')\n",
    "    if human_input.isdigit():\n",
    "        human_input_number = int(human_input)\n",
    "    else:\n",
    "        print(f'ivedete bloga skaiciu ({human_input}). Bandykite dar karta')\n",
    "print('jus ivedete skaiciu {human_input_number}')"
   ]
  },
  {
   "cell_type": "markdown",
   "metadata": {},
   "source": [
    "# Dar viena Function uzduotis"
   ]
  },
  {
   "cell_type": "code",
   "execution_count": 40,
   "metadata": {},
   "outputs": [],
   "source": [
    "\n",
    "#funkcijoje argumentai yra DU SARASAI\n",
    "\n",
    "#1 is pirmo saraso isimti reiksmes kurios yra maziau nei 10\n",
    "#2 is antro saraso isimti reiksmes kurios yra daugiau nei 10\n",
    "#3 sarasus atskirai sudeti ir sudauginti\n",
    "def functionExercise(list_1, list_2):\n",
    "    list_1 = [num for num in list_1 if num <= 10 ]\n",
    "    print(list_1)\n",
    "    list_2 = [num for num in list_2 if num >= 10 ]\n",
    "    print(list_2)\n",
    "    print(sum(list_1))\n",
    "    print(sum(list_2))\n",
    "    return sum(list_1) * sum(list_2)"
   ]
  },
  {
   "cell_type": "code",
   "execution_count": 41,
   "metadata": {},
   "outputs": [
    {
     "name": "stdout",
     "output_type": "stream",
     "text": [
      "[10, 9, 6, 2, 7]\n",
      "[20, 642, 33, 76]\n",
      "34\n",
      "771\n"
     ]
    },
    {
     "data": {
      "text/plain": [
       "26214"
      ]
     },
     "execution_count": 41,
     "metadata": {},
     "output_type": "execute_result"
    }
   ],
   "source": [
    "functionExercise ([10,9,6,16,15,55,2,7],[20,642,33,76,9,7,2])"
   ]
  }
 ],
 "metadata": {
  "interpreter": {
   "hash": "597c27bdec948a723379e3862a7a52fdcff4b9ed54603ddf8d9b8d65ac298266"
  },
  "kernelspec": {
   "display_name": "Python 3.9.7 64-bit",
   "language": "python",
   "name": "python3"
  },
  "language_info": {
   "codemirror_mode": {
    "name": "ipython",
    "version": 3
   },
   "file_extension": ".py",
   "mimetype": "text/x-python",
   "name": "python",
   "nbconvert_exporter": "python",
   "pygments_lexer": "ipython3",
   "version": "3.9.7"
  },
  "orig_nbformat": 4
 },
 "nbformat": 4,
 "nbformat_minor": 2
}
