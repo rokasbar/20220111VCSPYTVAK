{
 "cells": [
  {
   "cell_type": "markdown",
   "metadata": {},
   "source": [
    "1. Parašykite funkciją, kuri priims string tipo kintamąjį, \n",
    "gražinkite kiek tame stringę yra raidžių, skaičių ir skyrybos (specialių) ženklų, tarpų.\n",
    "\n",
    "\n",
    "simboliu_ieskotojas('vienas 2 ??’)\n",
    "\n",
    "Raidžių yra 6, skaičių yra 1, specialių simbolių yra 2"
   ]
  },
  {
   "cell_type": "code",
   "execution_count": 1,
   "metadata": {},
   "outputs": [],
   "source": [
    "def analyze_txt(txt_imputed):\n",
    "    letters = numbers = spaces = symbols = 0  #pakurti kintamieji kuriu verte yra 0, vertes kur bus kaupiama kiek kokiu verciu pasikartoja\n",
    "    for i in txt_imputed:  #daromas FOR ciklas su kuriuo praeinama per kiekviena\n",
    "        if i.isalpha():   #jei tai yra Raide pridedam vieneta prie raidziu\n",
    "            letters += 1\n",
    "        elif i.isdigit():\n",
    "            numbers += 1   #jei tai yra Skaicius pridedam vieneta prie Skaiciu\n",
    "        elif i.isspace():\n",
    "            spaces += 1     #jei tai yra SPACE pridedam vieneta prie TARPU\n",
    "        else:\n",
    "            symbols += 1     #jei tai specialus Simbolis\n",
    "    return (f\"Letters: {letters}, numbers: {numbers}, spaces: {spaces}, symbols: {symbols}.\")"
   ]
  },
  {
   "cell_type": "code",
   "execution_count": 2,
   "metadata": {},
   "outputs": [
    {
     "name": "stdout",
     "output_type": "stream",
     "text": [
      "Letters: 6, numbers: 1, spaces: 2, symbols: 2.\n"
     ]
    }
   ],
   "source": [
    "text = 'vienas 2 ??'\n",
    "print(analyze_txt(text))"
   ]
  },
  {
   "cell_type": "markdown",
   "metadata": {},
   "source": [
    "2. Parašykite funkciją, kuri priima tris skaičius, jie reikš nuo, iki ir žingsnis. Funkcija turi grąžinti list'ą skaičių tokių, kokius padavėte funkcijai\n",
    "\n",
    "print(skaiciuKurejas(10,100,5)) \n",
    "[10, 15, 20, 25, 30, 35, 40, 45, 50, 55, 60, 65, 70, 75, 80, 85, 90, 95]"
   ]
  },
  {
   "cell_type": "code",
   "execution_count": 3,
   "metadata": {},
   "outputs": [
    {
     "data": {
      "text/plain": [
       "[5, 10, 15, 20, 25, 30, 35, 40, 45, 50, 55, 60, 65, 70, 75, 80, 85, 90, 95]"
      ]
     },
     "execution_count": 3,
     "metadata": {},
     "output_type": "execute_result"
    }
   ],
   "source": [
    "def list_maker(start, end, step):\n",
    "    list_made = list(range(start, end, step))\n",
    "    return list_made\n",
    "\n",
    "list_start = int(input(\"Enter start number: \"))\n",
    "list_end = int(input(\"Enter end number: \"))\n",
    "list_step = int(input(\"Enter step: \"))\n",
    "\n",
    "list_maker (list_start, list_end, list_step)"
   ]
  },
  {
   "cell_type": "code",
   "execution_count": 4,
   "metadata": {},
   "outputs": [
    {
     "data": {
      "text/plain": [
       "[5, 10, 15, 20, 25, 30, 35, 40, 45, 50, 55, 60, 65, 70, 75, 80, 85, 90, 95]"
      ]
     },
     "execution_count": 4,
     "metadata": {},
     "output_type": "execute_result"
    }
   ],
   "source": [
    "list_maker (list_start, list_end, list_step)"
   ]
  },
  {
   "cell_type": "markdown",
   "metadata": {},
   "source": [
    "3. Parašyti funkciją, kuri priima vieną list'ą, funkcija grąžina skirtumą tarp didžiausio skaičiaus ir mažiausio skaičiaus\n",
    "\n",
    "\n",
    "my_function([1, 5, 6, 10, 4]) -> 9"
   ]
  },
  {
   "cell_type": "code",
   "execution_count": 5,
   "metadata": {},
   "outputs": [
    {
     "name": "stdout",
     "output_type": "stream",
     "text": [
      "9\n"
     ]
    }
   ],
   "source": [
    "# Sitas paprastesnis ir lengvesnis uzdavinys\n",
    "# paprasta funkcija\n",
    "\n",
    "list = [1, 5, 6, 10, 4]\n",
    "\n",
    "def function_1(list_inputed):   #Funkcija priima sarasa\n",
    "    smallest_sum = min(list_inputed)\n",
    "    biggest_num = max(list_inputed)\n",
    "    return biggest_num - smallest_sum\n",
    "\n",
    "\n",
    "print(function_1(list))"
   ]
  },
  {
   "cell_type": "markdown",
   "metadata": {},
   "source": [
    "4. Parašykite funkciją, kuri priims listą ir patikrins ar listo narys n+1 yra 1 didesnis nei n, jeigu visi listo nariai einantys vienas po kito yra didesni per 1, vadinasi anomalijos nėra, jei nors 1 narys neatitinka sekos, vadinasi yra anomalija.\n",
    "Pvz:\n",
    "\n",
    "\n",
    "anomaly_checker( [17,18,19,21] )\n",
    "\n",
    "Tarp skaiciu 17 ir 18 anomalijos nera \n",
    "Tarp skaiciu 18 ir 19 anomalijos nera \n",
    "Anomalija yra! Skaiciai 19 ir 21 nera einantys vienas po kito! Trukstamas skaicius yra 20"
   ]
  },
  {
   "cell_type": "code",
   "execution_count": 6,
   "metadata": {},
   "outputs": [
    {
     "ename": "TypeError",
     "evalue": "'list' object is not callable",
     "output_type": "error",
     "traceback": [
      "\u001b[1;31m---------------------------------------------------------------------------\u001b[0m",
      "\u001b[1;31mTypeError\u001b[0m                                 Traceback (most recent call last)",
      "Input \u001b[1;32mIn [6]\u001b[0m, in \u001b[0;36m<module>\u001b[1;34m\u001b[0m\n\u001b[0;32m     18\u001b[0m                 list_given\u001b[38;5;241m.\u001b[39mpop(\u001b[38;5;241m0\u001b[39m)\n\u001b[0;32m     19\u001b[0m                 number \u001b[38;5;241m=\u001b[39m list_given[\u001b[38;5;241m0\u001b[39m]\n\u001b[1;32m---> 21\u001b[0m \u001b[43manomaly_checker\u001b[49m\u001b[43m(\u001b[49m\u001b[43mlist_2\u001b[49m\u001b[43m)\u001b[49m\n",
      "Input \u001b[1;32mIn [6]\u001b[0m, in \u001b[0;36manomaly_checker\u001b[1;34m(list_given)\u001b[0m\n\u001b[0;32m      3\u001b[0m \u001b[38;5;28;01mdef\u001b[39;00m \u001b[38;5;21manomaly_checker\u001b[39m(list_given):\n\u001b[0;32m      5\u001b[0m     tmp_set \u001b[38;5;241m=\u001b[39m \u001b[38;5;28mset\u001b[39m(list_given)\n\u001b[1;32m----> 6\u001b[0m     list_given \u001b[38;5;241m=\u001b[39m \u001b[38;5;28;43mlist\u001b[39;49m\u001b[43m(\u001b[49m\u001b[43mtmp_set\u001b[49m\u001b[43m)\u001b[49m\n\u001b[0;32m      8\u001b[0m     list_given\u001b[38;5;241m.\u001b[39msort()\n\u001b[0;32m      9\u001b[0m     \u001b[38;5;28;01mfor\u001b[39;00m number \u001b[38;5;129;01min\u001b[39;00m list_given:\n",
      "\u001b[1;31mTypeError\u001b[0m: 'list' object is not callable"
     ]
    }
   ],
   "source": [
    "list_2 = [7, 8, 9, 10, 11, 12, 17, 18, 19]\n",
    "\n",
    "def anomaly_checker(list_given):\n",
    "\n",
    "    tmp_set = set(list_given)\n",
    "    list_given = list(tmp_set)\n",
    "    \n",
    "    list_given.sort()\n",
    "    for number in list_given:\n",
    "        while len(list_given) > 1:\n",
    "            if number + 1 == list_given[1]:\n",
    "                print(f\"Tarp skaičių {number} ir {list_given[1]} anomalijos nėra.\")\n",
    "                list_given.pop(0)\n",
    "                number = list_given[0]\n",
    "            else:\n",
    "                numbers_missing = list(range(number + 1, list_given[1],))\n",
    "                print(f\"Anomalija yra! Skaičiai {number} ir {list_given[1]} nėra einantys vienas po kito! Trūksta {numbers_missing}.\")\n",
    "                list_given.pop(0)\n",
    "                number = list_given[0]\n",
    "\n",
    "anomaly_checker(list_2)"
   ]
  },
  {
   "cell_type": "code",
   "execution_count": null,
   "metadata": {},
   "outputs": [
    {
     "name": "stdout",
     "output_type": "stream",
     "text": [
      "[7, 8, 9, 10, 11, 12, 17, 18]\n",
      "[8, 9, 10, 11, 12, 17, 18, 19]\n",
      "Tarp skaiciu 7 ir 8 anomalijos nera\n",
      "Tarp skaiciu 8 ir 9 anomalijos nera\n",
      "Tarp skaiciu 9 ir 10 anomalijos nera\n",
      "Tarp skaiciu 10 ir 11 anomalijos nera\n",
      "Tarp skaiciu 11 ir 12 anomalijos nera\n"
     ]
    },
    {
     "ename": "TypeError",
     "evalue": "'list' object is not callable",
     "output_type": "error",
     "traceback": [
      "\u001b[1;31m---------------------------------------------------------------------------\u001b[0m",
      "\u001b[1;31mTypeError\u001b[0m                                 Traceback (most recent call last)",
      "Input \u001b[1;32mIn [9]\u001b[0m, in \u001b[0;36m<module>\u001b[1;34m\u001b[0m\n\u001b[0;32m     10\u001b[0m             numbers_missing \u001b[38;5;241m=\u001b[39m \u001b[38;5;28mlist\u001b[39m(\u001b[38;5;28mrange\u001b[39m(number_1, number_r))\n\u001b[0;32m     11\u001b[0m             \u001b[38;5;28mprint\u001b[39m(\u001b[38;5;124mf\u001b[39m\u001b[38;5;124m'\u001b[39m\u001b[38;5;124mAnomalija yra, skaiciai \u001b[39m\u001b[38;5;132;01m{\u001b[39;00mnumber_1\u001b[38;5;132;01m}\u001b[39;00m\u001b[38;5;124m ir \u001b[39m\u001b[38;5;132;01m{\u001b[39;00mnumber_r\u001b[38;5;132;01m}\u001b[39;00m\u001b[38;5;124m nera einantys vienas po kito. Truksta \u001b[39m\u001b[38;5;132;01m{\u001b[39;00mnumbers_missing\u001b[38;5;132;01m}\u001b[39;00m\u001b[38;5;124m.\u001b[39m\u001b[38;5;124m'\u001b[39m)\n\u001b[1;32m---> 14\u001b[0m \u001b[43manomaly_checker_a_2\u001b[49m\u001b[43m(\u001b[49m\u001b[43mlist_2\u001b[49m\u001b[43m)\u001b[49m\n",
      "Input \u001b[1;32mIn [9]\u001b[0m, in \u001b[0;36manomaly_checker_a_2\u001b[1;34m(list_given)\u001b[0m\n\u001b[0;32m      8\u001b[0m     \u001b[38;5;28mprint\u001b[39m(\u001b[38;5;124mf\u001b[39m\u001b[38;5;124m'\u001b[39m\u001b[38;5;124mTarp skaiciu \u001b[39m\u001b[38;5;132;01m{\u001b[39;00mnumber_1\u001b[38;5;132;01m}\u001b[39;00m\u001b[38;5;124m ir \u001b[39m\u001b[38;5;132;01m{\u001b[39;00mnumber_r\u001b[38;5;132;01m}\u001b[39;00m\u001b[38;5;124m anomalijos nera\u001b[39m\u001b[38;5;124m'\u001b[39m)\n\u001b[0;32m      9\u001b[0m \u001b[38;5;28;01melse\u001b[39;00m:\n\u001b[1;32m---> 10\u001b[0m     numbers_missing \u001b[38;5;241m=\u001b[39m \u001b[38;5;28;43mlist\u001b[39;49m\u001b[43m(\u001b[49m\u001b[38;5;28;43mrange\u001b[39;49m\u001b[43m(\u001b[49m\u001b[43mnumber_1\u001b[49m\u001b[43m,\u001b[49m\u001b[43m \u001b[49m\u001b[43mnumber_r\u001b[49m\u001b[43m)\u001b[49m\u001b[43m)\u001b[49m\n\u001b[0;32m     11\u001b[0m     \u001b[38;5;28mprint\u001b[39m(\u001b[38;5;124mf\u001b[39m\u001b[38;5;124m'\u001b[39m\u001b[38;5;124mAnomalija yra, skaiciai \u001b[39m\u001b[38;5;132;01m{\u001b[39;00mnumber_1\u001b[38;5;132;01m}\u001b[39;00m\u001b[38;5;124m ir \u001b[39m\u001b[38;5;132;01m{\u001b[39;00mnumber_r\u001b[38;5;132;01m}\u001b[39;00m\u001b[38;5;124m nera einantys vienas po kito. Truksta \u001b[39m\u001b[38;5;132;01m{\u001b[39;00mnumbers_missing\u001b[38;5;132;01m}\u001b[39;00m\u001b[38;5;124m.\u001b[39m\u001b[38;5;124m'\u001b[39m)\n",
      "\u001b[1;31mTypeError\u001b[0m: 'list' object is not callable"
     ]
    }
   ],
   "source": [
    "def anomaly_checker_a_2(list_given):\n",
    "    list_1 = list_given[:-1]\n",
    "    list_2 = list_given[1:]\n",
    "    print(list_1)\n",
    "    print(list_2)\n",
    "    for number_1, number_r in zip(list_1, list_2):\n",
    "        if number_1 + 1 == number_r:\n",
    "            print(f'Tarp skaiciu {number_1} ir {number_r} anomalijos nera')\n",
    "        else:\n",
    "            numbers_missing = list(range(number_1, number_r))\n",
    "            print(f'Anomalija yra, skaiciai {number_1} ir {number_r} nera einantys vienas po kito. Truksta {numbers_missing}.')\n",
    "\n",
    "\n",
    "anomaly_checker_a_2(list_2)"
   ]
  },
  {
   "cell_type": "markdown",
   "metadata": {},
   "source": [
    "# ZIP funkcija\n",
    "#paima is kiekvieno saraso po nari ir juos visus kartu grazina"
   ]
  },
  {
   "cell_type": "code",
   "execution_count": 1,
   "metadata": {},
   "outputs": [
    {
     "name": "stdout",
     "output_type": "stream",
     "text": [
      "[(1, 'A'), (5, 'B'), (10, 'C')]\n"
     ]
    }
   ],
   "source": [
    "print(list(zip([1,5,10], [\"A\", \"B\", \"C\"])))"
   ]
  },
  {
   "cell_type": "markdown",
   "metadata": {},
   "source": [
    "# 2 uzdavinys, Lino variantas"
   ]
  },
  {
   "cell_type": "code",
   "execution_count": null,
   "metadata": {},
   "outputs": [
    {
     "ename": "TypeError",
     "evalue": "'list' object is not callable",
     "output_type": "error",
     "traceback": [
      "\u001b[1;31m---------------------------------------------------------------------------\u001b[0m",
      "\u001b[1;31mTypeError\u001b[0m                                 Traceback (most recent call last)",
      "Input \u001b[1;32mIn [12]\u001b[0m, in \u001b[0;36m<module>\u001b[1;34m\u001b[0m\n\u001b[0;32m      6\u001b[0m     list_made \u001b[38;5;241m=\u001b[39m \u001b[38;5;28mlist\u001b[39m(\u001b[38;5;28mrange\u001b[39m(list_start, list_end, list_step))\n\u001b[0;32m      7\u001b[0m     \u001b[38;5;28;01mreturn\u001b[39;00m list_made\n\u001b[1;32m----> 9\u001b[0m \u001b[43mlist_maker\u001b[49m\u001b[43m(\u001b[49m\u001b[43m)\u001b[49m\n",
      "Input \u001b[1;32mIn [12]\u001b[0m, in \u001b[0;36mlist_maker\u001b[1;34m()\u001b[0m\n\u001b[0;32m      3\u001b[0m list_end \u001b[38;5;241m=\u001b[39m \u001b[38;5;28mint\u001b[39m(\u001b[38;5;28minput\u001b[39m(\u001b[38;5;124m\"\u001b[39m\u001b[38;5;124mEnter end number: \u001b[39m\u001b[38;5;124m\"\u001b[39m))\n\u001b[0;32m      4\u001b[0m list_step \u001b[38;5;241m=\u001b[39m \u001b[38;5;28mint\u001b[39m(\u001b[38;5;28minput\u001b[39m(\u001b[38;5;124m\"\u001b[39m\u001b[38;5;124mEnter step: \u001b[39m\u001b[38;5;124m\"\u001b[39m))\n\u001b[1;32m----> 6\u001b[0m list_made \u001b[38;5;241m=\u001b[39m \u001b[38;5;28;43mlist\u001b[39;49m\u001b[43m(\u001b[49m\u001b[38;5;28;43mrange\u001b[39;49m\u001b[43m(\u001b[49m\u001b[43mlist_start\u001b[49m\u001b[43m,\u001b[49m\u001b[43m \u001b[49m\u001b[43mlist_end\u001b[49m\u001b[43m,\u001b[49m\u001b[43m \u001b[49m\u001b[43mlist_step\u001b[49m\u001b[43m)\u001b[49m\u001b[43m)\u001b[49m\n\u001b[0;32m      7\u001b[0m \u001b[38;5;28;01mreturn\u001b[39;00m list_made\n",
      "\u001b[1;31mTypeError\u001b[0m: 'list' object is not callable"
     ]
    }
   ],
   "source": [
    "def list_maker():\n",
    "    list_start = int(input(\"Enter start number: \"))\n",
    "    list_end = int(input(\"Enter end number: \"))\n",
    "    list_step = int(input(\"Enter step: \"))\n",
    "\n",
    "    list_made = list(range(list_start, list_end, list_step))\n",
    "    return list_made\n",
    "\n",
    "list_maker()\n",
    "\n"
   ]
  }
 ],
 "metadata": {
  "interpreter": {
   "hash": "597c27bdec948a723379e3862a7a52fdcff4b9ed54603ddf8d9b8d65ac298266"
  },
  "kernelspec": {
   "display_name": "Python 3.9.7 64-bit",
   "language": "python",
   "name": "python3"
  },
  "language_info": {
   "codemirror_mode": {
    "name": "ipython",
    "version": 3
   },
   "file_extension": ".py",
   "mimetype": "text/x-python",
   "name": "python",
   "nbconvert_exporter": "python",
   "pygments_lexer": "ipython3",
   "version": "3.9.7"
  },
  "orig_nbformat": 4
 },
 "nbformat": 4,
 "nbformat_minor": 2
}
