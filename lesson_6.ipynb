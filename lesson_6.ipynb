{
 "cells": [
  {
   "cell_type": "markdown",
   "metadata": {},
   "source": [
    "# Klaidu valdymas ir darbas su failais"
   ]
  },
  {
   "cell_type": "code",
   "execution_count": 1,
   "metadata": {},
   "outputs": [],
   "source": [
    "import math"
   ]
  },
  {
   "cell_type": "code",
   "execution_count": 2,
   "metadata": {},
   "outputs": [],
   "source": [
    "from math import ceil"
   ]
  },
  {
   "cell_type": "markdown",
   "metadata": {},
   "source": [
    "#PVZ kaip galima sukelti klaida"
   ]
  },
  {
   "cell_type": "code",
   "execution_count": 3,
   "metadata": {},
   "outputs": [
    {
     "name": "stdout",
     "output_type": "stream",
     "text": [
      "7\n"
     ]
    },
    {
     "ename": "ValueError",
     "evalue": "Argument \"b\" must be an integer",
     "output_type": "error",
     "traceback": [
      "\u001b[1;31m---------------------------------------------------------------------------\u001b[0m",
      "\u001b[1;31mValueError\u001b[0m                                Traceback (most recent call last)",
      "Input \u001b[1;32mIn [3]\u001b[0m, in \u001b[0;36m<module>\u001b[1;34m\u001b[0m\n\u001b[0;32m      7\u001b[0m     \u001b[38;5;28;01mreturn\u001b[39;00m a \u001b[38;5;241m+\u001b[39m b\n\u001b[0;32m      9\u001b[0m \u001b[38;5;28mprint\u001b[39m(add_numbers(\u001b[38;5;241m2\u001b[39m,\u001b[38;5;241m5\u001b[39m))\n\u001b[1;32m---> 10\u001b[0m \u001b[38;5;28mprint\u001b[39m(\u001b[43madd_numbers\u001b[49m\u001b[43m(\u001b[49m\u001b[38;5;241;43m5\u001b[39;49m\u001b[43m,\u001b[49m\u001b[38;5;124;43m'\u001b[39;49m\u001b[38;5;124;43m210\u001b[39;49m\u001b[38;5;124;43m'\u001b[39;49m\u001b[43m)\u001b[49m)\n",
      "Input \u001b[1;32mIn [3]\u001b[0m, in \u001b[0;36madd_numbers\u001b[1;34m(a, b)\u001b[0m\n\u001b[0;32m      3\u001b[0m     \u001b[38;5;28;01mraise\u001b[39;00m \u001b[38;5;167;01mValueError\u001b[39;00m(\u001b[38;5;124m'\u001b[39m\u001b[38;5;124mArgument \u001b[39m\u001b[38;5;124m\"\u001b[39m\u001b[38;5;124ma\u001b[39m\u001b[38;5;124m\"\u001b[39m\u001b[38;5;124m must be an integer\u001b[39m\u001b[38;5;124m'\u001b[39m)\n\u001b[0;32m      4\u001b[0m \u001b[38;5;28;01mif\u001b[39;00m \u001b[38;5;129;01mnot\u001b[39;00m \u001b[38;5;28misinstance\u001b[39m (b, \u001b[38;5;28mint\u001b[39m):\n\u001b[1;32m----> 5\u001b[0m     \u001b[38;5;28;01mraise\u001b[39;00m \u001b[38;5;167;01mValueError\u001b[39;00m(\u001b[38;5;124m'\u001b[39m\u001b[38;5;124mArgument \u001b[39m\u001b[38;5;124m\"\u001b[39m\u001b[38;5;124mb\u001b[39m\u001b[38;5;124m\"\u001b[39m\u001b[38;5;124m must be an integer\u001b[39m\u001b[38;5;124m'\u001b[39m)\n\u001b[0;32m      7\u001b[0m \u001b[38;5;28;01mreturn\u001b[39;00m a \u001b[38;5;241m+\u001b[39m b\n",
      "\u001b[1;31mValueError\u001b[0m: Argument \"b\" must be an integer"
     ]
    }
   ],
   "source": [
    "def add_numbers(a,b):\n",
    "    if not isinstance (a, int):\n",
    "        raise ValueError('Argument \"a\" must be an integer')\n",
    "    if not isinstance (b, int):\n",
    "        raise ValueError('Argument \"b\" must be an integer')\n",
    "\n",
    "    return a + b\n",
    "\n",
    "print(add_numbers(2,5))\n",
    "print(add_numbers(5,'210'))\n",
    "\n",
    "#specialiai vietoj teksto parasom simboli"
   ]
  },
  {
   "cell_type": "markdown",
   "metadata": {},
   "source": [
    "#pythone klaidos (kad ir ne del varotojo kaltes) taisosi su TRY ir EXCEPT\n",
    "pvz atsisiuntus biblioteka su klaidom"
   ]
  },
  {
   "cell_type": "code",
   "execution_count": null,
   "metadata": {},
   "outputs": [
    {
     "ename": "NameError",
     "evalue": "name 'a' is not defined",
     "output_type": "error",
     "traceback": [
      "\u001b[1;31m---------------------------------------------------------------------------\u001b[0m",
      "\u001b[1;31mNameError\u001b[0m                                 Traceback (most recent call last)",
      "Input \u001b[1;32mIn [9]\u001b[0m, in \u001b[0;36m<module>\u001b[1;34m\u001b[0m\n\u001b[0;32m      1\u001b[0m \u001b[38;5;66;03m#PVZ kai kintamasis nera issaugojamas, print funkcija meta klaida\u001b[39;00m\n\u001b[1;32m----> 2\u001b[0m \u001b[38;5;28mprint\u001b[39m(\u001b[43ma\u001b[49m)\n",
      "\u001b[1;31mNameError\u001b[0m: name 'a' is not defined"
     ]
    }
   ],
   "source": [
    "#PVZ kai kintamasis nera issaugojamas (neegzistuoja), print funkcija meta klaida\n",
    "print(a)"
   ]
  },
  {
   "cell_type": "code",
   "execution_count": null,
   "metadata": {},
   "outputs": [
    {
     "name": "stdout",
     "output_type": "stream",
     "text": [
      "variable was not found\n"
     ]
    }
   ],
   "source": [
    "# SOLUTION\n",
    "# persokama dalis kurioje yra klaida per EXCEPT, ir kodas toliau eina\n",
    "\n",
    "try:\n",
    "    print(a)\n",
    "except:\n",
    "    print('variable was not found')"
   ]
  },
  {
   "cell_type": "code",
   "execution_count": null,
   "metadata": {},
   "outputs": [
    {
     "name": "stdout",
     "output_type": "stream",
     "text": [
      "variable was not found\n",
      "name 'a' is not defined\n"
     ]
    }
   ],
   "source": [
    "c=  '5'\n",
    "try:\n",
    "    print(a)\n",
    "    b = 51 + c\n",
    "    print(b)\n",
    "except NameError as e:\n",
    "    print('variable was not found')\n",
    "    print(e)"
   ]
  },
  {
   "cell_type": "code",
   "execution_count": null,
   "metadata": {},
   "outputs": [
    {
     "name": "stdout",
     "output_type": "stream",
     "text": [
      "variable was not found\n",
      "name 'a' is not defined\n",
      "finally always works\n",
      "End of try/except\n"
     ]
    }
   ],
   "source": [
    "c=  5\n",
    "try:\n",
    "    print(a)\n",
    "    b = 51 + c\n",
    "    my_list = [1]\n",
    "    my_list [3]\n",
    "    print(b)\n",
    "except NameError as e:\n",
    "    print('variable was not found')\n",
    "    print(e)\n",
    "except TypeError as e:\n",
    "    print('Wrong variable type')\n",
    "    print(e)\n",
    "finally:                            #toks dalykas - bet kokiu atveju bus ivykdytas\n",
    "    #tarkim ivyko klaida bet dar galima kazka padaryti - issaugot koda ir pan\n",
    "    print('finally always works')\n",
    "\n",
    "print('End of try/except')"
   ]
  },
  {
   "cell_type": "markdown",
   "metadata": {},
   "source": [
    "# Vis tik visu klaidu ignoravimo REIKTU VENGTI! ir nereiktu per daznai naudoti - TRY/ACCEPT"
   ]
  },
  {
   "cell_type": "markdown",
   "metadata": {},
   "source": [
    "# DARBAS SU FAILAIS (arba savo PC)"
   ]
  },
  {
   "cell_type": "markdown",
   "metadata": {},
   "source": [
    "# STANDARTINE BIBLIOTEKA DARBUI SU SAVO PC YRA ______: OS - operating system:\n",
    "tam kad naudoti OS moduli turim importuoti parasant 'import OS' kodo pradzioje\n",
    "OS paketas yra skirtas narsyti savo PC, pasiekti norimas direktorijas, kurti naujas, istrinti\n",
    "failus ir pan"
   ]
  },
  {
   "cell_type": "code",
   "execution_count": null,
   "metadata": {},
   "outputs": [],
   "source": [
    "import os"
   ]
  },
  {
   "cell_type": "code",
   "execution_count": null,
   "metadata": {},
   "outputs": [
    {
     "name": "stdout",
     "output_type": "stream",
     "text": [
      "c:\\Users\\rokas\\Desktop\\PYTHON\\20220111VCSPYTVAK\n"
     ]
    }
   ],
   "source": [
    "#gauti dabartine direktorija kurioje dirbame/ darbo aplanka/ kur randasi dokumentas\n",
    "print(os.getcwd())"
   ]
  },
  {
   "cell_type": "code",
   "execution_count": null,
   "metadata": {},
   "outputs": [
    {
     "name": "stdout",
     "output_type": "stream",
     "text": [
      "c:\\Users\\rokas\n"
     ]
    }
   ],
   "source": [
    "#jei norime judeti per aplankalus, yra funkcija OS.CHDIR - change directory\n",
    "#siuo atveju nukopijuojam kur norim grizti\n",
    "#WINDOWSUOSE reikia naudoti dviguba slasha!!!!\n",
    "\n",
    "os.chdir('c:\\\\Users\\\\rokas\\\\')\n",
    "print(os.getcwd())"
   ]
  },
  {
   "cell_type": "code",
   "execution_count": null,
   "metadata": {},
   "outputs": [
    {
     "name": "stdout",
     "output_type": "stream",
     "text": [
      "c:\\Users\\rokas\\Desktop\\PYTHON\\20220111VCSPYTVAK\n"
     ]
    }
   ],
   "source": [
    "#galime naudoti funkcija LISTDIR\n",
    "#ismeta visus dokumentus kurie yra toje direktorijoje\n",
    "#LISTDIR\n",
    "\n",
    "os.listdir('c:\\\\Users\\\\rokas\\\\Desktop\\\\PYTHON\\\\20220111VCSPYTVAK')\n",
    "print(os.getcwd())\n",
    "#matome visus dokumentus, net ir pasleptus, grazina kaip sarasa"
   ]
  },
  {
   "cell_type": "code",
   "execution_count": 15,
   "metadata": {},
   "outputs": [
    {
     "name": "stdout",
     "output_type": "stream",
     "text": [
      "c:\\Users\\rokas\\Desktop\\PYTHON\\20220111VCSPYTVAK\n"
     ]
    },
    {
     "ename": "FileExistsError",
     "evalue": "[WinError 183] Cannot create a file when that file already exists: '1'",
     "output_type": "error",
     "traceback": [
      "\u001b[1;31m---------------------------------------------------------------------------\u001b[0m",
      "\u001b[1;31mFileExistsError\u001b[0m                           Traceback (most recent call last)",
      "Input \u001b[1;32mIn [15]\u001b[0m, in \u001b[0;36m<module>\u001b[1;34m\u001b[0m\n\u001b[0;32m      1\u001b[0m \u001b[38;5;66;03m#Galime kurti aplankalus\u001b[39;00m\n\u001b[0;32m      2\u001b[0m \u001b[38;5;28mprint\u001b[39m(os\u001b[38;5;241m.\u001b[39mgetcwd())\n\u001b[1;32m----> 3\u001b[0m \u001b[43mos\u001b[49m\u001b[38;5;241;43m.\u001b[39;49m\u001b[43mmkdir\u001b[49m\u001b[43m(\u001b[49m\u001b[38;5;124;43m'\u001b[39;49m\u001b[38;5;124;43m1\u001b[39;49m\u001b[38;5;124;43m'\u001b[39;49m\u001b[43m)\u001b[49m\n",
      "\u001b[1;31mFileExistsError\u001b[0m: [WinError 183] Cannot create a file when that file already exists: '1'"
     ]
    }
   ],
   "source": [
    "#Galime kurti aplankalus\n",
    "print(os.getcwd())\n",
    "os.mkdir('1')"
   ]
  },
  {
   "cell_type": "code",
   "execution_count": null,
   "metadata": {},
   "outputs": [
    {
     "ename": "FileNotFoundError",
     "evalue": "[WinError 3] The system cannot find the path specified: '1/2/3/4'",
     "output_type": "error",
     "traceback": [
      "\u001b[1;31m---------------------------------------------------------------------------\u001b[0m",
      "\u001b[1;31mFileNotFoundError\u001b[0m                         Traceback (most recent call last)",
      "Input \u001b[1;32mIn [4]\u001b[0m, in \u001b[0;36m<module>\u001b[1;34m\u001b[0m\n\u001b[1;32m----> 1\u001b[0m \u001b[43mos\u001b[49m\u001b[38;5;241;43m.\u001b[39;49m\u001b[43mmkdir\u001b[49m\u001b[43m(\u001b[49m\u001b[38;5;124;43m'\u001b[39;49m\u001b[38;5;124;43m1/2/3/4\u001b[39;49m\u001b[38;5;124;43m'\u001b[39;49m\u001b[43m)\u001b[49m\n",
      "\u001b[1;31mFileNotFoundError\u001b[0m: [WinError 3] The system cannot find the path specified: '1/2/3/4'"
     ]
    }
   ],
   "source": [
    "os.mkdir('1/2/3/4') #mdkir funkcija sukuria tik vieno gylio aplankala"
   ]
  },
  {
   "cell_type": "code",
   "execution_count": 4,
   "metadata": {},
   "outputs": [],
   "source": [
    "#kai norime susikurti daugiau aplankalu APLANKALUOSE\n",
    "os.makedirs('1/2/3/4')  # funkcija MAKEDIRS"
   ]
  },
  {
   "cell_type": "code",
   "execution_count": 5,
   "metadata": {},
   "outputs": [],
   "source": [
    "#galima lygiai taip pat istrinti aplanakalus\n",
    "#Viena - RMDIR\n",
    "#Daugiau nei viena - RMDIRS\n",
    "\n",
    "os.rmdir('1/2/3/4') # siuo atveju istrina paskutini folderi"
   ]
  },
  {
   "cell_type": "code",
   "execution_count": null,
   "metadata": {},
   "outputs": [],
   "source": [
    "os.removedirs('1/2/3') # trina viska iki paskutinio tuscio folderio, BET TRINA TIK TUSCIUS\n",
    "#APLANKALUS"
   ]
  },
  {
   "cell_type": "code",
   "execution_count": 11,
   "metadata": {},
   "outputs": [],
   "source": [
    "os.makedirs('1/2/3/4')"
   ]
  },
  {
   "cell_type": "code",
   "execution_count": null,
   "metadata": {},
   "outputs": [],
   "source": [
    "os.removedirs('1/2/3/4') #FUNKCIJA trina tik tuscius aplankalus, todel mes errora jei yra\n",
    "#nors vienas failas folderyje"
   ]
  },
  {
   "cell_type": "code",
   "execution_count": 14,
   "metadata": {},
   "outputs": [],
   "source": [
    "#Galima pekeisti failo pavadinima, esanti folderyje.\n",
    "#butinai reikia nuordyti failo formata, txt, xls ar pan.\n",
    "\n",
    "os.rename('1/2/3/4/New Text Document.txt', '1/2/3/4/Roko DOK.txt')"
   ]
  },
  {
   "cell_type": "markdown",
   "metadata": {},
   "source": [
    "# Skaityti ir rasyti dokumenta"
   ]
  },
  {
   "cell_type": "markdown",
   "metadata": {},
   "source": [
    "# w - write, r - read funkcijos"
   ]
  },
  {
   "cell_type": "markdown",
   "metadata": {},
   "source": [
    "#1 rasymas/sukurimas dokumento"
   ]
  },
  {
   "cell_type": "code",
   "execution_count": 17,
   "metadata": {},
   "outputs": [],
   "source": [
    "with open('tekstas_is_Python.txt', 'w') as fw:\n",
    "    fw.write('This is second attempt')\n",
    "\n",
    "#open - atidaro dokumenta\n",
    "# w -rezimas kuriuo dirbsime su dokumentuo, siuo atveju write, tai 'w'\n",
    "# atidarome dokumenta rasymo rezimu\n",
    "# write komanda ir teksta"
   ]
  },
  {
   "cell_type": "markdown",
   "metadata": {},
   "source": [
    "#2 dokumento skaitymas"
   ]
  },
  {
   "cell_type": "code",
   "execution_count": 18,
   "metadata": {},
   "outputs": [
    {
     "name": "stdout",
     "output_type": "stream",
     "text": [
      "This is second attempt\n"
     ]
    }
   ],
   "source": [
    "with open('tekstas_is_Python.txt', 'r') as fr:\n",
    "    tekstas = fr.read()\n",
    "print(tekstas)\n",
    "# r - read komanda, jei norim nuskaityt info is dokumento vidaus"
   ]
  },
  {
   "cell_type": "markdown",
   "metadata": {},
   "source": [
    "# JSON formatas - formatas kuriuo saugojama"
   ]
  },
  {
   "cell_type": "code",
   "execution_count": 24,
   "metadata": {},
   "outputs": [],
   "source": [
    "my_dict = {\n",
    "    'name': 'Darius',\n",
    "    'hobbies': ['tennis', 'videogames'],\n",
    "    'city': 'Vilnius'\n",
    "}"
   ]
  },
  {
   "cell_type": "code",
   "execution_count": 30,
   "metadata": {},
   "outputs": [],
   "source": [
    "import json\n",
    "\n",
    "with open('my.json', 'w') as fw:\n",
    "    json.dump(my_dict, fw)\n",
    "\n",
    "#Komanda nurodanti jog as noriu isssaugot sita zodyna i sita faila my.json"
   ]
  },
  {
   "cell_type": "code",
   "execution_count": 31,
   "metadata": {},
   "outputs": [
    {
     "name": "stdout",
     "output_type": "stream",
     "text": [
      "{'name': 'Darius', 'hobbies': ['tennis', 'videogames'], 'city': 'Vilnius'}\n"
     ]
    }
   ],
   "source": [
    "with open('my.json', 'r') as fr:\n",
    "    my_new_dict = json.load(fr)\n",
    "\n",
    "print(my_new_dict)"
   ]
  },
  {
   "cell_type": "markdown",
   "metadata": {},
   "source": [
    "# Kiekviena karta rasant nauja KODA, reikia pradzioj susiimportuoti reikalingas bibliotekas\n",
    "# T.Y. \n",
    "import json\n",
    "\n",
    "import os\n",
    "\n",
    "import math\n",
    "\n",
    "tik veliau \n",
    "\n",
    "def hello()\n",
    "    print('hello world')\n",
    "\n",
    "ir pan...."
   ]
  },
  {
   "cell_type": "markdown",
   "metadata": {},
   "source": [
    "# FUNCTION UZDUOTYS"
   ]
  },
  {
   "cell_type": "code",
   "execution_count": 43,
   "metadata": {},
   "outputs": [],
   "source": [
    "# speliones zaidimas\n",
    "\n",
    "#ivesti skaiciu nuo 1 iki 10 ir ziureti ar jis sutapts su random numeriu\n",
    "#todel isikeliam RANDOM biblioteka\n",
    "\n",
    "import random\n",
    "\n",
    "def spelione():\n",
    "\n",
    "    skaicius = random.randint(1,10)\n",
    "    bandymai = 3  #sita galima det taip pat i funkcijos argumenta\n",
    "    while bandymai:\n",
    "        spejimas = input ('Iveskite skaiciu nuo 1 iki 10')\n",
    "        spejimas = int(spejimas)\n",
    "        if spejimas == skaicius:\n",
    "            print(f'Sveikiname atspejote skaiciu | Jis buvo {skaicius}')\n",
    "            break # reikalingas tam kad atspejus sustotu funkcija\n",
    "        else:\n",
    "            bandymai -= 1   #bandymu kiekis turi mazeti, todel minus 1\n",
    "            if bandymai != 0:\n",
    "                print(f'Bandykite dar karta, jums liko {bandymai} spejimas')\n",
    "            else:\n",
    "                print(f'Atspeti nepavyko, skaicius buvo {skaicius}')"
   ]
  },
  {
   "cell_type": "code",
   "execution_count": 44,
   "metadata": {},
   "outputs": [
    {
     "name": "stdout",
     "output_type": "stream",
     "text": [
      "Bandykite dar karta, jums liko 2 spejimas\n",
      "Bandykite dar karta, jums liko 1 spejimas\n",
      "Atspeti nepavyko, skaicius buvo 1\n"
     ]
    }
   ],
   "source": [
    "#LEIDZIAM FUNCKIJA\n",
    "\n",
    "spelione()\n"
   ]
  },
  {
   "cell_type": "code",
   "execution_count": 45,
   "metadata": {},
   "outputs": [],
   "source": [
    "# TOS PACIOS FUNKCIJOS PATOBULINIMAS SU 5 BANDYMAIS\n",
    "# taip kad programa pasakytu ar skaicius didesnis ar mazesnis, pakeiskite bandymu\n",
    "#kartus i 5\n",
    "\n",
    "\n",
    "import random\n",
    "\n",
    "def spelione(bandymai = 3):\n",
    "\n",
    "    skaicius = random.randint(1,20)\n",
    "    while bandymai:\n",
    "        spejimas = input ('Iveskite skaiciu nuo 1 iki 20')\n",
    "        spejimas = int(spejimas)\n",
    "        if spejimas == skaicius:\n",
    "            print(f'Sveikiname atspejote skaiciu | Jis buvo {skaicius}')\n",
    "            break # reikalingas tam kad atspejus sustotu funkcija\n",
    "        else:\n",
    "            bandymai -= 1   #bandymu kiekis turi mazeti, todel minus 1\n",
    "            if bandymai != 0:\n",
    "                print(f'Bandykite dar karta, jums liko {bandymai} spejimas')\n",
    "                if spejimas > skaicius:\n",
    "                    print(f'Jusu skaicius yra per didelis')\n",
    "                elif spejimas < skaicius:\n",
    "                    print(f'Jusu skaicius yra per mazas')\n",
    "            else:\n",
    "                print(f'Atspeti nepavyko, skaicius buvo {skaicius}')"
   ]
  },
  {
   "cell_type": "code",
   "execution_count": 46,
   "metadata": {},
   "outputs": [
    {
     "name": "stdout",
     "output_type": "stream",
     "text": [
      "Bandykite dar karta, jums liko 4 spejimas\n",
      "Jusu skaicius yra per didelis\n",
      "Bandykite dar karta, jums liko 3 spejimas\n",
      "Jusu skaicius yra per didelis\n",
      "Bandykite dar karta, jums liko 2 spejimas\n",
      "Jusu skaicius yra per didelis\n",
      "Bandykite dar karta, jums liko 1 spejimas\n",
      "Jusu skaicius yra per mazas\n",
      "Sveikiname atspejote skaiciu | Jis buvo 2\n"
     ]
    }
   ],
   "source": [
    "spelione(bandymai=5)"
   ]
  },
  {
   "cell_type": "code",
   "execution_count": 47,
   "metadata": {},
   "outputs": [
    {
     "name": "stdout",
     "output_type": "stream",
     "text": [
      "Bandykite dar karta, jums liko 4 spejimas\n",
      "Jusu skaicius yra per didelis\n",
      "Bandykite dar karta, jums liko 3 spejimas\n",
      "Jusu skaicius yra per mazas\n",
      "Sveikiname atspejote skaiciu | Jis buvo 9\n"
     ]
    }
   ],
   "source": [
    "while True:\n",
    "    spelione(bandymai=5)\n",
    "    if input ('Ar norite zaisti dar karta? (y/n)') == 'n':\n",
    "        break"
   ]
  },
  {
   "cell_type": "markdown",
   "metadata": {},
   "source": [
    "# FUNCTION UZDUOTIS 2"
   ]
  },
  {
   "cell_type": "markdown",
   "metadata": {},
   "source": [
    "#Norime zinoti ar vartotojo maisto prekiu krepselis yra sveikas ar ne"
   ]
  },
  {
   "cell_type": "code",
   "execution_count": 56,
   "metadata": {},
   "outputs": [],
   "source": [
    "# susiskuriam du sarasus\n",
    "\n",
    "geros_prekes = ['morkos', 'obuoliai', 'citrina', 'pomidorai', 'bananai', 'kriauses']\n",
    "blogos_prekes = ['traskuciai', 'cola', 'saldainiai', 'guminikai', 'kijevas']"
   ]
  },
  {
   "cell_type": "code",
   "execution_count": 62,
   "metadata": {},
   "outputs": [],
   "source": [
    "# Funkija kuri priima prekiu krepseli ir pasakys kokios prekes yra blogos, kokios geros\n",
    "# o apie kokias neturime info\n",
    "\n",
    "def tikrintuvas(prekes, geros_prekes, blogos_prekes):\n",
    "    prekes_b = []\n",
    "    prekes_g = []\n",
    "    nezinoma_prekes = []\n",
    "    for preke in prekes:\n",
    "        if preke in geros_prekes:\n",
    "            prekes_g.append(preke)\n",
    "        elif preke in blogos_prekes:\n",
    "            prekes_b.append(preke)\n",
    "        else:\n",
    "            nezinoma_prekes.append(preke)\n",
    "\n",
    "    return prekes_g, prekes_b, nezinoma_prekes"
   ]
  },
  {
   "cell_type": "code",
   "execution_count": 63,
   "metadata": {},
   "outputs": [
    {
     "name": "stdout",
     "output_type": "stream",
     "text": [
      "Geros prekes:['morkos', 'obuoliai']\n",
      "Blogos prekes:['cola']\n",
      "Nezinomos prekes:['bulves', 'pienas']\n"
     ]
    }
   ],
   "source": [
    "prekes = ['morkos', 'obuoliai', 'bulves', 'pienas', 'cola']\n",
    "g, b, nezinoma = tikrintuvas(prekes, geros_prekes, blogos_prekes)\n",
    "print(f'Geros prekes:{g}')\n",
    "print(f'Blogos prekes:{b}')\n",
    "print(f'Nezinomos prekes:{nezinoma}')"
   ]
  },
  {
   "cell_type": "markdown",
   "metadata": {},
   "source": [
    "# TESTAS"
   ]
  },
  {
   "cell_type": "code",
   "execution_count": 64,
   "metadata": {},
   "outputs": [],
   "source": [
    "PI = 5"
   ]
  },
  {
   "cell_type": "code",
   "execution_count": 65,
   "metadata": {},
   "outputs": [],
   "source": [
    "len = [len\n",
    "]"
   ]
  },
  {
   "cell_type": "code",
   "execution_count": 66,
   "metadata": {},
   "outputs": [
    {
     "name": "stdout",
     "output_type": "stream",
     "text": [
      "12\n"
     ]
    }
   ],
   "source": [
    "skaicius = '1'\n",
    "a = '2'\n",
    "print(skaicius + a)"
   ]
  },
  {
   "cell_type": "code",
   "execution_count": 71,
   "metadata": {},
   "outputs": [
    {
     "name": "stdout",
     "output_type": "stream",
     "text": [
      "{1, 2, 4, 5, 6}\n"
     ]
    }
   ],
   "source": [
    "a = {1,2,4,5,6}\n",
    "a.add(5)\n",
    "print(a)"
   ]
  },
  {
   "cell_type": "code",
   "execution_count": 76,
   "metadata": {},
   "outputs": [
    {
     "ename": "IndentationError",
     "evalue": "expected an indented block (Temp/ipykernel_6616/3049250760.py, line 3)",
     "output_type": "error",
     "traceback": [
      "\u001b[1;36m  Input \u001b[1;32mIn [76]\u001b[1;36m\u001b[0m\n\u001b[1;33m    x += 1\u001b[0m\n\u001b[1;37m    ^\u001b[0m\n\u001b[1;31mIndentationError\u001b[0m\u001b[1;31m:\u001b[0m expected an indented block\n"
     ]
    }
   ],
   "source": [
    "x = 5\n",
    "for i in range(1,10):\n",
    "x += 1\n",
    "print(x)"
   ]
  },
  {
   "cell_type": "code",
   "execution_count": 77,
   "metadata": {},
   "outputs": [],
   "source": [
    "def getSUM(x,y):\n",
    "    print(f'{x+y}')"
   ]
  },
  {
   "cell_type": "code",
   "execution_count": 78,
   "metadata": {},
   "outputs": [
    {
     "name": "stdout",
     "output_type": "stream",
     "text": [
      "21\n"
     ]
    }
   ],
   "source": [
    "getSUM(11,10)"
   ]
  },
  {
   "cell_type": "code",
   "execution_count": 85,
   "metadata": {},
   "outputs": [
    {
     "name": "stdout",
     "output_type": "stream",
     "text": [
      "[20, 60, 80, 100]\n"
     ]
    }
   ],
   "source": [
    "list_1 = [5,10,20,30, 45,55, 60, 70, 80, 90, 100]\n",
    "\n",
    "def filter_list (list_to_filter, value):\n",
    "    result_list = []\n",
    "    for number in list_to_filter:\n",
    "        if number % value == 0:\n",
    "            result_list.append(number)\n",
    "    return result_list\n",
    "\n",
    "print(filter_list(list_1, 20))"
   ]
  },
  {
   "cell_type": "code",
   "execution_count": 87,
   "metadata": {},
   "outputs": [
    {
     "name": "stdout",
     "output_type": "stream",
     "text": [
      "('baz', 3)\n",
      "('bar', 2)\n",
      "('foo', 1)\n",
      "Done\n"
     ]
    }
   ],
   "source": [
    "d = {\n",
    "    'foo': 1,\n",
    "    'bar': 2,\n",
    "    'baz': 3\n",
    "}\n",
    "\n",
    "while d:\n",
    "    print(d.popitem())\n",
    "print('Done')"
   ]
  },
  {
   "cell_type": "code",
   "execution_count": null,
   "metadata": {},
   "outputs": [],
   "source": []
  }
 ],
 "metadata": {
  "interpreter": {
   "hash": "597c27bdec948a723379e3862a7a52fdcff4b9ed54603ddf8d9b8d65ac298266"
  },
  "kernelspec": {
   "display_name": "Python 3.9.7 64-bit",
   "language": "python",
   "name": "python3"
  },
  "language_info": {
   "codemirror_mode": {
    "name": "ipython",
    "version": 3
   },
   "file_extension": ".py",
   "mimetype": "text/x-python",
   "name": "python",
   "nbconvert_exporter": "python",
   "pygments_lexer": "ipython3",
   "version": "3.9.7"
  },
  "orig_nbformat": 4
 },
 "nbformat": 4,
 "nbformat_minor": 2
}
