{
 "cells": [
  {
   "cell_type": "markdown",
   "metadata": {},
   "source": [
    "#Kintamasis"
   ]
  },
  {
   "cell_type": "code",
   "execution_count": 22,
   "metadata": {},
   "outputs": [],
   "source": [
    "text = 'hello world'\n",
    "#text yra tiesiog dezute kuri laiko informacija savyje\n",
    "\n",
    "#kintamojo pavadinimas negali prasideti su skaiciumi pradzioje\n",
    "#1st_name =\n",
    "name_1 = 'Rokas' # tada viskas ok"
   ]
  },
  {
   "cell_type": "markdown",
   "metadata": {},
   "source": [
    "#print funkcija atspaudina ka kintamasis turi savyje"
   ]
  },
  {
   "cell_type": "code",
   "execution_count": 18,
   "metadata": {},
   "outputs": [
    {
     "name": "stdout",
     "output_type": "stream",
     "text": [
      "hello world\n"
     ]
    }
   ],
   "source": [
    "print (text)"
   ]
  },
  {
   "cell_type": "code",
   "execution_count": 3,
   "metadata": {},
   "outputs": [
    {
     "name": "stdout",
     "output_type": "stream",
     "text": [
      "317\n",
      "hello world\n"
     ]
    }
   ],
   "source": [
    "num = 156\n",
    "print(5+num+156)\n",
    "print (text)"
   ]
  },
  {
   "cell_type": "markdown",
   "metadata": {},
   "source": [
    "Funkcija"
   ]
  },
  {
   "cell_type": "code",
   "execution_count": 4,
   "metadata": {},
   "outputs": [
    {
     "name": "stdout",
     "output_type": "stream",
     "text": [
      "25\n"
     ]
    }
   ],
   "source": [
    "print(sum([4,5,6,6,4]))"
   ]
  },
  {
   "cell_type": "markdown",
   "metadata": {},
   "source": [
    "Stringas - raide, skaicius, zodis ar sakinys arba tiesiog TEKSTAS is 'abieju pusiu apsuptas kabute'"
   ]
  },
  {
   "cell_type": "code",
   "execution_count": 5,
   "metadata": {},
   "outputs": [
    {
     "name": "stdout",
     "output_type": "stream",
     "text": [
      "hello world\n"
     ]
    }
   ],
   "source": [
    "print (text)"
   ]
  },
  {
   "cell_type": "code",
   "execution_count": 5,
   "metadata": {},
   "outputs": [
    {
     "name": "stdout",
     "output_type": "stream",
     "text": [
      "o\n",
      "h\n",
      "d\n",
      "d\n"
     ]
    }
   ],
   "source": [
    "#STRING duomenu formatas turi sekos parametrus\n",
    "#indeksavimas, 0 pirma reiksme, -1 paskutine\n",
    "#lauztiniai skliaustai nurodant indeksa\n",
    "text[4]\n",
    "#su print funkcija\n",
    "print(text[4])\n",
    "print(text[0])\n",
    "#budas du kartus gauti paskutine raide\n",
    "print(text[10])\n",
    "print(text[-1])"
   ]
  },
  {
   "cell_type": "code",
   "execution_count": 7,
   "metadata": {},
   "outputs": [
    {
     "name": "stdout",
     "output_type": "stream",
     "text": [
      "d\n"
     ]
    }
   ],
   "source": [
    "text2 = \"hello beutiful world\"\n",
    "print(text[-1])"
   ]
  },
  {
   "cell_type": "markdown",
   "metadata": {},
   "source": [
    "#Slicing\n",
    "#slicing sintakse [start:end:step] - teksto pjaustymas"
   ]
  },
  {
   "cell_type": "code",
   "execution_count": 12,
   "metadata": {},
   "outputs": [
    {
     "name": "stdout",
     "output_type": "stream",
     "text": [
      "hello\n",
      "beutiful world\n",
      "buiu ol\n",
      "dlrow lufitueb olleh\n"
     ]
    }
   ],
   "source": [
    "##DUODA kazkokia dali teksto\n",
    "print(text2[0:5])  #nuo vieno konkretuas indekso iki kito\n",
    "print(text2[6:])   # nuo vieno konkretaus iki pat galo\n",
    "print(text2[6:20:2]) # tik kas antra raide\n",
    "\n",
    "## PILNA SINTAKSE\n",
    "#slicing sintakse [start:end:step]\n",
    "\n",
    "# APSUKTI visa teksta su slicing funkcija\n",
    "print(text2[::-1])\n"
   ]
  },
  {
   "cell_type": "markdown",
   "metadata": {},
   "source": [
    "#Operacijos ka galima daryti su tekstu - sudeti, dauginti, bet ne atimti ir dalinti"
   ]
  },
  {
   "cell_type": "code",
   "execution_count": 19,
   "metadata": {},
   "outputs": [
    {
     "name": "stdout",
     "output_type": "stream",
     "text": [
      "hello world hello beutiful world\n",
      "hi hi hi hi hi hi hi hi hi hi \n"
     ]
    },
    {
     "data": {
      "text/plain": [
       "'hihihihihihihihihihi'"
      ]
     },
     "execution_count": 19,
     "metadata": {},
     "output_type": "execute_result"
    }
   ],
   "source": [
    "\n",
    "#atspaudinti du tekstus su tarpu\n",
    "print(text + \" \" + text2)\n",
    "#padauginti teksta kelis kartus\n",
    "print('hi ' * 10)\n",
    "#arba tiesiog\n",
    "'hi' * 10\n",
    "#_tarpas_ irgi yra simbolis\n"
   ]
  },
  {
   "cell_type": "markdown",
   "metadata": {},
   "source": [
    "#Len   - teksto ilgis, iskaitant tarpus"
   ]
  },
  {
   "cell_type": "code",
   "execution_count": 20,
   "metadata": {},
   "outputs": [
    {
     "name": "stdout",
     "output_type": "stream",
     "text": [
      "11\n"
     ]
    }
   ],
   "source": [
    "#text = 'hello world'\n",
    "print(len(text))"
   ]
  },
  {
   "cell_type": "markdown",
   "metadata": {},
   "source": [
    "End\n"
   ]
  },
  {
   "cell_type": "code",
   "execution_count": null,
   "metadata": {},
   "outputs": [],
   "source": []
  }
 ],
 "metadata": {
  "interpreter": {
   "hash": "597c27bdec948a723379e3862a7a52fdcff4b9ed54603ddf8d9b8d65ac298266"
  },
  "kernelspec": {
   "display_name": "Python 3.9.7 64-bit",
   "language": "python",
   "name": "python3"
  },
  "language_info": {
   "codemirror_mode": {
    "name": "ipython",
    "version": 3
   },
   "file_extension": ".py",
   "mimetype": "text/x-python",
   "name": "python",
   "nbconvert_exporter": "python",
   "pygments_lexer": "ipython3",
   "version": "3.9.7"
  },
  "orig_nbformat": 4
 },
 "nbformat": 4,
 "nbformat_minor": 2
}
