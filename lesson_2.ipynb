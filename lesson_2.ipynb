{
 "cells": [
  {
   "cell_type": "markdown",
   "metadata": {},
   "source": [
    "# Kol nepaleidi kintamojo, tol jis neatsiranda atminty ir neveiks print komanda"
   ]
  },
  {
   "cell_type": "code",
   "execution_count": 1,
   "metadata": {},
   "outputs": [],
   "source": [
    "\n",
    "text = 'Hello world'"
   ]
  },
  {
   "cell_type": "code",
   "execution_count": 2,
   "metadata": {},
   "outputs": [
    {
     "name": "stdout",
     "output_type": "stream",
     "text": [
      "l\n"
     ]
    }
   ],
   "source": [
    "print (text[2])\n",
    "#rezultatas L raide, nes 0 indeksas yra pirma raide\n"
   ]
  },
  {
   "cell_type": "code",
   "execution_count": 3,
   "metadata": {},
   "outputs": [],
   "source": [
    "text_2 = \"My name is Rokas, I live in Vilnius Vilnius vilnius\""
   ]
  },
  {
   "cell_type": "code",
   "execution_count": 4,
   "metadata": {},
   "outputs": [
    {
     "name": "stdout",
     "output_type": "stream",
     "text": [
      "MY NAME IS ROKAS, I LIVE IN VILNIUS VILNIUS VILNIUS\n",
      "my name is rokas, i live in vilnius vilnius vilnius\n",
      "My name is rokas, i live in vilnius vilnius vilnius\n",
      "2\n",
      "3\n",
      "11\n",
      "Rokas, I live in Vilnius Vilnius vilnius\n"
     ]
    }
   ],
   "source": [
    "print(text_2.upper() )#visos didziosios raides\n",
    "print(text_2.lower() )#visos mazosios raides\n",
    "print(text_2.capitalize() )# taip pat visos mazos raides, tik pimoji raide DIDZIOJI\n",
    "print(text_2.count('Vilnius') ) #kiek kartojasi kazkoks dalykas tekste, pvz zodis VILNIUS\n",
    "print(text_2.lower().count('vilnius') ) ##pavercia Mazosiom raidem ir paskaiciuoja VILNIUS\n",
    "print(text_2.find('Rokas') )  ### kelintu indeksu prasideda zodis\n",
    "print(text_2[text_2.find('Rokas'):]) #nuo ispaudina nuo Rokas iki pat galo\n"
   ]
  },
  {
   "cell_type": "code",
   "execution_count": 5,
   "metadata": {},
   "outputs": [
    {
     "name": "stdout",
     "output_type": "stream",
     "text": [
      "False\n",
      "True\n",
      "False\n"
     ]
    }
   ],
   "source": [
    "### Ar tekste yra skaiciu ## isdigit funkija\n",
    "print(text_2.isdigit() )\n",
    "print('2'.isdigit() )\n",
    "print('2 '.isdigit() ) #skaicius su tarpu, todel false"
   ]
  },
  {
   "cell_type": "markdown",
   "metadata": {},
   "source": [
    "# kabuciu sutvarkymas tekste - naudoti skirtingas kabutes, viengubas, dvigubas, trigubas"
   ]
  },
  {
   "cell_type": "code",
   "execution_count": 7,
   "metadata": {},
   "outputs": [
    {
     "name": "stdout",
     "output_type": "stream",
     "text": [
      "hello, I can't come\n"
     ]
    }
   ],
   "source": [
    "quoted_text = 'hello'\n",
    "##quated_text = 'hello, I can't come'\n",
    "quated_text = \"hello, I can't come\"\n",
    "print(quated_text)"
   ]
  },
  {
   "cell_type": "markdown",
   "metadata": {},
   "source": [
    "# Kai tekstas per kelias eilutes, naudojam trigubas kabutes su print funkcija"
   ]
  },
  {
   "cell_type": "code",
   "execution_count": 8,
   "metadata": {},
   "outputs": [
    {
     "name": "stdout",
     "output_type": "stream",
     "text": [
      "Line on\n",
      "line two\n",
      "\n",
      "This is another line\n",
      "\n",
      "The end\n"
     ]
    }
   ],
   "source": [
    "##multiline_text = \"Line on\n",
    "##line two\"\n",
    "\n",
    "multiline_text = \"\"\"Line on\n",
    "line two\n",
    "\n",
    "This is another line\n",
    "\n",
    "The end\"\"\"\n",
    "\n",
    "print(multiline_text)"
   ]
  },
  {
   "cell_type": "markdown",
   "metadata": {},
   "source": [
    "# Print funkcija su String (tekstu)"
   ]
  },
  {
   "cell_type": "code",
   "execution_count": 9,
   "metadata": {},
   "outputs": [
    {
     "name": "stdout",
     "output_type": "stream",
     "text": [
      "Hello world my name is rokas, i live in vilnius vilnius vilnius\n",
      "Rokas Barniskis\n",
      "Rokas Barniskis\n"
     ]
    }
   ],
   "source": [
    "print(text, text_2)\n",
    "print('Rokas' + ' ' + 'Barniskis')\n",
    "print('Rokas' + \" Barniskis\")"
   ]
  },
  {
   "cell_type": "markdown",
   "metadata": {},
   "source": [
    "# Uzduotys su STRING(tekstu)"
   ]
  },
  {
   "cell_type": "code",
   "execution_count": 2,
   "metadata": {},
   "outputs": [
    {
     "name": "stdout",
     "output_type": "stream",
     "text": [
      "Rokas Barniskis\n",
      "Rokas Barniskis\n",
      "Mano vardas Rokas, o pavarde Barniskis\n"
     ]
    }
   ],
   "source": [
    "#1 Vardas Pavarde pirma uzduotis\n",
    "text_1 = 'Rokas'\n",
    "text_2 = 'Barniskis'\n",
    "print(text_1, text_2)\n",
    "#arba tiesiog\n",
    "print('Rokas','Barniskis')\n",
    "\n",
    "#formatuotas tekstas\n",
    "#su print funkcija galime ir formatuoti teksta\n",
    "#reikalingi BANGUOTI skliaustai kintamajam\n",
    "name = 'Rokas'\n",
    "surname = \"Barniskis\"\n",
    "print(f'Mano vardas {name}, o pavarde {surname}')"
   ]
  },
  {
   "cell_type": "code",
   "execution_count": 11,
   "metadata": {},
   "outputs": [
    {
     "name": "stdout",
     "output_type": "stream",
     "text": [
      "PYTHON MAKES ME REALLY HAPPY\n",
      "PyThOn makes me really happy\n"
     ]
    }
   ],
   "source": [
    "#2 Pakeisti zodio formata\n",
    "text = 'Python makes me really happy'\n",
    "print(text.upper() )\n",
    "print(text.replace('Python','PyThOn'))\n",
    "#REPLACE FUNKCIJA"
   ]
  },
  {
   "cell_type": "code",
   "execution_count": 6,
   "metadata": {},
   "outputs": [
    {
     "name": "stdout",
     "output_type": "stream",
     "text": [
      "happy\n",
      "happy\n",
      "18\n",
      "to\n",
      "39\n"
     ]
    }
   ],
   "source": [
    "#3 trecia uzduotis, is Stringo Hello world I am ahappy to learn phyton ATSPAUDINTI\n",
    "text_2 = 'Hello World, I am happy to learn Python'\n",
    "#1 - atspaudinti tik zodi \"happy\"\n",
    "print(text_2[18:23])\n",
    "\n",
    "#arba, sunki sintakse\n",
    "word_to_find = 'happy'\n",
    "#pasirasius papildoma kintamaji\n",
    "#slicing sintakse [start:end:step] - PRISIMINTI\n",
    "print(text_2[text_2.find(word_to_find): text_2.find(word_to_find) + len(word_to_find)])\n",
    "\n",
    "# - ties kurio indeksu prasideda\n",
    "print(text_2.find('happy')) \n",
    "#2 - atspaudinti tik zodi \"to\"\n",
    "print(text_2[24:26])\n",
    "#3 - viso teksto ilgis, kiek simboliu\n",
    "print(len(text_2))"
   ]
  },
  {
   "cell_type": "markdown",
   "metadata": {},
   "source": [
    "# NUMBERS - skaiciams nereikia kabuciu sintaksej"
   ]
  },
  {
   "cell_type": "code",
   "execution_count": 22,
   "metadata": {},
   "outputs": [
    {
     "name": "stdout",
     "output_type": "stream",
     "text": [
      "<class 'int'>\n",
      "<class 'float'>\n",
      "<class 'complex'>\n"
     ]
    }
   ],
   "source": [
    "#integer -sveiki skaiciai\n",
    "#float - su liekana\n",
    "#complex - pvz 5j\n",
    "\n",
    "number = 11654\n",
    "print(type(number)) #tipas\n",
    "float_number = 156.49\n",
    "print(type(float_number))\n",
    "complex =6j\n",
    "print(type(complex))"
   ]
  },
  {
   "cell_type": "code",
   "execution_count": 13,
   "metadata": {},
   "outputs": [
    {
     "name": "stdout",
     "output_type": "stream",
     "text": [
      "207.38\n",
      "<class 'float'>\n",
      "75\n",
      "316\n",
      "19.75\n",
      "2.0\n",
      "2.25\n",
      "8\n",
      "2\n",
      "4\n"
     ]
    }
   ],
   "source": [
    "suma = 184 + 23.38 \n",
    "print(suma)\n",
    "print(type(suma)) # parodo koks gaunamo skaiciaus tipas - sveikas ar ne (float)\n",
    "print(79-4)\n",
    "print(79*4)\n",
    "print(79/4)\n",
    "print(8/4)\n",
    "print(9/4)\n",
    "print(2**3) #kelimas laipsniu du kubu *skaicius rodo kelintu laipsniu\n",
    "print(9//4) #dviguba dalyba parodo kiek sveiku daliu turim/gaunam\n",
    "print(11%7) #liekana atemus sveika dali"
   ]
  },
  {
   "cell_type": "markdown",
   "metadata": {},
   "source": [
    "# Int, float uzduotys"
   ]
  },
  {
   "cell_type": "markdown",
   "metadata": {},
   "source": [
    "# sveiki skaiciai - integer arba int;\n",
    "float - su liekana;\n",
    "3pj - pvz kompleksinis skaicius"
   ]
  },
  {
   "cell_type": "code",
   "execution_count": 18,
   "metadata": {},
   "outputs": [
    {
     "name": "stdout",
     "output_type": "stream",
     "text": [
      "9\n",
      "1\n",
      "20\n",
      "1.25\n",
      "1\n",
      "1\n",
      "3\n",
      "8\n"
     ]
    }
   ],
   "source": [
    "#1 uzduotis su sveikais skaiciais INT\n",
    "int_1 = 5\n",
    "int_2 = 4\n",
    "print(int_1 + int_2)\n",
    "print(int_1 - int_2)\n",
    "print(int_1 * int_2)\n",
    "print(int_1 / int_2)\n",
    "print(int_1 // int_2) #dviguba dalyba duoda tik sveika dali\n",
    "print(int_1 % int_2) # procentas grazina likutine verte, kiek lieka atemus sveika dali\n",
    "print(15 % 4) #15 -12 = 3\n",
    "print(2**3) #kelimas laipsniu"
   ]
  },
  {
   "cell_type": "code",
   "execution_count": 19,
   "metadata": {},
   "outputs": [
    {
     "name": "stdout",
     "output_type": "stream",
     "text": [
      "6\n"
     ]
    }
   ],
   "source": [
    "#rounded skaiciai\n",
    "skaicius = 5.55\n",
    "print(round(skaicius))"
   ]
  },
  {
   "cell_type": "code",
   "execution_count": 25,
   "metadata": {},
   "outputs": [
    {
     "name": "stdout",
     "output_type": "stream",
     "text": [
      "15.65\n",
      "-4.65\n",
      "55.825\n",
      "0.541871921182266\n",
      "5.5\n"
     ]
    }
   ],
   "source": [
    "#2 uzduotis su skaiciais per kableli\n",
    "float_3 = 5.5\n",
    "float_4 = 10.15\n",
    "print(float_3 + float_4)\n",
    "print(float_3 - float_4)\n",
    "print(float_3 * float_4)\n",
    "print(float_3 / float_4)\n",
    "print(float_3 % float_4)"
   ]
  },
  {
   "cell_type": "markdown",
   "metadata": {},
   "source": [
    "# atstumas nuo menulio iki saules"
   ]
  },
  {
   "cell_type": "code",
   "execution_count": 40,
   "metadata": {},
   "outputs": [
    {
     "name": "stdout",
     "output_type": "stream",
     "text": [
      "390.625\n",
      "Atstumas iki saules yra 390.625 kartu didesnis nei atstumas iki menulio \n",
      "2560.0\n",
      "106.66666666666667\n"
     ]
    }
   ],
   "source": [
    "\n",
    "#3 uzduotis atstumais\n",
    "#a dalis\n",
    "dst_sun = 150000000\n",
    "dst_moon = 384000\n",
    "greitis = 150\n",
    "print(dst_sun / dst_moon)\n",
    "\n",
    "#SU FORMATUOTU TEKSTU - SAKINYS\n",
    "print(f'Atstumas iki saules yra {dst_sun / dst_moon} kartu didesnis nei atstumas iki menulio ')\n",
    "\n",
    "#b dalis - kiek valandu vaziuoti iki menulio\n",
    "print(dst_moon / greitis)\n",
    "\n",
    "day = greitis * 24\n",
    "month = day *30\n",
    "year = month * 12\n",
    "minute = greitis / 60\n",
    "second = minute /60\n",
    "\n",
    "#kiek dienu iki menulio\n",
    "print(dst_moon / day)"
   ]
  },
  {
   "cell_type": "markdown",
   "metadata": {},
   "source": [
    "# c dalis, kiek dienu liko iki gimtadienio"
   ]
  },
  {
   "cell_type": "code",
   "execution_count": 52,
   "metadata": {},
   "outputs": [
    {
     "name": "stdout",
     "output_type": "stream",
     "text": [
      "10092 days, 21:26:51.155727\n",
      "10092\n"
     ]
    }
   ],
   "source": [
    "#isiklijuojam papildoma biblioteka - DATETIME\n",
    "from datetime import datetime\n",
    "\n",
    "bday = datetime(1994 , 6, 3)\n",
    "now = datetime.now()\n",
    "time_passed = now - bday\n",
    "print(time_passed)\n",
    "#galima tiesiog dienomis\n",
    "print(time_passed.days)\n"
   ]
  },
  {
   "cell_type": "markdown",
   "metadata": {},
   "source": [
    "# Boolean duomenu tipas - loginiai kintamieji, dvi reiksmes TRUE arba FALSE"
   ]
  },
  {
   "cell_type": "code",
   "execution_count": 53,
   "metadata": {},
   "outputs": [
    {
     "name": "stdout",
     "output_type": "stream",
     "text": [
      "True\n",
      "False\n"
     ]
    }
   ],
   "source": [
    "#PVZ turiu teksta ir noriu issiaiskint ar jame yra zodis \"world\"\n",
    "text = 'hello world'\n",
    "#aiskinuosi ar zodis yra tekste\n",
    "print('world' in text)\n",
    "true_1 = 'World' in text #su didziaja raide\n",
    "print (true_1)"
   ]
  },
  {
   "cell_type": "code",
   "execution_count": 69,
   "metadata": {},
   "outputs": [
    {
     "name": "stdout",
     "output_type": "stream",
     "text": [
      "False\n",
      "True\n",
      "True\n",
      "True\n",
      "False\n",
      "True\n"
     ]
    }
   ],
   "source": [
    "print(2 > 5)\n",
    "print(2 <= 5)\n",
    "print(5 == 5) # jeigu testetuojama lygybe BUTINAI naudoti dviguba lygybe\n",
    "#nes vienas lygybes zenklas priskiria reiksme KINTAMAJAM\n",
    "\n",
    "print(8 != 5) #tikrina ar nelygu\n",
    "\n",
    "print(25 > 10 and 49 < 15) #AND SALYGA\n",
    "print(25 > 10 or 49 < 15) #OR SALYGA"
   ]
  },
  {
   "cell_type": "code",
   "execution_count": 68,
   "metadata": {},
   "outputs": [
    {
     "name": "stdout",
     "output_type": "stream",
     "text": [
      "True\n",
      "<class 'bool'>\n",
      "False\n",
      "True\n",
      "False\n"
     ]
    }
   ],
   "source": [
    "#Bool tipo kintamasis\n",
    "bool_1 = True\n",
    "print (bool_1)\n",
    "print (type(bool_1))\n",
    "\n",
    "# NULIS visada False, VIENETAS visada True\n",
    "print( 0 == True)\n",
    "print( 0 == False)\n",
    "\n",
    "a = bool('')\n",
    "print(a)\n",
    "\n",
    "#jei kintamasis tuscias visada bus FALSE, visais kitais atvejais TRUE"
   ]
  },
  {
   "cell_type": "markdown",
   "metadata": {},
   "source": [
    "# Boolean uzduotys"
   ]
  },
  {
   "cell_type": "code",
   "execution_count": null,
   "metadata": {},
   "outputs": [
    {
     "name": "stdout",
     "output_type": "stream",
     "text": [
      "True\n",
      "True\n",
      "True\n",
      "True\n",
      "True\n",
      "False\n",
      "False\n",
      "False\n",
      "False\n",
      "False\n"
     ]
    }
   ],
   "source": [
    "#Penkiais budais sukurti TRUE reiksme\n",
    "print('zodis' in 'zodis ne zvirblis')\n",
    "print(169 > 56)\n",
    "print(True == 1)\n",
    "print (True != 0)\n",
    "print(bool('kazkas'))\n",
    "\n",
    "#Penkiais budais sukurti FALSE reiksme\n",
    "print('Zodis' in 'zodis ne zvirblis')\n",
    "print(169 < 56)\n",
    "print(True != 1)\n",
    "print (not True )\n",
    "print(bool(''))"
   ]
  },
  {
   "cell_type": "code",
   "execution_count": null,
   "metadata": {},
   "outputs": [],
   "source": []
  }
 ],
 "metadata": {
  "interpreter": {
   "hash": "597c27bdec948a723379e3862a7a52fdcff4b9ed54603ddf8d9b8d65ac298266"
  },
  "kernelspec": {
   "display_name": "Python 3.9.7 64-bit",
   "language": "python",
   "name": "python3"
  },
  "language_info": {
   "codemirror_mode": {
    "name": "ipython",
    "version": 3
   },
   "file_extension": ".py",
   "mimetype": "text/x-python",
   "name": "python",
   "nbconvert_exporter": "python",
   "pygments_lexer": "ipython3",
   "version": "3.9.7"
  },
  "orig_nbformat": 4
 },
 "nbformat": 4,
 "nbformat_minor": 2
}
