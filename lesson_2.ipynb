{
 "cells": [
  {
   "cell_type": "code",
   "execution_count": 16,
   "metadata": {},
   "outputs": [],
   "source": [
    "text = 'Hello world'"
   ]
  },
  {
   "cell_type": "code",
   "execution_count": 17,
   "metadata": {},
   "outputs": [
    {
     "name": "stdout",
     "output_type": "stream",
     "text": [
      "l\n"
     ]
    }
   ],
   "source": [
    "print (text[2])\n",
    "#rezultatas L raide, nes 0 indeksas yra pirma raide\n"
   ]
  },
  {
   "cell_type": "code",
   "execution_count": 18,
   "metadata": {},
   "outputs": [],
   "source": [
    "text_2 = \"My name is Rokas, I live in Vilnius Vilnius vilnius\""
   ]
  },
  {
   "cell_type": "code",
   "execution_count": 19,
   "metadata": {},
   "outputs": [
    {
     "name": "stdout",
     "output_type": "stream",
     "text": [
      "MY NAME IS ROKAS, I LIVE IN VILNIUS VILNIUS VILNIUS\n",
      "my name is rokas, i live in vilnius vilnius vilnius\n",
      "My name is rokas, i live in vilnius vilnius vilnius\n",
      "2\n",
      "3\n",
      "11\n",
      "Rokas, I live in Vilnius Vilnius vilnius\n"
     ]
    }
   ],
   "source": [
    "print(text_2.upper() )#visos didziosios raides\n",
    "print(text_2.lower() )#visos mazosios raides\n",
    "print(text_2.capitalize() )# taip pat visos mazos raides, tik pimoji raide DIDZIOJI\n",
    "print(text_2.count('Vilnius') ) #kiek kartojasi kazkoks dalykas tekste, pvz zodis VILNIUS\n",
    "print(text_2.lower().count('vilnius') ) ##pavercia Mazosiom raidem ir paskaiciuoja VILNIUS\n",
    "print(text_2.find('Rokas') )  ### kelintu indeksu prasideda\n",
    "print(text_2[text_2.find('Rokas'):]) #nuo ispaudina nuo Rokas iki pat galo\n"
   ]
  },
  {
   "cell_type": "code",
   "execution_count": 20,
   "metadata": {},
   "outputs": [
    {
     "name": "stdout",
     "output_type": "stream",
     "text": [
      "False\n",
      "True\n",
      "False\n"
     ]
    }
   ],
   "source": [
    "### Ar tekste yra skaiciu\n",
    "print(text_2.isdigit() )\n",
    "print('2'.isdigit() )\n",
    "print('2 '.isdigit() ) #skaicius su tarpu, todel false"
   ]
  },
  {
   "cell_type": "markdown",
   "metadata": {},
   "source": [
    "#kabuciu sutvarkymas tekste - naudoti skirtingas kabutes"
   ]
  },
  {
   "cell_type": "code",
   "execution_count": 21,
   "metadata": {},
   "outputs": [
    {
     "name": "stdout",
     "output_type": "stream",
     "text": [
      "hello, I can't come\n"
     ]
    }
   ],
   "source": [
    "quoted_text = 'hello'\n",
    "##quated_text = 'hello, I can't come'\n",
    "quated_text = \"hello, I can't come\"\n",
    "print(quated_text)"
   ]
  },
  {
   "cell_type": "markdown",
   "metadata": {},
   "source": [
    "#Kai tekstas per kelias eilutes, naudojam trigubas kabutes su print funkcija"
   ]
  },
  {
   "cell_type": "code",
   "execution_count": 22,
   "metadata": {},
   "outputs": [
    {
     "name": "stdout",
     "output_type": "stream",
     "text": [
      "Line on\n",
      "line two\n",
      "\n",
      "This is another line\n",
      "\n",
      "The end\n"
     ]
    }
   ],
   "source": [
    "##multiline_text = \"Line on\n",
    "##line two\"\n",
    "\n",
    "multiline_text = \"\"\"Line on\n",
    "line two\n",
    "\n",
    "This is another line\n",
    "\n",
    "The end\"\"\"\n",
    "\n",
    "print(multiline_text)"
   ]
  },
  {
   "cell_type": "markdown",
   "metadata": {},
   "source": [
    "#Print funkcija su String"
   ]
  },
  {
   "cell_type": "code",
   "execution_count": 23,
   "metadata": {},
   "outputs": [
    {
     "name": "stdout",
     "output_type": "stream",
     "text": [
      "Hello world My name is Rokas, I live in Vilnius Vilnius vilnius\n",
      "Rokas Barniskis\n",
      "Rokas Barniskis\n"
     ]
    }
   ],
   "source": [
    "print(text, text_2)\n",
    "print('Rokas' + ' ' + 'Barniskis')\n",
    "print('Rokas' + \" Barniskis\")"
   ]
  },
  {
   "cell_type": "markdown",
   "metadata": {},
   "source": [
    "#Uzduotys su STRING(tekstu)"
   ]
  },
  {
   "cell_type": "code",
   "execution_count": 24,
   "metadata": {},
   "outputs": [
    {
     "name": "stdout",
     "output_type": "stream",
     "text": [
      "Rokas Barniskis\n",
      "Mano vardas Rokas, o pavarde Barniskis\n"
     ]
    }
   ],
   "source": [
    "#Vardas Pavarde pirma uzduotis\n",
    "text_1 = 'Rokas'\n",
    "text_2 = 'Barniskis'\n",
    "print(text_1,text_2)\n",
    "\n",
    "#formatuotas tekstas\n",
    "name = 'Rokas'\n",
    "surname = \"Barniskis\"\n",
    "print(f'Mano vardas {name}, o pavarde {surname}')"
   ]
  },
  {
   "cell_type": "code",
   "execution_count": 25,
   "metadata": {},
   "outputs": [
    {
     "name": "stdout",
     "output_type": "stream",
     "text": [
      "PYTHON MAKES ME REALLY HAPPY\n",
      "PyThOn makes me really happy\n"
     ]
    }
   ],
   "source": [
    "#Pakeisti zodio formata\n",
    "text = 'Python makes me really happy'\n",
    "print(text.upper() )\n",
    "print(text.replace('Python','PyThOn'))"
   ]
  },
  {
   "cell_type": "code",
   "execution_count": 35,
   "metadata": {},
   "outputs": [
    {
     "name": "stdout",
     "output_type": "stream",
     "text": [
      "happy\n",
      "happy\n",
      "18\n",
      "39\n"
     ]
    }
   ],
   "source": [
    "#trecia uzduotis, is Stringo Hello world I am ahappy to learn phyton ATSPAUDINTI\n",
    "text_2 = 'Hello World, I am happy to learn Python'\n",
    "#1 - atspaudinti tik zodi \"happy\"\n",
    "print(text_2[18:23])\n",
    "\n",
    "#arba\n",
    "word_to_find = 'happy'\n",
    "#pasirasius papildoma kintamaji\n",
    "#slicing sintakse [start:end:step] - PRISIMINTI\n",
    "print(text_2[text_2.find(word_to_find): text_2.find(word_to_find) + len(word_to_find)])\n",
    "\n",
    "#2 - ties kurio indeksu prasideda\n",
    "print(text_2.find('happy')) \n",
    "#3 - viso teksto ilgis, kiek simboliu\n",
    "print(len(text_2))"
   ]
  },
  {
   "cell_type": "markdown",
   "metadata": {},
   "source": [
    "#NUMBERS"
   ]
  },
  {
   "cell_type": "code",
   "execution_count": null,
   "metadata": {},
   "outputs": [
    {
     "name": "stdout",
     "output_type": "stream",
     "text": [
      "<class 'int'>\n",
      "<class 'float'>\n"
     ]
    }
   ],
   "source": [
    "#skaiciams nereikia kabuciu\n",
    "number = 11654\n",
    "print(type(number)) #tipas\n",
    "float_number = 156.49\n",
    "print(type(float_number))"
   ]
  },
  {
   "cell_type": "code",
   "execution_count": null,
   "metadata": {},
   "outputs": [
    {
     "name": "stdout",
     "output_type": "stream",
     "text": [
      "<class 'float'>\n",
      "75\n",
      "316\n",
      "19.75\n",
      "2.0\n",
      "2.25\n",
      "8\n",
      "2\n",
      "4\n"
     ]
    }
   ],
   "source": [
    "suma = 184 + 23.38 \n",
    "print(type(suma)) # parodo koks gaunamo skaiciaus tipas - sveikas ar ne (float)\n",
    "print(79-4)\n",
    "print(79*4)\n",
    "print(79/4)\n",
    "print(8/4)\n",
    "print(9/4)\n",
    "print(2**3) #kelimas laipsniu du kubu\n",
    "print(9//4) #dviguba dalyba parodo kiek sveiku daliu turim/gaunam\n",
    "print(11%7) #liekana"
   ]
  },
  {
   "cell_type": "markdown",
   "metadata": {},
   "source": [
    "#Int, float uzduotys"
   ]
  },
  {
   "cell_type": "markdown",
   "metadata": {},
   "source": [
    "#sveiki skaiciai - integer arba int;\n",
    "float - su liekana;\n",
    "3pj - pvz kompleksinis skaicius"
   ]
  },
  {
   "cell_type": "code",
   "execution_count": 45,
   "metadata": {},
   "outputs": [
    {
     "name": "stdout",
     "output_type": "stream",
     "text": [
      "<class 'float'>\n",
      "9\n",
      "1\n",
      "20\n",
      "1.25\n",
      "1\n",
      "1\n",
      "3\n"
     ]
    }
   ],
   "source": [
    "#nustatyti skaiciaus tipa\n",
    "number = 1234.7\n",
    "print(type(number))\n",
    "##\n",
    "num_1 = 5\n",
    "num_2 = 4\n",
    "print(num_1 + num_2)\n",
    "print(num_1 - num_2)\n",
    "print(num_1 * num_2)\n",
    "print(num_1 / num_2)\n",
    "print(num_1 // num_2) #dviguba dalyba duoda tik sveika dali\n",
    "print(num_1 % num_2) # procentas grazina likutine verte, kiek lieka atemus sveika dali\n",
    "print(15 % 4) #15 -12 = 3\n",
    "print(2**3) #kelimas laipsniu"
   ]
  },
  {
   "cell_type": "code",
   "execution_count": null,
   "metadata": {},
   "outputs": [],
   "source": [
    "#rounded skaiciai"
   ]
  },
  {
   "cell_type": "markdown",
   "metadata": {},
   "source": [
    "#int, float uzduotis"
   ]
  },
  {
   "cell_type": "code",
   "execution_count": null,
   "metadata": {},
   "outputs": [
    {
     "name": "stdout",
     "output_type": "stream",
     "text": [
      "15.65\n",
      "-4.65\n",
      "55.825\n",
      "0.541871921182266\n",
      "5.5\n"
     ]
    }
   ],
   "source": [
    "num_3 = 5.5\n",
    "num_4 = 10.15\n",
    "print(num_3 + num_4)\n",
    "print(num_3 - num_4)\n",
    "print(num_3 * num_4)\n",
    "print(num_3 / num_4)\n",
    "print(num_3 % num_4)"
   ]
  },
  {
   "cell_type": "markdown",
   "metadata": {},
   "source": [
    "#atstumas nuo menulio iki saules"
   ]
  },
  {
   "cell_type": "code",
   "execution_count": null,
   "metadata": {},
   "outputs": [
    {
     "name": "stdout",
     "output_type": "stream",
     "text": [
      "390.625\n",
      "Atstumas iki saules yra 390.625 kartu didesnis nei atstumas iki menulio \n"
     ]
    },
    {
     "ename": "NameError",
     "evalue": "name 'dist_moon' is not defined",
     "output_type": "error",
     "traceback": [
      "\u001b[1;31m---------------------------------------------------------------------------\u001b[0m",
      "\u001b[1;31mNameError\u001b[0m                                 Traceback (most recent call last)",
      "Input \u001b[1;32mIn [17]\u001b[0m, in \u001b[0;36m<module>\u001b[1;34m\u001b[0m\n\u001b[0;32m      4\u001b[0m \u001b[38;5;28mprint\u001b[39m(\u001b[38;5;124mf\u001b[39m\u001b[38;5;124m'\u001b[39m\u001b[38;5;124mAtstumas iki saules yra \u001b[39m\u001b[38;5;132;01m{\u001b[39;00mdst_sun \u001b[38;5;241m/\u001b[39m dst_moon\u001b[38;5;132;01m}\u001b[39;00m\u001b[38;5;124m kartu didesnis nei atstumas iki menulio \u001b[39m\u001b[38;5;124m'\u001b[39m)\n\u001b[0;32m      5\u001b[0m \u001b[38;5;66;03m#siek tiek pagrazinta su tekstu, verta ismoksti\u001b[39;00m\n\u001b[0;32m      6\u001b[0m \n\u001b[0;32m      7\u001b[0m \u001b[38;5;66;03m#valandu skaicius iki menulio\u001b[39;00m\n\u001b[1;32m----> 8\u001b[0m \u001b[38;5;28mprint\u001b[39m(\u001b[43mdist_moon\u001b[49m \u001b[38;5;241m/\u001b[39m month)\n",
      "\u001b[1;31mNameError\u001b[0m: name 'dist_moon' is not defined"
     ]
    }
   ],
   "source": [
    "dst_sun = 150000000\n",
    "dst_moon = 384000\n",
    "print(dst_sun / dst_moon)\n",
    "print(f'Atstumas iki saules yra {dst_sun / dst_moon} kartu didesnis nei atstumas iki menulio ')\n",
    "#siek tiek pagrazinta su tekstu, verta ismoksti\n",
    "\n",
    "#valandu skaicius iki menulio\n",
    "print(dist_moon / month)\n"
   ]
  },
  {
   "cell_type": "markdown",
   "metadata": {},
   "source": [
    "#Boolean deklaracija"
   ]
  },
  {
   "cell_type": "code",
   "execution_count": null,
   "metadata": {},
   "outputs": [
    {
     "name": "stdout",
     "output_type": "stream",
     "text": [
      "True\n",
      "True\n"
     ]
    }
   ],
   "source": [
    "text = 'hello world'\n",
    "print('world' in text)\n",
    "true_1 = 'world' in text\n",
    "print (true_1)"
   ]
  },
  {
   "cell_type": "markdown",
   "metadata": {},
   "source": [
    "#Boolean uzduotys"
   ]
  },
  {
   "cell_type": "code",
   "execution_count": null,
   "metadata": {},
   "outputs": [
    {
     "name": "stdout",
     "output_type": "stream",
     "text": [
      "True\n",
      "True\n",
      "True\n",
      "True\n",
      "True\n",
      "False\n",
      "False\n",
      "False\n",
      "False\n",
      "False\n"
     ]
    }
   ],
   "source": [
    "#Penkiais budais sukurti TRUE reiksme\n",
    "print('zodis' in 'zodis ne zvirblis')\n",
    "print(169 > 56)\n",
    "print(True == 1)\n",
    "print (True != 0)\n",
    "print(bool('kazkas'))\n",
    "\n",
    "#Penkiais budais sukurti FALSE reiksme\n",
    "print('Zodis' in 'zodis ne zvirblis')\n",
    "print(169 < 56)\n",
    "print(True != 1)\n",
    "print (not True )\n",
    "print(bool(''))"
   ]
  },
  {
   "cell_type": "code",
   "execution_count": null,
   "metadata": {},
   "outputs": [],
   "source": []
  }
 ],
 "metadata": {
  "interpreter": {
   "hash": "597c27bdec948a723379e3862a7a52fdcff4b9ed54603ddf8d9b8d65ac298266"
  },
  "kernelspec": {
   "display_name": "Python 3.9.7 64-bit",
   "language": "python",
   "name": "python3"
  },
  "language_info": {
   "codemirror_mode": {
    "name": "ipython",
    "version": 3
   },
   "file_extension": ".py",
   "mimetype": "text/x-python",
   "name": "python",
   "nbconvert_exporter": "python",
   "pygments_lexer": "ipython3",
   "version": "3.9.7"
  },
  "orig_nbformat": 4
 },
 "nbformat": 4,
 "nbformat_minor": 2
}
