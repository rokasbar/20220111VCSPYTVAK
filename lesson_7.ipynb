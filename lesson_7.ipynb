{
 "cells": [
  {
   "cell_type": "markdown",
   "metadata": {},
   "source": [
    "# Classes - t.y. objekto apsirasymas"
   ]
  },
  {
   "cell_type": "code",
   "execution_count": 1,
   "metadata": {},
   "outputs": [
    {
     "name": "stdout",
     "output_type": "stream",
     "text": [
      "1.5\n",
      "round\n",
      "2.25\n",
      "round\n"
     ]
    }
   ],
   "source": [
    "# ideja - viska aprasom kaip objekta (gali but daiktas, procesas ar pan)\n",
    "# pats objektas turi kazkokias savybes, funckionaluma, todel PYTHONE tai ir aprasome\n",
    "# pati klase tai yra tiesiog kaip sablonas kuris apraso kazkoki dalyka\n",
    "# pvz aprasyti vamzdi\n",
    "\n",
    "\n",
    "#vertes yra ATRIBUTAI (self-name) - jos turi konkrecia verte\n",
    "#NAUDINGA susikurti klase, padeda lengviau aprasyti objekta *jeigu ju yra daug\n",
    "#Klases pavadinimas turi butinai prasideti didziaja raide\n",
    "# tada aprasome kaip objektas yra sukuriamas per funkcija DEF \n",
    "\n",
    "#SELF atskiria informacija tarp objektu\n",
    "#class funkcijoj visad privaloma, kaip ir __init__\n",
    "\n",
    "class Pipe:\n",
    "    def __init__(self, diameter, cross_section): #sita vieta apraso kaip mes sukuriame viena objekta vamzdzio\n",
    "        # aprasem kas yra vamzdis, kad jis turi diametra ir tam tikra forma pjuvio\n",
    "        self.diameter = diameter\n",
    "        self.cross_section = cross_section\n",
    "\n",
    "# atspaudinam pirmo ir antro vamzdio parametrus:\n",
    "#aprase objekta ir nurode parametrus mums leidzia susikurti KLASES objektus\n",
    "# t.y. vamzdis 1 ir vamzdis 2:\n",
    "pipe_1 = Pipe(1.5, 'round')\n",
    "print(pipe_1.diameter)\n",
    "print(pipe_1.cross_section)\n",
    "\n",
    "pipe_2 = Pipe(2.25, 'round')\n",
    "print(pipe_2.diameter)\n",
    "print(pipe_2.cross_section)\n",
    "\n"
   ]
  },
  {
   "cell_type": "code",
   "execution_count": 2,
   "metadata": {},
   "outputs": [
    {
     "name": "stdout",
     "output_type": "stream",
     "text": [
      "Harry Potter\n",
      "three body problem\n"
     ]
    }
   ],
   "source": [
    "class Book:\n",
    "    def __init__(self, name, author):\n",
    "        self.name = name\n",
    "        self.author = author\n",
    "#kuriant objekta\n",
    "#kiekvienas is kintamuju saugoja informacija apie kynga\n",
    "\n",
    "book_1 = Book ('Harry Potter', 'J.K. Rowling')\n",
    "book_2 = Book ('three body problem', 'kazkas')\n",
    "\n",
    "print(book_1.name)\n",
    "print(book_2.name)"
   ]
  },
  {
   "cell_type": "code",
   "execution_count": 3,
   "metadata": {},
   "outputs": [
    {
     "name": "stdout",
     "output_type": "stream",
     "text": [
      "1.5\n",
      "round\n",
      "Cross section area is 1.76625\n",
      "2.25\n",
      "round\n",
      "Cross section area is 3.9740625\n",
      "1.5\n",
      "round\n",
      "Cross section area 1.76625\n",
      "2.25\n",
      "round\n",
      "Cross section area 3.9740625\n",
      "True\n",
      "False\n"
     ]
    }
   ],
   "source": [
    "class Pipe:\n",
    "    def __init__(self, diameter, cross_section_type):\n",
    "        self.diameter = diameter\n",
    "        self.cross_section_type = cross_section_type\n",
    "        #apsirasome papildomai salyga kad jei vamzdis apvalus tada paskaiciuok plota,\n",
    "        #Sitos funkcijos dar yra vadinamos klases METODAI, ka mes dar galime daryti su klase\n",
    "    def cross_section(self):\n",
    "        if self.cross_section_type == 'round':\n",
    "            area = 3.14 *(self.diameter / 2) **2\n",
    "        else:   #jei ne apvalus, tada kita salyga\n",
    "            raise NotImplementedError (f'cross section of type {self.cross_section_type} not implemented')\n",
    "        return area\n",
    "\n",
    "        #kad darti palyginimus apirasom dar viena funkcija\n",
    "        #SELF tai tas vamzdis kuri tikriname, other kitas vamzdis\n",
    "    def __lt__(self, other_pipe):\n",
    "        return self.cross_section() < other_pipe.cross_section()\n",
    "\n",
    "\n",
    "pipe_1 = Pipe(1.5, 'round')\n",
    "print(pipe_1.diameter)\n",
    "print(pipe_1.cross_section_type)\n",
    "print('Cross section area is',pipe_1.cross_section())  #paskaiciuoja skrespjuvio plota\n",
    "\n",
    "pipe_2 = Pipe(2.25, 'round')\n",
    "print(pipe_2.diameter)\n",
    "print(pipe_2.cross_section_type)\n",
    "print('Cross section area is', pipe_2.cross_section())  #paskaiciuoja skrespjuvio plota\n",
    "\n",
    "#Turedamas du vamzdius, as galiu data naudot toliau, pvz susikurt sarasa\n",
    "pipes = [ pipe_1, pipe_2]\n",
    "for pipe in pipes:\n",
    "    print(pipe.diameter)\n",
    "    print(pipe.cross_section_type)\n",
    "    print('Cross section area', pipe.cross_section())\n",
    "\n",
    "#Galime ir palyginti du vamzdius/kuriu plotas bus didesnis\n",
    "print(pipe_1 < pipe_2)\n",
    "print(pipe_1 > pipe_2)\n",
    "#pasako kuris vamzdis yra didesnis"
   ]
  },
  {
   "cell_type": "markdown",
   "metadata": {},
   "source": [
    "#dar daugiau funkciju klasej"
   ]
  },
  {
   "cell_type": "code",
   "execution_count": 4,
   "metadata": {},
   "outputs": [
    {
     "name": "stdout",
     "output_type": "stream",
     "text": [
      "Pipe of diameter 1.5, and type round\n",
      "<class '__main__.Pipe'>\n",
      "1.5\n",
      "round\n",
      "Cross section area: 1.76625\n",
      "fluid flow rate: 0.883125\n",
      "\n",
      "Pipe of diameter 2.25, and type round\n",
      "<class '__main__.Pipe'>\n",
      "2.25\n",
      "round\n",
      "Cross section area: 3.9740625\n",
      "fluid flow rate: 1.98703125\n",
      "\n",
      "False\n",
      "True\n"
     ]
    }
   ],
   "source": [
    "class Pipe:\n",
    "    def __init__(self, diameter, cross_section_type):\n",
    "        self.diameter = diameter\n",
    "        self.cross_section_type = cross_section_type\n",
    "    \n",
    "    def flow_rate(self, velocity):\n",
    "        return self.cross_section() * velocity\n",
    "\n",
    "    def cross_section(self):\n",
    "        area = None\n",
    "        if self.cross_section_type == 'round':\n",
    "            area = 3.14 * (self.diameter / 2) ** 2\n",
    "        else:\n",
    "            raise NotImplementedError(f'Cross section of type {self.cross_section_type} not implemented')\n",
    "        return area\n",
    "\n",
    "    def __lt__(self, other_pipe):\n",
    "        return self.cross_section() < other_pipe.cross_section()\n",
    "\n",
    "    def __repr__(self):\n",
    "        return f'Pipe of diameter {self.diameter}, and type {self.cross_section_type}'\n",
    "    \n",
    "\n",
    "# flow_rate(3) # Error, not defined\n",
    "\n",
    "pipe_1 = Pipe(1.5, 'round')\n",
    "# print (pipe_1.diameter)\n",
    "# print (pipe_1.cross_section_type)\n",
    "# print ('Cross section area:', pipe_1.cross_section() )\n",
    "\n",
    "pipe_2 = Pipe(2.25, 'round')\n",
    "# print (pipe_2.diameter)\n",
    "# print (pipe_2.cross_section_type)\n",
    "# print ('Cross section area:',  pipe_2.cross_section() )\n",
    "\n",
    "pipes = [ pipe_1, pipe_2 ]\n",
    "for pipe in pipes:\n",
    "    print (pipe)\n",
    "    print (type(pipe))\n",
    "    print (pipe.diameter)\n",
    "    print (pipe.cross_section_type)\n",
    "    print ('Cross section area:',  pipe.cross_section() )\n",
    "    print ('fluid flow rate:',  pipe.flow_rate(0.5) )\n",
    "    print ()\n",
    "\n",
    "print (pipe_1 > pipe_2)\n",
    "print (pipe_1 < pipe_2)\n"
   ]
  },
  {
   "cell_type": "markdown",
   "metadata": {},
   "source": [
    "# Klases esme - pasiruosiam kaip sablona, kuri veliau galim daug kartu naudoti"
   ]
  },
  {
   "cell_type": "markdown",
   "metadata": {},
   "source": [
    "######"
   ]
  },
  {
   "cell_type": "markdown",
   "metadata": {},
   "source": [
    "# Class inheritance - skolinimo funkcionalumas"
   ]
  },
  {
   "cell_type": "markdown",
   "metadata": {},
   "source": [
    "#galime sukurti klase kuri paveldi pirmosios klases funkcionaluma\n",
    "#pvz klase GYvunas, jo funkcionalumas, bet mes galim aprasyti kas yra SUO KATE ir pan, nes\n",
    "#jie visi yra gyvunai, tik kiekvienas turi savu ypatumu"
   ]
  },
  {
   "cell_type": "markdown",
   "metadata": {},
   "source": [
    "#pakeite aprasyma kas yra gyvunas, automatiskai pasikeicia kates ir suns savybes"
   ]
  },
  {
   "cell_type": "code",
   "execution_count": 5,
   "metadata": {},
   "outputs": [],
   "source": [
    "# sukure klase mes galime sukurti ir PAVELDEJIMA,\n",
    "# kad tiems patiems dalykams nerasyti tu paciu dalyku\n",
    "# PVZ esame apsirase vamzdi, ir norim paskaiciuoti panasia verte pvz APVALIAM VAMZDZIUI,\n",
    "# arba kitai vamzdio rusiai"
   ]
  },
  {
   "cell_type": "code",
   "execution_count": 6,
   "metadata": {},
   "outputs": [],
   "source": [
    "# PVZ apsirasom klase kas yra tiesiog paprastas VAMZDIS\n",
    "# tada dar dvi klases, kvadratinis VAMZDIS ir apvalus VAMZDIS"
   ]
  },
  {
   "cell_type": "code",
   "execution_count": 13,
   "metadata": {},
   "outputs": [],
   "source": [
    "#paprasta vamzdio KLASE, kuri apraso ka turi turet vamzdis kad apskaiciuot jo\n",
    "#skerspjuvio ploti, turint tekmes greiti\n",
    "\n",
    "class Pipe:\n",
    "    def __init__(self):\n",
    "        pass\n",
    "\n",
    "    def cross_section(self):\n",
    "        raise NotImplementedError\n",
    "\n",
    "    def  flow_rate(self, velocity):\n",
    "        return self.croos_section() * velocity"
   ]
  },
  {
   "cell_type": "code",
   "execution_count": 12,
   "metadata": {},
   "outputs": [],
   "source": [
    "#Aprasome kas yra staciakampis vamzdis\n",
    "\n",
    "class RectanglePipe(Pipe):      #skliaustuose nurodyta is kuriu klasiu norime paveldeti dalykus\n",
    "    def __init__(self, width, height):  #init funkcija biski skiriasi, kadangi reikalinga yra butent tokiam vamzdziui, reikia auskcio plocio\n",
    "        super().__init__()  # super() funkcija gets Pipe and runs it __init__ method, sukuria viska kas priklauso siai klasei sitam objektui\n",
    "        ### these are attributes\n",
    "        self.width = width\n",
    "        self.height = height\n",
    "\n",
    "    ### this  is a class method, we overwrite it / kaip skaiciuojasi plotas sitam konrkeciam vamzdziui\n",
    "    def cross_section(self):\n",
    "        return self.width * self.height\n",
    "\n"
   ]
  },
  {
   "cell_type": "code",
   "execution_count": 11,
   "metadata": {},
   "outputs": [],
   "source": [
    "#Aprasome kas yra APVALUS vamzdis\n",
    "\n",
    "class RoundPipe(Pipe):\n",
    "    def __init__(self, radius):\n",
    "        super().__init__()  # super() gets Pipe and runs it __init__ method\n",
    "        self.radius = radius\n",
    "\n",
    "    def cross_section(self):  #formule kaip apskaiciuot skrespjuvio plota\n",
    "        return 3.14 * self.radius ** 2"
   ]
  },
  {
   "cell_type": "code",
   "execution_count": null,
   "metadata": {},
   "outputs": [],
   "source": [
    "#Turedamas siuos dalykus,\n",
    "#galiu susikurti vamzdi, kurio ilgis plotis yra 4:3\n",
    "#paprasau kad grazintu koks yra tekejimo greitis\n",
    "\n",
    "rectangle_pipe_1 = RectanglePipe(4,3)\n",
    "print (rectangle_pipe_1.flow_rate(3))\n",
    "#print (rectangle_pipe_1.testas )"
   ]
  },
  {
   "cell_type": "code",
   "execution_count": null,
   "metadata": {},
   "outputs": [],
   "source": []
  }
 ],
 "metadata": {
  "interpreter": {
   "hash": "597c27bdec948a723379e3862a7a52fdcff4b9ed54603ddf8d9b8d65ac298266"
  },
  "kernelspec": {
   "display_name": "Python 3.9.7 64-bit",
   "language": "python",
   "name": "python3"
  },
  "language_info": {
   "codemirror_mode": {
    "name": "ipython",
    "version": 3
   },
   "file_extension": ".py",
   "mimetype": "text/x-python",
   "name": "python",
   "nbconvert_exporter": "python",
   "pygments_lexer": "ipython3",
   "version": "3.9.7"
  },
  "orig_nbformat": 4
 },
 "nbformat": 4,
 "nbformat_minor": 2
}
