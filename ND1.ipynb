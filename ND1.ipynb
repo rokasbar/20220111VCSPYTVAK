{
 "cells": [
  {
   "cell_type": "markdown",
   "metadata": {},
   "source": [
    "#1 uzduotis\n",
    "Iš pirmų 100 skaičių, jeigu skaičius dalinasi iš 2\n",
    "be liekanos, atspausdinkite ‘Fizz’, jeigu\n",
    "skaičius dalinasi iš 3 be liekanos\n",
    "atspausdinkite ‘Buzz’, jei skaičius dalinasi iš 2\n",
    "ir 3 be liekanos, atspausdinkite ‘FizzBuzz’"
   ]
  },
  {
   "cell_type": "code",
   "execution_count": 1,
   "metadata": {},
   "outputs": [
    {
     "name": "stdout",
     "output_type": "stream",
     "text": [
      "1 neatitinka salygu\n",
      "2 Buzz\n",
      "3 Buzz\n",
      "4 Buzz\n",
      "5 neatitinka salygu\n",
      "6 FizzBuzz\n",
      "7 neatitinka salygu\n",
      "8 Buzz\n",
      "9 Buzz\n",
      "10 Buzz\n",
      "11 neatitinka salygu\n",
      "12 FizzBuzz\n",
      "13 neatitinka salygu\n",
      "14 Buzz\n",
      "15 Buzz\n",
      "16 Buzz\n",
      "17 neatitinka salygu\n",
      "18 FizzBuzz\n",
      "19 neatitinka salygu\n",
      "20 Buzz\n",
      "21 Buzz\n",
      "22 Buzz\n",
      "23 neatitinka salygu\n",
      "24 FizzBuzz\n",
      "25 neatitinka salygu\n",
      "26 Buzz\n",
      "27 Buzz\n",
      "28 Buzz\n",
      "29 neatitinka salygu\n",
      "30 FizzBuzz\n",
      "31 neatitinka salygu\n",
      "32 Buzz\n",
      "33 Buzz\n",
      "34 Buzz\n",
      "35 neatitinka salygu\n",
      "36 FizzBuzz\n",
      "37 neatitinka salygu\n",
      "38 Buzz\n",
      "39 Buzz\n",
      "40 Buzz\n",
      "41 neatitinka salygu\n",
      "42 FizzBuzz\n",
      "43 neatitinka salygu\n",
      "44 Buzz\n",
      "45 Buzz\n",
      "46 Buzz\n",
      "47 neatitinka salygu\n",
      "48 FizzBuzz\n",
      "49 neatitinka salygu\n",
      "50 Buzz\n",
      "51 Buzz\n",
      "52 Buzz\n",
      "53 neatitinka salygu\n",
      "54 FizzBuzz\n",
      "55 neatitinka salygu\n",
      "56 Buzz\n",
      "57 Buzz\n",
      "58 Buzz\n",
      "59 neatitinka salygu\n",
      "60 FizzBuzz\n",
      "61 neatitinka salygu\n",
      "62 Buzz\n",
      "63 Buzz\n",
      "64 Buzz\n",
      "65 neatitinka salygu\n",
      "66 FizzBuzz\n",
      "67 neatitinka salygu\n",
      "68 Buzz\n",
      "69 Buzz\n",
      "70 Buzz\n",
      "71 neatitinka salygu\n",
      "72 FizzBuzz\n",
      "73 neatitinka salygu\n",
      "74 Buzz\n",
      "75 Buzz\n",
      "76 Buzz\n",
      "77 neatitinka salygu\n",
      "78 FizzBuzz\n",
      "79 neatitinka salygu\n",
      "80 Buzz\n",
      "81 Buzz\n",
      "82 Buzz\n",
      "83 neatitinka salygu\n",
      "84 FizzBuzz\n",
      "85 neatitinka salygu\n",
      "86 Buzz\n",
      "87 Buzz\n",
      "88 Buzz\n",
      "89 neatitinka salygu\n",
      "90 FizzBuzz\n",
      "91 neatitinka salygu\n",
      "92 Buzz\n",
      "93 Buzz\n",
      "94 Buzz\n",
      "95 neatitinka salygu\n",
      "96 FizzBuzz\n",
      "97 neatitinka salygu\n",
      "98 Buzz\n",
      "99 Buzz\n",
      "100 Buzz\n"
     ]
    }
   ],
   "source": [
    "#labai svarbi pirma salyga\n",
    "#FizzBuzz turi but pirmas\n",
    "#jei pirma salyga yra neteisinga, tada yra tikrinama sekanti\n",
    "for number in range(1,101):\n",
    "    if number % 3 == 0 and number %2 == 0:\n",
    "        print(number,'FizzBuzz')\n",
    "    elif number % 2 == 0:\n",
    "        print(number,'Buzz')\n",
    "    elif number % 3 == 0:\n",
    "        print (number, 'Buzz')\n",
    "    else:\n",
    "        print(number,'neatitinka salygu')  #else salyga nebutina\n"
   ]
  },
  {
   "cell_type": "markdown",
   "metadata": {},
   "source": [
    "2. Leiskite vartotojui pasirinkti skaičių, jeigu įvestas skaičius yra daugiau arba lygus 10, atspausdinkite visus skaičius iki pateikto skaičiaus, kurie dalinasi iš 5 su liekana"
   ]
  },
  {
   "cell_type": "code",
   "execution_count": 11,
   "metadata": {},
   "outputs": [
    {
     "name": "stdout",
     "output_type": "stream",
     "text": [
      "[1, 2, 3, 4, 6, 7, 8, 9, 11, 12, 13, 14]\n"
     ]
    }
   ],
   "source": [
    "seka = []\n",
    "number = input ('iveskite skaiciu')\n",
    "number = int(number) #pasiversti is simbolio i skaiciu\n",
    "if number >= 10: #jeigu salyga teisinga, tuomet pradedam cikla ir einam per kiekviena skaiciu\n",
    "    for num in range(1,number):\n",
    "        if num % 5 != 0:\n",
    "            seka.append(num)\n",
    "else:\n",
    "    print('pasirinktas skaicius maziau nei 10')\n",
    "print(seka)\n",
    "\n",
    "#jei ivedam 15, gaunam visus skaicius isskyrus 10 ir 15"
   ]
  },
  {
   "cell_type": "markdown",
   "metadata": {},
   "source": [
    "3. Koks yra sąrašo ilgis sudaryto iš pateiktų sąrašų kombinacijų, jeigu norime rasti visas įmanomas reikšmes? Išrikiuokite sąrašą nuo didžiausios iki mažiausios reikšmės (teks atlikti papildomų veiksmų tam atlikti teisingai)"
   ]
  },
  {
   "cell_type": "code",
   "execution_count": 3,
   "metadata": {},
   "outputs": [
    {
     "name": "stdout",
     "output_type": "stream",
     "text": [
      "100\n",
      "[('1', 'labas', 200), ('1', 'vakaras', 200), ('1', 'kokia grazi diena', 200), ('1', 'siandien uz lango', 200), ('1', '10 laipsniu silumos', 200), ('2', 'labas', 200), ('2', 'vakaras', 200), ('2', 'kokia grazi diena', 200), ('2', 'siandien uz lango', 200), ('2', '10 laipsniu silumos', 200), ('3', 'labas', 200), ('3', 'vakaras', 200), ('3', 'kokia grazi diena', 200), ('3', 'siandien uz lango', 200), ('3', '10 laipsniu silumos', 200), ('4', 'labas', 200), ('4', 'vakaras', 200), ('4', 'kokia grazi diena', 200), ('4', 'siandien uz lango', 200), ('4', '10 laipsniu silumos', 200), ('5', 'labas', 200), ('5', 'vakaras', 200), ('5', 'kokia grazi diena', 200), ('5', 'siandien uz lango', 200), ('5', '10 laipsniu silumos', 200), ('1', 'labas', 100), ('1', 'vakaras', 100), ('1', 'kokia grazi diena', 100), ('1', 'siandien uz lango', 100), ('1', '10 laipsniu silumos', 100), ('2', 'labas', 100), ('2', 'vakaras', 100), ('2', 'kokia grazi diena', 100), ('2', 'siandien uz lango', 100), ('2', '10 laipsniu silumos', 100), ('3', 'labas', 100), ('3', 'vakaras', 100), ('3', 'kokia grazi diena', 100), ('3', 'siandien uz lango', 100), ('3', '10 laipsniu silumos', 100), ('4', 'labas', 100), ('4', 'vakaras', 100), ('4', 'kokia grazi diena', 100), ('4', 'siandien uz lango', 100), ('4', '10 laipsniu silumos', 100), ('5', 'labas', 100), ('5', 'vakaras', 100), ('5', 'kokia grazi diena', 100), ('5', 'siandien uz lango', 100), ('5', '10 laipsniu silumos', 100), ('1', 'labas', 40), ('1', 'vakaras', 40), ('1', 'kokia grazi diena', 40), ('1', 'siandien uz lango', 40), ('1', '10 laipsniu silumos', 40), ('2', 'labas', 40), ('2', 'vakaras', 40), ('2', 'kokia grazi diena', 40), ('2', 'siandien uz lango', 40), ('2', '10 laipsniu silumos', 40), ('3', 'labas', 40), ('3', 'vakaras', 40), ('3', 'kokia grazi diena', 40), ('3', 'siandien uz lango', 40), ('3', '10 laipsniu silumos', 40), ('4', 'labas', 40), ('4', 'vakaras', 40), ('4', 'kokia grazi diena', 40), ('4', 'siandien uz lango', 40), ('4', '10 laipsniu silumos', 40), ('5', 'labas', 40), ('5', 'vakaras', 40), ('5', 'kokia grazi diena', 40), ('5', 'siandien uz lango', 40), ('5', '10 laipsniu silumos', 40), ('1', 'labas', 10), ('1', 'vakaras', 10), ('1', 'kokia grazi diena', 10), ('1', 'siandien uz lango', 10), ('1', '10 laipsniu silumos', 10), ('2', 'labas', 10), ('2', 'vakaras', 10), ('2', 'kokia grazi diena', 10), ('2', 'siandien uz lango', 10), ('2', '10 laipsniu silumos', 10), ('3', 'labas', 10), ('3', 'vakaras', 10), ('3', 'kokia grazi diena', 10), ('3', 'siandien uz lango', 10), ('3', '10 laipsniu silumos', 10), ('4', 'labas', 10), ('4', 'vakaras', 10), ('4', 'kokia grazi diena', 10), ('4', 'siandien uz lango', 10), ('4', '10 laipsniu silumos', 10), ('5', 'labas', 10), ('5', 'vakaras', 10), ('5', 'kokia grazi diena', 10), ('5', 'siandien uz lango', 10), ('5', '10 laipsniu silumos', 10)]\n"
     ]
    }
   ],
   "source": [
    "a = ['1','2','3','4','5']\n",
    "b = ['labas', 'vakaras', 'kokia grazi diena', 'siandien uz lango', '10 laipsniu silumos']\n",
    "c = ['100', '200', 40, 10]\n",
    "\n",
    "#combined_list = a + b +c\n",
    "#print(combined_list)\n",
    "\n",
    "#for skaicius in a:\n",
    "    #for tekstas in b:\n",
    "        #for Skaicius in c:\n",
    "            #print(skaicius, tekstas, Skaicius)\n",
    "\n",
    "kombinacijos = []\n",
    "for skaicius in a:\n",
    "    for zodis in b:\n",
    "        for Skaicius in c:\n",
    "            kombinacijos.append( (skaicius, zodis, int(Skaicius) ) )\n",
    "print(len(kombinacijos))\n",
    "kombinacijos.sort( key = lambda x: x[2], reverse = True )\n",
    "print(kombinacijos)\n",
    "\n",
    "#LAMBDA ISRAISKA"
   ]
  },
  {
   "cell_type": "markdown",
   "metadata": {},
   "source": [
    "# 2 dalis namu darbu"
   ]
  },
  {
   "cell_type": "markdown",
   "metadata": {},
   "source": [
    "Rasti pasikartojančius elementus tarp dviejų list\n",
    "a = [1,2,3,4,5,6,7,8,9,15]b = [3,8,9,11,15]\n",
    "\n",
    "rezultatas : c = [3,8,9,15]"
   ]
  },
  {
   "cell_type": "code",
   "execution_count": 14,
   "metadata": {},
   "outputs": [
    {
     "name": "stdout",
     "output_type": "stream",
     "text": [
      "{8, 9, 3, 15}\n"
     ]
    }
   ],
   "source": [
    "a = [1,2,3,4,5,6,7,8,9,15]\n",
    "b = [3,8,9,11,15]\n",
    "\n",
    "# pasikeisti i SET duomenu tipa, intersection funkcija\n",
    "\n",
    "a = set(a)\n",
    "b = set(b)\n",
    "\n",
    "print(a.intersection(b))\n"
   ]
  },
  {
   "cell_type": "markdown",
   "metadata": {},
   "source": [
    "2. Išfiltruoti unikalius teigiamus numeris iš sąrašo\n",
    "x = [1, 5, 1, 2, 8, -9, 10, 1, -8, -900, 14, 5, -8, 2, 1, -20, 900, 800, -6, -8, 12, 1]"
   ]
  },
  {
   "cell_type": "code",
   "execution_count": 28,
   "metadata": {},
   "outputs": [
    {
     "name": "stdout",
     "output_type": "stream",
     "text": [
      "[800, 1, 2, 900, 5, 8, 10, 12, 14]\n"
     ]
    }
   ],
   "source": [
    "x = [1, 5, 1, 2, 8, -9, 10, 1, -8, -900, 14, 5, -8, 2, 1, -20, 900, 800, -6, -8, 12, 1]\n",
    "\n",
    "x = set(x)\n",
    "\n",
    "res = []\n",
    "for num in x:\n",
    "    if num > 0:\n",
    "        res.append(num)\n",
    "print(res)   #reikia pasikurti papildoma lista i kuri desim rezultatus, nes kitaip\n",
    "                #isspaudins daug eiluciu\n"
   ]
  },
  {
   "cell_type": "markdown",
   "metadata": {},
   "source": [
    "3. Paskaičiuoti pelną pardavus visas prekes. Informacija apie kainą ir kiekius yra pateikiama  kaip dictionary, atsakymą suapvalinti iki 2 skaičių po kablelio\n",
    "x = { \"cost_price\": 32.67,\n",
    "         \"sell_price\": 45.00,      \n",
    "          “inventory\": 1212  }"
   ]
  },
  {
   "cell_type": "code",
   "execution_count": 38,
   "metadata": {},
   "outputs": [
    {
     "name": "stdout",
     "output_type": "stream",
     "text": [
      "14943.959999999997\n",
      "14943.96\n"
     ]
    }
   ],
   "source": [
    "x = { \"cost_price\": 32.67,\n",
    "         \"sell_price\": 45.00,\n",
    "        \"inventory\": 1212\n",
    "        }\n",
    "\n",
    "profit = (x['sell_price'] - x['cost_price']) * x['inventory']\n",
    "print(profit)\n",
    "print(round(profit,2))"
   ]
  },
  {
   "cell_type": "code",
   "execution_count": null,
   "metadata": {},
   "outputs": [],
   "source": []
  }
 ],
 "metadata": {
  "interpreter": {
   "hash": "597c27bdec948a723379e3862a7a52fdcff4b9ed54603ddf8d9b8d65ac298266"
  },
  "kernelspec": {
   "display_name": "Python 3.9.7 64-bit",
   "language": "python",
   "name": "python3"
  },
  "language_info": {
   "codemirror_mode": {
    "name": "ipython",
    "version": 3
   },
   "file_extension": ".py",
   "mimetype": "text/x-python",
   "name": "python",
   "nbconvert_exporter": "python",
   "pygments_lexer": "ipython3",
   "version": "3.9.7"
  },
  "orig_nbformat": 4
 },
 "nbformat": 4,
 "nbformat_minor": 2
}
