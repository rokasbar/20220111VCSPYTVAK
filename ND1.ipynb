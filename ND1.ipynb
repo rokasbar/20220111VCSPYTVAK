{
 "cells": [
  {
   "cell_type": "markdown",
   "metadata": {},
   "source": [
    "#1 uzduotis\n",
    "Iš pirmų 100 skaičių, jeigu skaičius dalinasi iš 2\n",
    "be liekanos, atspausdinkite ‘Fizz’, jeigu\n",
    "skaičius dalinasi iš 3 be liekanos\n",
    "atspausdinkite ‘Buzz’, jei skaičius dalinasi iš 2\n",
    "ir 3 be liekanos, atspausdinkite ‘FizzBuzz’"
   ]
  },
  {
   "cell_type": "code",
   "execution_count": 1,
   "metadata": {},
   "outputs": [
    {
     "name": "stdout",
     "output_type": "stream",
     "text": [
      "1 neatitinka salygu\n",
      "2 Fizz\n",
      "3 Buzz\n",
      "4 Fizz\n",
      "5 neatitinka salygu\n",
      "6 Fizz\n",
      "7 neatitinka salygu\n",
      "8 Fizz\n",
      "9 Buzz\n",
      "10 Fizz\n",
      "11 neatitinka salygu\n",
      "12 Fizz\n",
      "13 neatitinka salygu\n",
      "14 Fizz\n",
      "15 Buzz\n",
      "16 Fizz\n",
      "17 neatitinka salygu\n",
      "18 Fizz\n",
      "19 neatitinka salygu\n",
      "20 Fizz\n",
      "21 Buzz\n",
      "22 Fizz\n",
      "23 neatitinka salygu\n",
      "24 Fizz\n",
      "25 neatitinka salygu\n",
      "26 Fizz\n",
      "27 Buzz\n",
      "28 Fizz\n",
      "29 neatitinka salygu\n",
      "30 Fizz\n",
      "31 neatitinka salygu\n",
      "32 Fizz\n",
      "33 Buzz\n",
      "34 Fizz\n",
      "35 neatitinka salygu\n",
      "36 Fizz\n",
      "37 neatitinka salygu\n",
      "38 Fizz\n",
      "39 Buzz\n",
      "40 Fizz\n",
      "41 neatitinka salygu\n",
      "42 Fizz\n",
      "43 neatitinka salygu\n",
      "44 Fizz\n",
      "45 Buzz\n",
      "46 Fizz\n",
      "47 neatitinka salygu\n",
      "48 Fizz\n",
      "49 neatitinka salygu\n",
      "50 Fizz\n",
      "51 Buzz\n",
      "52 Fizz\n",
      "53 neatitinka salygu\n",
      "54 Fizz\n",
      "55 neatitinka salygu\n",
      "56 Fizz\n",
      "57 Buzz\n",
      "58 Fizz\n",
      "59 neatitinka salygu\n",
      "60 Fizz\n",
      "61 neatitinka salygu\n",
      "62 Fizz\n",
      "63 Buzz\n",
      "64 Fizz\n",
      "65 neatitinka salygu\n",
      "66 Fizz\n",
      "67 neatitinka salygu\n",
      "68 Fizz\n",
      "69 Buzz\n",
      "70 Fizz\n",
      "71 neatitinka salygu\n",
      "72 Fizz\n",
      "73 neatitinka salygu\n",
      "74 Fizz\n",
      "75 Buzz\n",
      "76 Fizz\n",
      "77 neatitinka salygu\n",
      "78 Fizz\n",
      "79 neatitinka salygu\n",
      "80 Fizz\n",
      "81 Buzz\n",
      "82 Fizz\n",
      "83 neatitinka salygu\n",
      "84 Fizz\n",
      "85 neatitinka salygu\n",
      "86 Fizz\n",
      "87 Buzz\n",
      "88 Fizz\n",
      "89 neatitinka salygu\n",
      "90 Fizz\n",
      "91 neatitinka salygu\n",
      "92 Fizz\n",
      "93 Buzz\n",
      "94 Fizz\n",
      "95 neatitinka salygu\n",
      "96 Fizz\n",
      "97 neatitinka salygu\n",
      "98 Fizz\n",
      "99 Buzz\n",
      "100 Fizz\n"
     ]
    }
   ],
   "source": [
    "for number in range(1,101):\n",
    "    if number % 2 == 0:\n",
    "        print(number,'Fizz')\n",
    "    elif number % 3 == 0:\n",
    "        print(number,'Buzz')\n",
    "    elif number % 3 == 0 and number %2 == 0:\n",
    "        print (number, 'FizzBuzz')\n",
    "    else:\n",
    "        print(number,'neatitinka salygu')\n"
   ]
  },
  {
   "cell_type": "markdown",
   "metadata": {},
   "source": [
    "2. Leiskite vartotojui pasirinkti skaičių, jeigu įvestas skaičius yra daugiau arba lygus 10, atspausdinkite visus skaičius iki pateikto skaičiaus, kurie dalinasi iš 5 su liekana"
   ]
  },
  {
   "cell_type": "code",
   "execution_count": 2,
   "metadata": {},
   "outputs": [
    {
     "name": "stdout",
     "output_type": "stream",
     "text": [
      "6\n",
      "7\n",
      "8\n",
      "9\n",
      "10\n",
      "11\n"
     ]
    }
   ],
   "source": [
    "number = input ('iveskite skaiciu')\n",
    "number = int(number) #pasiversti is simbolio i skaiciu\n",
    "if number >= 10:\n",
    "    for num in range(1,number):\n",
    "        if (num / 5) > 1:\n",
    "            print(num)\n",
    "else:\n",
    "    print('pasirinktas skaicius mazesnis nei 10')"
   ]
  },
  {
   "cell_type": "markdown",
   "metadata": {},
   "source": [
    "3. Koks yra sąrašo ilgis sudaryto iš pateiktų sąrašų kombinacijų, jeigu norime rasti visas įmanomas reikšmes? Išrikiuokite sąrašą nuo didžiausios iki mažiausios reikšmės (teks atlikti papildomų veiksmų tam atlikti teisingai)"
   ]
  },
  {
   "cell_type": "code",
   "execution_count": null,
   "metadata": {},
   "outputs": [],
   "source": [
    "a = ['1','2','3','4','5']\n",
    "b = ['labas', 'vakaras', 'kokia grazi diena', 'siandien uz lango', '10 laipsniu silumos']\n",
    "c = ['100', '200', 40, 10]\n",
    "\n",
    "#combined_list = a + b +c\n",
    "#print(combined_list)\n",
    "\n",
    "#for skaicius in a:\n",
    "    #for tekstas in b:\n",
    "        #for Skaicius in c:\n",
    "            #print(skaicius, tekstas, Skaicius)\n",
    "\n",
    "kombinacijos = []\n",
    "for skaicius in a:\n",
    "    for zodis in b:\n",
    "        for Skaicius in c:\n",
    "            kombinacijos.append( (skaicius, zodis, Skaicius) )\n",
    "print(len(kombinacijos))\n",
    "kombinacijos.sort(reverse=True)\n",
    "print(kombinacijos)\n"
   ]
  },
  {
   "cell_type": "code",
   "execution_count": null,
   "metadata": {},
   "outputs": [],
   "source": []
  }
 ],
 "metadata": {
  "interpreter": {
   "hash": "597c27bdec948a723379e3862a7a52fdcff4b9ed54603ddf8d9b8d65ac298266"
  },
  "kernelspec": {
   "display_name": "Python 3.9.7 64-bit",
   "language": "python",
   "name": "python3"
  },
  "language_info": {
   "codemirror_mode": {
    "name": "ipython",
    "version": 3
   },
   "file_extension": ".py",
   "mimetype": "text/x-python",
   "name": "python",
   "nbconvert_exporter": "python",
   "pygments_lexer": "ipython3",
   "version": "3.9.7"
  },
  "orig_nbformat": 4
 },
 "nbformat": 4,
 "nbformat_minor": 2
}
